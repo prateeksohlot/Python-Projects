{
 "cells": [
  {
   "cell_type": "markdown",
   "id": "d68b203e",
   "metadata": {
    "papermill": {
     "duration": 0.032598,
     "end_time": "2021-11-10T13:47:55.069599",
     "exception": false,
     "start_time": "2021-11-10T13:47:55.037001",
     "status": "completed"
    },
    "tags": []
   },
   "source": [
    "# Titanic Dataset\n",
    "\n",
    "Titanic Competition is ususally the first competition an aspiring data scientist compete in. The dataset contains details for all the passengers who boarded Titanic on its maiden voyage in 1912.with label whether they survived or not. \n",
    "\n",
    "The data \n",
    "Since, this is my first notebook being published. Any constructive critism is welcomed."
   ]
  },
  {
   "cell_type": "code",
   "execution_count": 1,
   "id": "cbb80e2d",
   "metadata": {
    "_cell_guid": "b1076dfc-b9ad-4769-8c92-a6c4dae69d19",
    "_uuid": "8f2839f25d086af736a60e9eeb907d3b93b6e0e5",
    "execution": {
     "iopub.execute_input": "2021-11-10T13:47:55.138218Z",
     "iopub.status.busy": "2021-11-10T13:47:55.136543Z",
     "iopub.status.idle": "2021-11-10T13:47:57.580946Z",
     "shell.execute_reply": "2021-11-10T13:47:57.580248Z",
     "shell.execute_reply.started": "2021-11-10T13:15:26.713828Z"
    },
    "papermill": {
     "duration": 2.47944,
     "end_time": "2021-11-10T13:47:57.581129",
     "exception": false,
     "start_time": "2021-11-10T13:47:55.101689",
     "status": "completed"
    },
    "tags": []
   },
   "outputs": [
    {
     "name": "stdout",
     "output_type": "stream",
     "text": [
      "/kaggle/input/titanic/train.csv\n",
      "/kaggle/input/titanic/test.csv\n",
      "/kaggle/input/titanic/gender_submission.csv\n"
     ]
    }
   ],
   "source": [
    "#Importing relevant libraries\n",
    "import numpy as np # linear algebra\n",
    "import pandas as pd # data processing, CSV file I/O (e.g. pd.read_csv)\n",
    "import matplotlib.pyplot as plt #plotting\n",
    "import seaborn as sns #prettier Plotting\n",
    "import plotly.express as px # Do explore it!\n",
    "import plotly.graph_objects as go\n",
    "from plotly.subplots import make_subplots\n",
    "from sklearn.model_selection import train_test_split\n",
    "from sklearn.linear_model import LogisticRegression\n",
    "from sklearn.ensemble import RandomForestClassifier\n",
    "from sklearn.svm import SVC\n",
    "from sklearn.metrics import f1_score\n",
    "\n",
    "\n",
    "import os\n",
    "for dirname, _, filenames in os.walk('/kaggle/input'):\n",
    "    for filename in filenames:\n",
    "        print(os.path.join(dirname, filename))"
   ]
  },
  {
   "cell_type": "markdown",
   "id": "7c8264af",
   "metadata": {
    "papermill": {
     "duration": 0.032071,
     "end_time": "2021-11-10T13:47:57.645595",
     "exception": false,
     "start_time": "2021-11-10T13:47:57.613524",
     "status": "completed"
    },
    "tags": []
   },
   "source": [
    "## Loading Data"
   ]
  },
  {
   "cell_type": "code",
   "execution_count": 2,
   "id": "58903011",
   "metadata": {
    "execution": {
     "iopub.execute_input": "2021-11-10T13:47:57.715021Z",
     "iopub.status.busy": "2021-11-10T13:47:57.712119Z",
     "iopub.status.idle": "2021-11-10T13:47:57.749469Z",
     "shell.execute_reply": "2021-11-10T13:47:57.750129Z",
     "shell.execute_reply.started": "2021-11-10T13:15:29.549866Z"
    },
    "papermill": {
     "duration": 0.072573,
     "end_time": "2021-11-10T13:47:57.750318",
     "exception": false,
     "start_time": "2021-11-10T13:47:57.677745",
     "status": "completed"
    },
    "tags": []
   },
   "outputs": [
    {
     "name": "stdout",
     "output_type": "stream",
     "text": [
      "Train dataset has 891 rows and 11 columns\n",
      "Test dataset has 418 rows and 10 columns\n"
     ]
    }
   ],
   "source": [
    "train = pd.read_csv('/kaggle/input/titanic/train.csv', index_col = 'PassengerId')\n",
    "test = pd.read_csv('/kaggle/input/titanic/test.csv', index_col = 'PassengerId')\n",
    "\n",
    "print('Train dataset has {} rows and {} columns'.format(train.shape[0], train.shape[1]))\n",
    "print('Test dataset has {} rows and {} columns'.format(test.shape[0], test.shape[1]))"
   ]
  },
  {
   "cell_type": "code",
   "execution_count": 3,
   "id": "45455d93",
   "metadata": {
    "execution": {
     "iopub.execute_input": "2021-11-10T13:47:57.818783Z",
     "iopub.status.busy": "2021-11-10T13:47:57.817750Z",
     "iopub.status.idle": "2021-11-10T13:47:57.855487Z",
     "shell.execute_reply": "2021-11-10T13:47:57.856035Z",
     "shell.execute_reply.started": "2021-11-10T13:15:29.590613Z"
    },
    "papermill": {
     "duration": 0.072679,
     "end_time": "2021-11-10T13:47:57.856206",
     "exception": false,
     "start_time": "2021-11-10T13:47:57.783527",
     "status": "completed"
    },
    "tags": []
   },
   "outputs": [
    {
     "name": "stdout",
     "output_type": "stream",
     "text": [
      "Training Data:\n"
     ]
    },
    {
     "data": {
      "text/html": [
       "<div>\n",
       "<style scoped>\n",
       "    .dataframe tbody tr th:only-of-type {\n",
       "        vertical-align: middle;\n",
       "    }\n",
       "\n",
       "    .dataframe tbody tr th {\n",
       "        vertical-align: top;\n",
       "    }\n",
       "\n",
       "    .dataframe thead th {\n",
       "        text-align: right;\n",
       "    }\n",
       "</style>\n",
       "<table border=\"1\" class=\"dataframe\">\n",
       "  <thead>\n",
       "    <tr style=\"text-align: right;\">\n",
       "      <th>PassengerId</th>\n",
       "      <th>1</th>\n",
       "      <th>2</th>\n",
       "      <th>3</th>\n",
       "      <th>4</th>\n",
       "      <th>5</th>\n",
       "      <th>6</th>\n",
       "      <th>7</th>\n",
       "      <th>8</th>\n",
       "    </tr>\n",
       "  </thead>\n",
       "  <tbody>\n",
       "    <tr>\n",
       "      <th>Survived</th>\n",
       "      <td>0</td>\n",
       "      <td>1</td>\n",
       "      <td>1</td>\n",
       "      <td>1</td>\n",
       "      <td>0</td>\n",
       "      <td>0</td>\n",
       "      <td>0</td>\n",
       "      <td>0</td>\n",
       "    </tr>\n",
       "    <tr>\n",
       "      <th>Pclass</th>\n",
       "      <td>3</td>\n",
       "      <td>1</td>\n",
       "      <td>3</td>\n",
       "      <td>1</td>\n",
       "      <td>3</td>\n",
       "      <td>3</td>\n",
       "      <td>1</td>\n",
       "      <td>3</td>\n",
       "    </tr>\n",
       "    <tr>\n",
       "      <th>Name</th>\n",
       "      <td>Braund, Mr. Owen Harris</td>\n",
       "      <td>Cumings, Mrs. John Bradley (Florence Briggs Th...</td>\n",
       "      <td>Heikkinen, Miss. Laina</td>\n",
       "      <td>Futrelle, Mrs. Jacques Heath (Lily May Peel)</td>\n",
       "      <td>Allen, Mr. William Henry</td>\n",
       "      <td>Moran, Mr. James</td>\n",
       "      <td>McCarthy, Mr. Timothy J</td>\n",
       "      <td>Palsson, Master. Gosta Leonard</td>\n",
       "    </tr>\n",
       "    <tr>\n",
       "      <th>Sex</th>\n",
       "      <td>male</td>\n",
       "      <td>female</td>\n",
       "      <td>female</td>\n",
       "      <td>female</td>\n",
       "      <td>male</td>\n",
       "      <td>male</td>\n",
       "      <td>male</td>\n",
       "      <td>male</td>\n",
       "    </tr>\n",
       "    <tr>\n",
       "      <th>Age</th>\n",
       "      <td>22.0</td>\n",
       "      <td>38.0</td>\n",
       "      <td>26.0</td>\n",
       "      <td>35.0</td>\n",
       "      <td>35.0</td>\n",
       "      <td>NaN</td>\n",
       "      <td>54.0</td>\n",
       "      <td>2.0</td>\n",
       "    </tr>\n",
       "    <tr>\n",
       "      <th>SibSp</th>\n",
       "      <td>1</td>\n",
       "      <td>1</td>\n",
       "      <td>0</td>\n",
       "      <td>1</td>\n",
       "      <td>0</td>\n",
       "      <td>0</td>\n",
       "      <td>0</td>\n",
       "      <td>3</td>\n",
       "    </tr>\n",
       "    <tr>\n",
       "      <th>Parch</th>\n",
       "      <td>0</td>\n",
       "      <td>0</td>\n",
       "      <td>0</td>\n",
       "      <td>0</td>\n",
       "      <td>0</td>\n",
       "      <td>0</td>\n",
       "      <td>0</td>\n",
       "      <td>1</td>\n",
       "    </tr>\n",
       "    <tr>\n",
       "      <th>Ticket</th>\n",
       "      <td>A/5 21171</td>\n",
       "      <td>PC 17599</td>\n",
       "      <td>STON/O2. 3101282</td>\n",
       "      <td>113803</td>\n",
       "      <td>373450</td>\n",
       "      <td>330877</td>\n",
       "      <td>17463</td>\n",
       "      <td>349909</td>\n",
       "    </tr>\n",
       "    <tr>\n",
       "      <th>Fare</th>\n",
       "      <td>7.25</td>\n",
       "      <td>71.2833</td>\n",
       "      <td>7.925</td>\n",
       "      <td>53.1</td>\n",
       "      <td>8.05</td>\n",
       "      <td>8.4583</td>\n",
       "      <td>51.8625</td>\n",
       "      <td>21.075</td>\n",
       "    </tr>\n",
       "    <tr>\n",
       "      <th>Cabin</th>\n",
       "      <td>NaN</td>\n",
       "      <td>C85</td>\n",
       "      <td>NaN</td>\n",
       "      <td>C123</td>\n",
       "      <td>NaN</td>\n",
       "      <td>NaN</td>\n",
       "      <td>E46</td>\n",
       "      <td>NaN</td>\n",
       "    </tr>\n",
       "    <tr>\n",
       "      <th>Embarked</th>\n",
       "      <td>S</td>\n",
       "      <td>C</td>\n",
       "      <td>S</td>\n",
       "      <td>S</td>\n",
       "      <td>S</td>\n",
       "      <td>Q</td>\n",
       "      <td>S</td>\n",
       "      <td>S</td>\n",
       "    </tr>\n",
       "  </tbody>\n",
       "</table>\n",
       "</div>"
      ],
      "text/plain": [
       "PassengerId                        1  \\\n",
       "Survived                           0   \n",
       "Pclass                             3   \n",
       "Name         Braund, Mr. Owen Harris   \n",
       "Sex                             male   \n",
       "Age                             22.0   \n",
       "SibSp                              1   \n",
       "Parch                              0   \n",
       "Ticket                     A/5 21171   \n",
       "Fare                            7.25   \n",
       "Cabin                            NaN   \n",
       "Embarked                           S   \n",
       "\n",
       "PassengerId                                                  2  \\\n",
       "Survived                                                     1   \n",
       "Pclass                                                       1   \n",
       "Name         Cumings, Mrs. John Bradley (Florence Briggs Th...   \n",
       "Sex                                                     female   \n",
       "Age                                                       38.0   \n",
       "SibSp                                                        1   \n",
       "Parch                                                        0   \n",
       "Ticket                                                PC 17599   \n",
       "Fare                                                   71.2833   \n",
       "Cabin                                                      C85   \n",
       "Embarked                                                     C   \n",
       "\n",
       "PassengerId                       3  \\\n",
       "Survived                          1   \n",
       "Pclass                            3   \n",
       "Name         Heikkinen, Miss. Laina   \n",
       "Sex                          female   \n",
       "Age                            26.0   \n",
       "SibSp                             0   \n",
       "Parch                             0   \n",
       "Ticket             STON/O2. 3101282   \n",
       "Fare                          7.925   \n",
       "Cabin                           NaN   \n",
       "Embarked                          S   \n",
       "\n",
       "PassengerId                                             4  \\\n",
       "Survived                                                1   \n",
       "Pclass                                                  1   \n",
       "Name         Futrelle, Mrs. Jacques Heath (Lily May Peel)   \n",
       "Sex                                                female   \n",
       "Age                                                  35.0   \n",
       "SibSp                                                   1   \n",
       "Parch                                                   0   \n",
       "Ticket                                             113803   \n",
       "Fare                                                 53.1   \n",
       "Cabin                                                C123   \n",
       "Embarked                                                S   \n",
       "\n",
       "PassengerId                         5                 6  \\\n",
       "Survived                            0                 0   \n",
       "Pclass                              3                 3   \n",
       "Name         Allen, Mr. William Henry  Moran, Mr. James   \n",
       "Sex                              male              male   \n",
       "Age                              35.0               NaN   \n",
       "SibSp                               0                 0   \n",
       "Parch                               0                 0   \n",
       "Ticket                         373450            330877   \n",
       "Fare                             8.05            8.4583   \n",
       "Cabin                             NaN               NaN   \n",
       "Embarked                            S                 Q   \n",
       "\n",
       "PassengerId                        7                               8  \n",
       "Survived                           0                               0  \n",
       "Pclass                             1                               3  \n",
       "Name         McCarthy, Mr. Timothy J  Palsson, Master. Gosta Leonard  \n",
       "Sex                             male                            male  \n",
       "Age                             54.0                             2.0  \n",
       "SibSp                              0                               3  \n",
       "Parch                              0                               1  \n",
       "Ticket                         17463                          349909  \n",
       "Fare                         51.8625                          21.075  \n",
       "Cabin                            E46                             NaN  \n",
       "Embarked                           S                               S  "
      ]
     },
     "metadata": {},
     "output_type": "display_data"
    },
    {
     "name": "stdout",
     "output_type": "stream",
     "text": [
      "********************************************************************************************************************************************************************************************************\n",
      "Testing Data:\n"
     ]
    },
    {
     "data": {
      "text/html": [
       "<div>\n",
       "<style scoped>\n",
       "    .dataframe tbody tr th:only-of-type {\n",
       "        vertical-align: middle;\n",
       "    }\n",
       "\n",
       "    .dataframe tbody tr th {\n",
       "        vertical-align: top;\n",
       "    }\n",
       "\n",
       "    .dataframe thead th {\n",
       "        text-align: right;\n",
       "    }\n",
       "</style>\n",
       "<table border=\"1\" class=\"dataframe\">\n",
       "  <thead>\n",
       "    <tr style=\"text-align: right;\">\n",
       "      <th>PassengerId</th>\n",
       "      <th>892</th>\n",
       "      <th>893</th>\n",
       "      <th>894</th>\n",
       "      <th>895</th>\n",
       "      <th>896</th>\n",
       "      <th>897</th>\n",
       "      <th>898</th>\n",
       "      <th>899</th>\n",
       "    </tr>\n",
       "  </thead>\n",
       "  <tbody>\n",
       "    <tr>\n",
       "      <th>Pclass</th>\n",
       "      <td>3</td>\n",
       "      <td>3</td>\n",
       "      <td>2</td>\n",
       "      <td>3</td>\n",
       "      <td>3</td>\n",
       "      <td>3</td>\n",
       "      <td>3</td>\n",
       "      <td>2</td>\n",
       "    </tr>\n",
       "    <tr>\n",
       "      <th>Name</th>\n",
       "      <td>Kelly, Mr. James</td>\n",
       "      <td>Wilkes, Mrs. James (Ellen Needs)</td>\n",
       "      <td>Myles, Mr. Thomas Francis</td>\n",
       "      <td>Wirz, Mr. Albert</td>\n",
       "      <td>Hirvonen, Mrs. Alexander (Helga E Lindqvist)</td>\n",
       "      <td>Svensson, Mr. Johan Cervin</td>\n",
       "      <td>Connolly, Miss. Kate</td>\n",
       "      <td>Caldwell, Mr. Albert Francis</td>\n",
       "    </tr>\n",
       "    <tr>\n",
       "      <th>Sex</th>\n",
       "      <td>male</td>\n",
       "      <td>female</td>\n",
       "      <td>male</td>\n",
       "      <td>male</td>\n",
       "      <td>female</td>\n",
       "      <td>male</td>\n",
       "      <td>female</td>\n",
       "      <td>male</td>\n",
       "    </tr>\n",
       "    <tr>\n",
       "      <th>Age</th>\n",
       "      <td>34.5</td>\n",
       "      <td>47.0</td>\n",
       "      <td>62.0</td>\n",
       "      <td>27.0</td>\n",
       "      <td>22.0</td>\n",
       "      <td>14.0</td>\n",
       "      <td>30.0</td>\n",
       "      <td>26.0</td>\n",
       "    </tr>\n",
       "    <tr>\n",
       "      <th>SibSp</th>\n",
       "      <td>0</td>\n",
       "      <td>1</td>\n",
       "      <td>0</td>\n",
       "      <td>0</td>\n",
       "      <td>1</td>\n",
       "      <td>0</td>\n",
       "      <td>0</td>\n",
       "      <td>1</td>\n",
       "    </tr>\n",
       "    <tr>\n",
       "      <th>Parch</th>\n",
       "      <td>0</td>\n",
       "      <td>0</td>\n",
       "      <td>0</td>\n",
       "      <td>0</td>\n",
       "      <td>1</td>\n",
       "      <td>0</td>\n",
       "      <td>0</td>\n",
       "      <td>1</td>\n",
       "    </tr>\n",
       "    <tr>\n",
       "      <th>Ticket</th>\n",
       "      <td>330911</td>\n",
       "      <td>363272</td>\n",
       "      <td>240276</td>\n",
       "      <td>315154</td>\n",
       "      <td>3101298</td>\n",
       "      <td>7538</td>\n",
       "      <td>330972</td>\n",
       "      <td>248738</td>\n",
       "    </tr>\n",
       "    <tr>\n",
       "      <th>Fare</th>\n",
       "      <td>7.8292</td>\n",
       "      <td>7.0</td>\n",
       "      <td>9.6875</td>\n",
       "      <td>8.6625</td>\n",
       "      <td>12.2875</td>\n",
       "      <td>9.225</td>\n",
       "      <td>7.6292</td>\n",
       "      <td>29.0</td>\n",
       "    </tr>\n",
       "    <tr>\n",
       "      <th>Cabin</th>\n",
       "      <td>NaN</td>\n",
       "      <td>NaN</td>\n",
       "      <td>NaN</td>\n",
       "      <td>NaN</td>\n",
       "      <td>NaN</td>\n",
       "      <td>NaN</td>\n",
       "      <td>NaN</td>\n",
       "      <td>NaN</td>\n",
       "    </tr>\n",
       "    <tr>\n",
       "      <th>Embarked</th>\n",
       "      <td>Q</td>\n",
       "      <td>S</td>\n",
       "      <td>Q</td>\n",
       "      <td>S</td>\n",
       "      <td>S</td>\n",
       "      <td>S</td>\n",
       "      <td>Q</td>\n",
       "      <td>S</td>\n",
       "    </tr>\n",
       "  </tbody>\n",
       "</table>\n",
       "</div>"
      ],
      "text/plain": [
       "PassengerId               892                               893  \\\n",
       "Pclass                      3                                 3   \n",
       "Name         Kelly, Mr. James  Wilkes, Mrs. James (Ellen Needs)   \n",
       "Sex                      male                            female   \n",
       "Age                      34.5                              47.0   \n",
       "SibSp                       0                                 1   \n",
       "Parch                       0                                 0   \n",
       "Ticket                 330911                            363272   \n",
       "Fare                   7.8292                               7.0   \n",
       "Cabin                     NaN                               NaN   \n",
       "Embarked                    Q                                 S   \n",
       "\n",
       "PassengerId                        894               895  \\\n",
       "Pclass                               2                 3   \n",
       "Name         Myles, Mr. Thomas Francis  Wirz, Mr. Albert   \n",
       "Sex                               male              male   \n",
       "Age                               62.0              27.0   \n",
       "SibSp                                0                 0   \n",
       "Parch                                0                 0   \n",
       "Ticket                          240276            315154   \n",
       "Fare                            9.6875            8.6625   \n",
       "Cabin                              NaN               NaN   \n",
       "Embarked                             Q                 S   \n",
       "\n",
       "PassengerId                                           896  \\\n",
       "Pclass                                                  3   \n",
       "Name         Hirvonen, Mrs. Alexander (Helga E Lindqvist)   \n",
       "Sex                                                female   \n",
       "Age                                                  22.0   \n",
       "SibSp                                                   1   \n",
       "Parch                                                   1   \n",
       "Ticket                                            3101298   \n",
       "Fare                                              12.2875   \n",
       "Cabin                                                 NaN   \n",
       "Embarked                                                S   \n",
       "\n",
       "PassengerId                         897                   898  \\\n",
       "Pclass                                3                     3   \n",
       "Name         Svensson, Mr. Johan Cervin  Connolly, Miss. Kate   \n",
       "Sex                                male                female   \n",
       "Age                                14.0                  30.0   \n",
       "SibSp                                 0                     0   \n",
       "Parch                                 0                     0   \n",
       "Ticket                             7538                330972   \n",
       "Fare                              9.225                7.6292   \n",
       "Cabin                               NaN                   NaN   \n",
       "Embarked                              S                     Q   \n",
       "\n",
       "PassengerId                           899  \n",
       "Pclass                                  2  \n",
       "Name         Caldwell, Mr. Albert Francis  \n",
       "Sex                                  male  \n",
       "Age                                  26.0  \n",
       "SibSp                                   1  \n",
       "Parch                                   1  \n",
       "Ticket                             248738  \n",
       "Fare                                 29.0  \n",
       "Cabin                                 NaN  \n",
       "Embarked                                S  "
      ]
     },
     "metadata": {},
     "output_type": "display_data"
    }
   ],
   "source": [
    "print('Training Data:')\n",
    "display(train.head(8).T)\n",
    "print('*'*200)\n",
    "print('Testing Data:')\n",
    "display(test.head(8).T)"
   ]
  },
  {
   "cell_type": "code",
   "execution_count": 4,
   "id": "7dce07a3",
   "metadata": {
    "execution": {
     "iopub.execute_input": "2021-11-10T13:47:57.928898Z",
     "iopub.status.busy": "2021-11-10T13:47:57.928237Z",
     "iopub.status.idle": "2021-11-10T13:47:57.969540Z",
     "shell.execute_reply": "2021-11-10T13:47:57.968972Z",
     "shell.execute_reply.started": "2021-11-10T13:15:29.635247Z"
    },
    "papermill": {
     "duration": 0.079235,
     "end_time": "2021-11-10T13:47:57.969702",
     "exception": false,
     "start_time": "2021-11-10T13:47:57.890467",
     "status": "completed"
    },
    "tags": []
   },
   "outputs": [
    {
     "data": {
      "text/html": [
       "<div>\n",
       "<style scoped>\n",
       "    .dataframe tbody tr th:only-of-type {\n",
       "        vertical-align: middle;\n",
       "    }\n",
       "\n",
       "    .dataframe tbody tr th {\n",
       "        vertical-align: top;\n",
       "    }\n",
       "\n",
       "    .dataframe thead th {\n",
       "        text-align: right;\n",
       "    }\n",
       "</style>\n",
       "<table border=\"1\" class=\"dataframe\">\n",
       "  <thead>\n",
       "    <tr style=\"text-align: right;\">\n",
       "      <th></th>\n",
       "      <th>count</th>\n",
       "      <th>unique</th>\n",
       "      <th>top</th>\n",
       "      <th>freq</th>\n",
       "      <th>mean</th>\n",
       "      <th>std</th>\n",
       "      <th>min</th>\n",
       "      <th>25%</th>\n",
       "      <th>50%</th>\n",
       "      <th>75%</th>\n",
       "      <th>max</th>\n",
       "    </tr>\n",
       "  </thead>\n",
       "  <tbody>\n",
       "    <tr>\n",
       "      <th>Survived</th>\n",
       "      <td>891.0</td>\n",
       "      <td>NaN</td>\n",
       "      <td>NaN</td>\n",
       "      <td>NaN</td>\n",
       "      <td>0.383838</td>\n",
       "      <td>0.486592</td>\n",
       "      <td>0.0</td>\n",
       "      <td>0.0</td>\n",
       "      <td>0.0</td>\n",
       "      <td>1.0</td>\n",
       "      <td>1.0</td>\n",
       "    </tr>\n",
       "    <tr>\n",
       "      <th>Pclass</th>\n",
       "      <td>891.0</td>\n",
       "      <td>NaN</td>\n",
       "      <td>NaN</td>\n",
       "      <td>NaN</td>\n",
       "      <td>2.308642</td>\n",
       "      <td>0.836071</td>\n",
       "      <td>1.0</td>\n",
       "      <td>2.0</td>\n",
       "      <td>3.0</td>\n",
       "      <td>3.0</td>\n",
       "      <td>3.0</td>\n",
       "    </tr>\n",
       "    <tr>\n",
       "      <th>Name</th>\n",
       "      <td>891</td>\n",
       "      <td>891</td>\n",
       "      <td>Braund, Mr. Owen Harris</td>\n",
       "      <td>1</td>\n",
       "      <td>NaN</td>\n",
       "      <td>NaN</td>\n",
       "      <td>NaN</td>\n",
       "      <td>NaN</td>\n",
       "      <td>NaN</td>\n",
       "      <td>NaN</td>\n",
       "      <td>NaN</td>\n",
       "    </tr>\n",
       "    <tr>\n",
       "      <th>Sex</th>\n",
       "      <td>891</td>\n",
       "      <td>2</td>\n",
       "      <td>male</td>\n",
       "      <td>577</td>\n",
       "      <td>NaN</td>\n",
       "      <td>NaN</td>\n",
       "      <td>NaN</td>\n",
       "      <td>NaN</td>\n",
       "      <td>NaN</td>\n",
       "      <td>NaN</td>\n",
       "      <td>NaN</td>\n",
       "    </tr>\n",
       "    <tr>\n",
       "      <th>Age</th>\n",
       "      <td>714.0</td>\n",
       "      <td>NaN</td>\n",
       "      <td>NaN</td>\n",
       "      <td>NaN</td>\n",
       "      <td>29.699118</td>\n",
       "      <td>14.526497</td>\n",
       "      <td>0.42</td>\n",
       "      <td>20.125</td>\n",
       "      <td>28.0</td>\n",
       "      <td>38.0</td>\n",
       "      <td>80.0</td>\n",
       "    </tr>\n",
       "    <tr>\n",
       "      <th>SibSp</th>\n",
       "      <td>891.0</td>\n",
       "      <td>NaN</td>\n",
       "      <td>NaN</td>\n",
       "      <td>NaN</td>\n",
       "      <td>0.523008</td>\n",
       "      <td>1.102743</td>\n",
       "      <td>0.0</td>\n",
       "      <td>0.0</td>\n",
       "      <td>0.0</td>\n",
       "      <td>1.0</td>\n",
       "      <td>8.0</td>\n",
       "    </tr>\n",
       "    <tr>\n",
       "      <th>Parch</th>\n",
       "      <td>891.0</td>\n",
       "      <td>NaN</td>\n",
       "      <td>NaN</td>\n",
       "      <td>NaN</td>\n",
       "      <td>0.381594</td>\n",
       "      <td>0.806057</td>\n",
       "      <td>0.0</td>\n",
       "      <td>0.0</td>\n",
       "      <td>0.0</td>\n",
       "      <td>0.0</td>\n",
       "      <td>6.0</td>\n",
       "    </tr>\n",
       "    <tr>\n",
       "      <th>Ticket</th>\n",
       "      <td>891</td>\n",
       "      <td>681</td>\n",
       "      <td>347082</td>\n",
       "      <td>7</td>\n",
       "      <td>NaN</td>\n",
       "      <td>NaN</td>\n",
       "      <td>NaN</td>\n",
       "      <td>NaN</td>\n",
       "      <td>NaN</td>\n",
       "      <td>NaN</td>\n",
       "      <td>NaN</td>\n",
       "    </tr>\n",
       "    <tr>\n",
       "      <th>Fare</th>\n",
       "      <td>891.0</td>\n",
       "      <td>NaN</td>\n",
       "      <td>NaN</td>\n",
       "      <td>NaN</td>\n",
       "      <td>32.204208</td>\n",
       "      <td>49.693429</td>\n",
       "      <td>0.0</td>\n",
       "      <td>7.9104</td>\n",
       "      <td>14.4542</td>\n",
       "      <td>31.0</td>\n",
       "      <td>512.3292</td>\n",
       "    </tr>\n",
       "    <tr>\n",
       "      <th>Cabin</th>\n",
       "      <td>204</td>\n",
       "      <td>147</td>\n",
       "      <td>B96 B98</td>\n",
       "      <td>4</td>\n",
       "      <td>NaN</td>\n",
       "      <td>NaN</td>\n",
       "      <td>NaN</td>\n",
       "      <td>NaN</td>\n",
       "      <td>NaN</td>\n",
       "      <td>NaN</td>\n",
       "      <td>NaN</td>\n",
       "    </tr>\n",
       "    <tr>\n",
       "      <th>Embarked</th>\n",
       "      <td>889</td>\n",
       "      <td>3</td>\n",
       "      <td>S</td>\n",
       "      <td>644</td>\n",
       "      <td>NaN</td>\n",
       "      <td>NaN</td>\n",
       "      <td>NaN</td>\n",
       "      <td>NaN</td>\n",
       "      <td>NaN</td>\n",
       "      <td>NaN</td>\n",
       "      <td>NaN</td>\n",
       "    </tr>\n",
       "  </tbody>\n",
       "</table>\n",
       "</div>"
      ],
      "text/plain": [
       "          count unique                      top freq       mean        std  \\\n",
       "Survived  891.0    NaN                      NaN  NaN   0.383838   0.486592   \n",
       "Pclass    891.0    NaN                      NaN  NaN   2.308642   0.836071   \n",
       "Name        891    891  Braund, Mr. Owen Harris    1        NaN        NaN   \n",
       "Sex         891      2                     male  577        NaN        NaN   \n",
       "Age       714.0    NaN                      NaN  NaN  29.699118  14.526497   \n",
       "SibSp     891.0    NaN                      NaN  NaN   0.523008   1.102743   \n",
       "Parch     891.0    NaN                      NaN  NaN   0.381594   0.806057   \n",
       "Ticket      891    681                   347082    7        NaN        NaN   \n",
       "Fare      891.0    NaN                      NaN  NaN  32.204208  49.693429   \n",
       "Cabin       204    147                  B96 B98    4        NaN        NaN   \n",
       "Embarked    889      3                        S  644        NaN        NaN   \n",
       "\n",
       "           min     25%      50%   75%       max  \n",
       "Survived   0.0     0.0      0.0   1.0       1.0  \n",
       "Pclass     1.0     2.0      3.0   3.0       3.0  \n",
       "Name       NaN     NaN      NaN   NaN       NaN  \n",
       "Sex        NaN     NaN      NaN   NaN       NaN  \n",
       "Age       0.42  20.125     28.0  38.0      80.0  \n",
       "SibSp      0.0     0.0      0.0   1.0       8.0  \n",
       "Parch      0.0     0.0      0.0   0.0       6.0  \n",
       "Ticket     NaN     NaN      NaN   NaN       NaN  \n",
       "Fare       0.0  7.9104  14.4542  31.0  512.3292  \n",
       "Cabin      NaN     NaN      NaN   NaN       NaN  \n",
       "Embarked   NaN     NaN      NaN   NaN       NaN  "
      ]
     },
     "execution_count": 4,
     "metadata": {},
     "output_type": "execute_result"
    }
   ],
   "source": [
    "train.describe(include = 'all').T"
   ]
  },
  {
   "cell_type": "code",
   "execution_count": 5,
   "id": "2e763c15",
   "metadata": {
    "execution": {
     "iopub.execute_input": "2021-11-10T13:47:58.043370Z",
     "iopub.status.busy": "2021-11-10T13:47:58.042265Z",
     "iopub.status.idle": "2021-11-10T13:47:58.050285Z",
     "shell.execute_reply": "2021-11-10T13:47:58.050898Z",
     "shell.execute_reply.started": "2021-11-10T13:15:29.685723Z"
    },
    "papermill": {
     "duration": 0.048029,
     "end_time": "2021-11-10T13:47:58.051087",
     "exception": false,
     "start_time": "2021-11-10T13:47:58.003058",
     "status": "completed"
    },
    "tags": []
   },
   "outputs": [
    {
     "name": "stdout",
     "output_type": "stream",
     "text": [
      "Missing values in training data : Survived      0\n",
      "Pclass        0\n",
      "Name          0\n",
      "Sex           0\n",
      "Age         177\n",
      "SibSp         0\n",
      "Parch         0\n",
      "Ticket        0\n",
      "Fare          0\n",
      "Cabin       687\n",
      "Embarked      2\n",
      "dtype: int64\n",
      "**************************************************\n",
      "Missing values in training data : Pclass        0\n",
      "Name          0\n",
      "Sex           0\n",
      "Age          86\n",
      "SibSp         0\n",
      "Parch         0\n",
      "Ticket        0\n",
      "Fare          1\n",
      "Cabin       327\n",
      "Embarked      0\n",
      "dtype: int64\n"
     ]
    }
   ],
   "source": [
    "# Check for any missing values\n",
    "print('Missing values in training data :', train.isnull().sum() )\n",
    "print('*'*50)\n",
    "print('Missing values in training data :', test.isnull().sum() )"
   ]
  },
  {
   "cell_type": "markdown",
   "id": "ed911963",
   "metadata": {
    "papermill": {
     "duration": 0.035419,
     "end_time": "2021-11-10T13:47:58.121272",
     "exception": false,
     "start_time": "2021-11-10T13:47:58.085853",
     "status": "completed"
    },
    "tags": []
   },
   "source": [
    "## Dealing with Missing Values"
   ]
  },
  {
   "cell_type": "code",
   "execution_count": 6,
   "id": "08711f93",
   "metadata": {
    "execution": {
     "iopub.execute_input": "2021-11-10T13:47:58.195868Z",
     "iopub.status.busy": "2021-11-10T13:47:58.193181Z",
     "iopub.status.idle": "2021-11-10T13:47:58.201924Z",
     "shell.execute_reply": "2021-11-10T13:47:58.202869Z",
     "shell.execute_reply.started": "2021-11-10T13:15:29.702515Z"
    },
    "papermill": {
     "duration": 0.047494,
     "end_time": "2021-11-10T13:47:58.203147",
     "exception": false,
     "start_time": "2021-11-10T13:47:58.155653",
     "status": "completed"
    },
    "tags": []
   },
   "outputs": [
    {
     "name": "stdout",
     "output_type": "stream",
     "text": [
      "Percentage of Mising values in Cabin: 0.7710437710437711\n",
      "**************************************************\n",
      "Percentage of Mising values in Age: 0.19865319865319866\n",
      "**************************************************\n",
      "Percentage of Mising values in Embark: 0.002244668911335578\n"
     ]
    }
   ],
   "source": [
    "print('Percentage of Mising values in Cabin:', train['Cabin'].isnull().sum()/len(train) )\n",
    "print('*'*50)\n",
    "print('Percentage of Mising values in Age:', train['Age'].isnull().sum()/len(train) )\n",
    "print('*'*50)\n",
    "print('Percentage of Mising values in Embark:', train['Embarked'].isnull().sum()/len(train) )"
   ]
  },
  {
   "cell_type": "markdown",
   "id": "bc555b3a",
   "metadata": {
    "papermill": {
     "duration": 0.034781,
     "end_time": "2021-11-10T13:47:58.275045",
     "exception": false,
     "start_time": "2021-11-10T13:47:58.240264",
     "status": "completed"
    },
    "tags": []
   },
   "source": [
    "As we saw above that 'Cabin' has 77% data points missing. Hence, I will drop it since imputing it might introduce bias in the data.\n",
    "\n",
    "\n",
    "As for missing data in Age we can impute it in two ways:\n",
    "- **Mean/median of whole data** : We can impute the missing values by taking average of all the passengers. \n",
    "\n",
    "- **Mean/median based on Pclass** : Imputing the values based on class a passenger travelling. This might be better when imputing because first class might have older population, than third class which also contained crew members since they are younger . "
   ]
  },
  {
   "cell_type": "code",
   "execution_count": 7,
   "id": "6d39835a",
   "metadata": {
    "execution": {
     "iopub.execute_input": "2021-11-10T13:47:58.361481Z",
     "iopub.status.busy": "2021-11-10T13:47:58.360783Z",
     "iopub.status.idle": "2021-11-10T13:47:58.774546Z",
     "shell.execute_reply": "2021-11-10T13:47:58.775095Z",
     "shell.execute_reply.started": "2021-11-10T13:15:29.717599Z"
    },
    "papermill": {
     "duration": 0.464886,
     "end_time": "2021-11-10T13:47:58.775273",
     "exception": false,
     "start_time": "2021-11-10T13:47:58.310387",
     "status": "completed"
    },
    "tags": []
   },
   "outputs": [
    {
     "data": {
      "text/plain": [
       "<AxesSubplot:xlabel='Pclass', ylabel='Age'>"
      ]
     },
     "execution_count": 7,
     "metadata": {},
     "output_type": "execute_result"
    },
    {
     "data": {
      "image/png": "[encoded data removed]",
      "text/plain": [
       "<Figure size 1080x1080 with 2 Axes>"
      ]
     },
     "metadata": {
      "needs_background": "light"
     },
     "output_type": "display_data"
    }
   ],
   "source": [
    "fig , ax = plt.subplots(2,1,figsize = (15,15))\n",
    "\n",
    "sns.boxplot(x = 'Pclass', y = 'Age',data = train, ax = ax[0])\n",
    "sns.boxplot(x = 'Pclass', y = 'Age',data = test, ax= ax[1])"
   ]
  },
  {
   "cell_type": "code",
   "execution_count": 8,
   "id": "3512972d",
   "metadata": {
    "execution": {
     "iopub.execute_input": "2021-11-10T13:47:58.861321Z",
     "iopub.status.busy": "2021-11-10T13:47:58.860377Z",
     "iopub.status.idle": "2021-11-10T13:47:58.862449Z",
     "shell.execute_reply": "2021-11-10T13:47:58.862907Z",
     "shell.execute_reply.started": "2021-11-10T13:15:30.196536Z"
    },
    "papermill": {
     "duration": 0.052068,
     "end_time": "2021-11-10T13:47:58.863083",
     "exception": false,
     "start_time": "2021-11-10T13:47:58.811015",
     "status": "completed"
    },
    "tags": []
   },
   "outputs": [],
   "source": [
    "def impute_age(df, strategy = 'mean', stratified = True):\n",
    "    '''\n",
    "    df = Pandas Dataset\n",
    "    strategy = 'mean', 'median'\n",
    "    stratified  = Boolean (based on Pclass)\n",
    "    '''\n",
    "    if stratified == False:\n",
    "        \n",
    "        if strategy == 'mean':\n",
    "            print('Mean age :', df['Age'].mean())\n",
    "            df['Age'] = df['Age'].fillna(df['Age'].mean())\n",
    "            \n",
    "            return df\n",
    "            \n",
    "        elif strategy == 'median':\n",
    "            print('Mean age :', df['Age'].median())\n",
    "            df['Age'] = df['Age'].fillna(df['Age'].median())\n",
    "            \n",
    "            return df\n",
    "            \n",
    "        else:\n",
    "            raise Exception(\"Invalid Type of strategy. Select either 'mean' or 'median'\")\n",
    "            \n",
    "    if stratified == True:\n",
    "        \n",
    "        if strategy == 'mean':\n",
    "            print('Mean age for first class :', df[df['Pclass'] == 1]['Age'].mean())\n",
    "            print('Mean age for second class :', df[df['Pclass'] == 2]['Age'].mean())\n",
    "            print('Mean age for third class :', df[df['Pclass'] == 3]['Age'].mean())\n",
    "            \n",
    "            df.loc[df['Pclass'] == 1,'Age'] = df.loc[df['Pclass'] == 1,'Age'].fillna(df[df['Pclass'] == 1]['Age'].mean())\n",
    "            df.loc[df['Pclass'] == 2,'Age'] = df.loc[df['Pclass'] == 2,'Age'].fillna(df[df['Pclass'] == 2]['Age'].mean())\n",
    "            df.loc[df['Pclass'] == 3,'Age'] = df.loc[df['Pclass'] == 3,'Age'].fillna(df[df['Pclass'] == 3]['Age'].mean())\n",
    "            \n",
    "            return df\n",
    "            \n",
    "            \n",
    "        elif strategy == 'median':\n",
    "            print('Median age for first class :', df[df['Pclass'] == 1]['Age'].median())\n",
    "            print('Median age for second class :', df[df['Pclass'] == 2]['Age'].median())\n",
    "            print('Median age for third class :', df[df['Pclass'] == 3]['Age'].median())\n",
    "            \n",
    "            df.loc[df['Pclass'] == 1,'Age'] = df.loc[df['Pclass'] == 1,'Age'].fillna(df[df['Pclass'] == 1]['Age'].median())\n",
    "            df.loc[df['Pclass'] == 2,'Age'] = df.loc[df['Pclass'] == 2,'Age'].fillna(df[df['Pclass'] == 2]['Age'].median())\n",
    "            df.loc[df['Pclass'] == 3,'Age'] = df.loc[df['Pclass'] == 3,'Age'].fillna(df[df['Pclass'] == 3]['Age'].median())\n",
    "            \n",
    "            return df\n",
    "            \n",
    "        else:\n",
    "            raise Exception(\"Invalid Type of strategy. Select either 'mean' or 'median'\")            \n"
   ]
  },
  {
   "cell_type": "code",
   "execution_count": 9,
   "id": "58475aef",
   "metadata": {
    "execution": {
     "iopub.execute_input": "2021-11-10T13:47:58.938226Z",
     "iopub.status.busy": "2021-11-10T13:47:58.937289Z",
     "iopub.status.idle": "2021-11-10T13:47:58.957423Z",
     "shell.execute_reply": "2021-11-10T13:47:58.956934Z",
     "shell.execute_reply.started": "2021-11-10T13:15:30.218329Z"
    },
    "papermill": {
     "duration": 0.059738,
     "end_time": "2021-11-10T13:47:58.957550",
     "exception": false,
     "start_time": "2021-11-10T13:47:58.897812",
     "status": "completed"
    },
    "tags": []
   },
   "outputs": [
    {
     "name": "stdout",
     "output_type": "stream",
     "text": [
      "Median age for first class : 37.0\n",
      "Median age for second class : 29.0\n",
      "Median age for third class : 24.0\n",
      "Median age for first class : 42.0\n",
      "Median age for second class : 26.5\n",
      "Median age for third class : 24.0\n"
     ]
    }
   ],
   "source": [
    "train= impute_age(train, strategy = 'median')\n",
    "test= impute_age(test, strategy = 'median')"
   ]
  },
  {
   "cell_type": "code",
   "execution_count": 10,
   "id": "0f067ea3",
   "metadata": {
    "execution": {
     "iopub.execute_input": "2021-11-10T13:47:59.035091Z",
     "iopub.status.busy": "2021-11-10T13:47:59.034476Z",
     "iopub.status.idle": "2021-11-10T13:47:59.036793Z",
     "shell.execute_reply": "2021-11-10T13:47:59.037221Z",
     "shell.execute_reply.started": "2021-11-10T13:15:30.254476Z"
    },
    "papermill": {
     "duration": 0.044718,
     "end_time": "2021-11-10T13:47:59.037380",
     "exception": false,
     "start_time": "2021-11-10T13:47:58.992662",
     "status": "completed"
    },
    "tags": []
   },
   "outputs": [
    {
     "data": {
      "text/plain": [
       "S    644\n",
       "C    168\n",
       "Q     77\n",
       "Name: Embarked, dtype: int64"
      ]
     },
     "execution_count": 10,
     "metadata": {},
     "output_type": "execute_result"
    }
   ],
   "source": [
    "train['Embarked'].value_counts()"
   ]
  },
  {
   "cell_type": "code",
   "execution_count": 11,
   "id": "b78b6db0",
   "metadata": {
    "execution": {
     "iopub.execute_input": "2021-11-10T13:47:59.115194Z",
     "iopub.status.busy": "2021-11-10T13:47:59.114600Z",
     "iopub.status.idle": "2021-11-10T13:47:59.122585Z",
     "shell.execute_reply": "2021-11-10T13:47:59.123014Z",
     "shell.execute_reply.started": "2021-11-10T13:15:30.264923Z"
    },
    "papermill": {
     "duration": 0.046191,
     "end_time": "2021-11-10T13:47:59.123167",
     "exception": false,
     "start_time": "2021-11-10T13:47:59.076976",
     "status": "completed"
    },
    "tags": []
   },
   "outputs": [],
   "source": [
    "# Imputed the missing value with most frequent \n",
    "train['Embarked'] = train['Embarked'].fillna('S')\n",
    "\n",
    "train = train.drop('Cabin', axis = 1)\n",
    "test = test.drop('Cabin', axis = 1)"
   ]
  },
  {
   "cell_type": "markdown",
   "id": "849e7a08",
   "metadata": {
    "papermill": {
     "duration": 0.034938,
     "end_time": "2021-11-10T13:47:59.193731",
     "exception": false,
     "start_time": "2021-11-10T13:47:59.158793",
     "status": "completed"
    },
    "tags": []
   },
   "source": [
    "## Exploratory Data Analysis"
   ]
  },
  {
   "cell_type": "code",
   "execution_count": 12,
   "id": "82d6c74a",
   "metadata": {
    "execution": {
     "iopub.execute_input": "2021-11-10T13:47:59.269132Z",
     "iopub.status.busy": "2021-11-10T13:47:59.268489Z",
     "iopub.status.idle": "2021-11-10T13:47:59.697394Z",
     "shell.execute_reply": "2021-11-10T13:47:59.696920Z",
     "shell.execute_reply.started": "2021-11-10T13:15:30.281369Z"
    },
    "papermill": {
     "duration": 0.468441,
     "end_time": "2021-11-10T13:47:59.697537",
     "exception": false,
     "start_time": "2021-11-10T13:47:59.229096",
     "status": "completed"
    },
    "tags": []
   },
   "outputs": [
    {
     "data": {
      "text/plain": [
       "<AxesSubplot:>"
      ]
     },
     "execution_count": 12,
     "metadata": {},
     "output_type": "execute_result"
    },
    {
     "data": {
      "image/png": "[encoded data removed]",
      "text/plain": [
       "<Figure size 720x720 with 2 Axes>"
      ]
     },
     "metadata": {
      "needs_background": "light"
     },
     "output_type": "display_data"
    }
   ],
   "source": [
    "# Lets begin with correlation of different features\n",
    "feature_corr = train.corr()\n",
    "feature_corr\n",
    "\n",
    "fig , ax = plt.subplots(figsize = (10,10))\n",
    "sns.heatmap(feature_corr, annot = True)"
   ]
  },
  {
   "cell_type": "code",
   "execution_count": 13,
   "id": "d6ba4f56",
   "metadata": {
    "execution": {
     "iopub.execute_input": "2021-11-10T13:47:59.774240Z",
     "iopub.status.busy": "2021-11-10T13:47:59.773673Z",
     "iopub.status.idle": "2021-11-10T13:48:00.846957Z",
     "shell.execute_reply": "2021-11-10T13:48:00.846438Z",
     "shell.execute_reply.started": "2021-11-10T13:15:30.820650Z"
    },
    "papermill": {
     "duration": 1.112958,
     "end_time": "2021-11-10T13:48:00.847091",
     "exception": false,
     "start_time": "2021-11-10T13:47:59.734133",
     "status": "completed"
    },
    "tags": []
   },
   "outputs": [
    {
     "data": {
      "text/html": [
       "        <script type=\"text/javascript\">\n",
       "        window.PlotlyConfig = {MathJaxConfig: 'local'};\n",
       "        if (window.MathJax) {MathJax.Hub.Config({SVG: {font: \"STIX-Web\"}});}\n",
       "        if (typeof require !== 'undefined') {\n",
       "        require.undef(\"plotly\");\n",
       "        requirejs.config({\n",
       "            paths: {\n",
       "                'plotly': ['https://cdn.plot.ly/plotly-2.4.2.min']\n",
       "            }\n",
       "        });\n",
       "        require(['plotly'], function(Plotly) {\n",
       "            window._Plotly = Plotly;\n",
       "        });\n",
       "        }\n",
       "        </script>\n",
       "        "
      ]
     },
     "metadata": {},
     "output_type": "display_data"
    },
    {
     "data": {
      "text/html": [
       "<div>                            <div id=\"663b04be-3fd9-4830-9637-bce112431b70\" class=\"plotly-graph-div\" style=\"height:525px; width:100%;\"></div>            <script type=\"text/javascript\">                require([\"plotly\"], function(Plotly) {                    window.PLOTLYENV=window.PLOTLYENV || {};                                    if (document.getElementById(\"663b04be-3fd9-4830-9637-bce112431b70\")) {                    Plotly.newPlot(                        \"663b04be-3fd9-4830-9637-bce112431b70\",                        [{\"domain\":{\"x\":[0.0,1.0],\"y\":[0.0,1.0]},\"hovertemplate\":\"Survived=%{label}<br>Count=%{value}<extra></extra>\",\"labels\":[0,1],\"legendgroup\":\"\",\"name\":\"\",\"showlegend\":true,\"type\":\"pie\",\"values\":[549,342]}],                        {\"legend\":{\"tracegroupgap\":0},\"template\":{\"data\":{\"bar\":[{\"error_x\":{\"color\":\"#2a3f5f\"},\"error_y\":{\"color\":\"#2a3f5f\"},\"marker\":{\"line\":{\"color\":\"#E5ECF6\",\"width\":0.5},\"pattern\":{\"fillmode\":\"overlay\",\"size\":10,\"solidity\":0.2}},\"type\":\"bar\"}],\"barpolar\":[{\"marker\":{\"line\":{\"color\":\"#E5ECF6\",\"width\":0.5},\"pattern\":{\"fillmode\":\"overlay\",\"size\":10,\"solidity\":0.2}},\"type\":\"barpolar\"}],\"carpet\":[{\"aaxis\":{\"endlinecolor\":\"#2a3f5f\",\"gridcolor\":\"white\",\"linecolor\":\"white\",\"minorgridcolor\":\"white\",\"startlinecolor\":\"#2a3f5f\"},\"baxis\":{\"endlinecolor\":\"#2a3f5f\",\"gridcolor\":\"white\",\"linecolor\":\"white\",\"minorgridcolor\":\"white\",\"startlinecolor\":\"#2a3f5f\"},\"type\":\"carpet\"}],\"choropleth\":[{\"colorbar\":{\"outlinewidth\":0,\"ticks\":\"\"},\"type\":\"choropleth\"}],\"contour\":[{\"colorbar\":{\"outlinewidth\":0,\"ticks\":\"\"},\"colorscale\":[[0.0,\"#0d0887\"],[0.1111111111111111,\"#46039f\"],[0.2222222222222222,\"#7201a8\"],[0.3333333333333333,\"#9c179e\"],[0.4444444444444444,\"#bd3786\"],[0.5555555555555556,\"#d8576b\"],[0.6666666666666666,\"#ed7953\"],[0.7777777777777778,\"#fb9f3a\"],[0.8888888888888888,\"#fdca26\"],[1.0,\"#f0f921\"]],\"type\":\"contour\"}],\"contourcarpet\":[{\"colorbar\":{\"outlinewidth\":0,\"ticks\":\"\"},\"type\":\"contourcarpet\"}],\"heatmap\":[{\"colorbar\":{\"outlinewidth\":0,\"ticks\":\"\"},\"colorscale\":[[0.0,\"#0d0887\"],[0.1111111111111111,\"#46039f\"],[0.2222222222222222,\"#7201a8\"],[0.3333333333333333,\"#9c179e\"],[0.4444444444444444,\"#bd3786\"],[0.5555555555555556,\"#d8576b\"],[0.6666666666666666,\"#ed7953\"],[0.7777777777777778,\"#fb9f3a\"],[0.8888888888888888,\"#fdca26\"],[1.0,\"#f0f921\"]],\"type\":\"heatmap\"}],\"heatmapgl\":[{\"colorbar\":{\"outlinewidth\":0,\"ticks\":\"\"},\"colorscale\":[[0.0,\"#0d0887\"],[0.1111111111111111,\"#46039f\"],[0.2222222222222222,\"#7201a8\"],[0.3333333333333333,\"#9c179e\"],[0.4444444444444444,\"#bd3786\"],[0.5555555555555556,\"#d8576b\"],[0.6666666666666666,\"#ed7953\"],[0.7777777777777778,\"#fb9f3a\"],[0.8888888888888888,\"#fdca26\"],[1.0,\"#f0f921\"]],\"type\":\"heatmapgl\"}],\"histogram\":[{\"marker\":{\"pattern\":{\"fillmode\":\"overlay\",\"size\":10,\"solidity\":0.2}},\"type\":\"histogram\"}],\"histogram2d\":[{\"colorbar\":{\"outlinewidth\":0,\"ticks\":\"\"},\"colorscale\":[[0.0,\"#0d0887\"],[0.1111111111111111,\"#46039f\"],[0.2222222222222222,\"#7201a8\"],[0.3333333333333333,\"#9c179e\"],[0.4444444444444444,\"#bd3786\"],[0.5555555555555556,\"#d8576b\"],[0.6666666666666666,\"#ed7953\"],[0.7777777777777778,\"#fb9f3a\"],[0.8888888888888888,\"#fdca26\"],[1.0,\"#f0f921\"]],\"type\":\"histogram2d\"}],\"histogram2dcontour\":[{\"colorbar\":{\"outlinewidth\":0,\"ticks\":\"\"},\"colorscale\":[[0.0,\"#0d0887\"],[0.1111111111111111,\"#46039f\"],[0.2222222222222222,\"#7201a8\"],[0.3333333333333333,\"#9c179e\"],[0.4444444444444444,\"#bd3786\"],[0.5555555555555556,\"#d8576b\"],[0.6666666666666666,\"#ed7953\"],[0.7777777777777778,\"#fb9f3a\"],[0.8888888888888888,\"#fdca26\"],[1.0,\"#f0f921\"]],\"type\":\"histogram2dcontour\"}],\"mesh3d\":[{\"colorbar\":{\"outlinewidth\":0,\"ticks\":\"\"},\"type\":\"mesh3d\"}],\"parcoords\":[{\"line\":{\"colorbar\":{\"outlinewidth\":0,\"ticks\":\"\"}},\"type\":\"parcoords\"}],\"pie\":[{\"automargin\":true,\"type\":\"pie\"}],\"scatter\":[{\"marker\":{\"colorbar\":{\"outlinewidth\":0,\"ticks\":\"\"}},\"type\":\"scatter\"}],\"scatter3d\":[{\"line\":{\"colorbar\":{\"outlinewidth\":0,\"ticks\":\"\"}},\"marker\":{\"colorbar\":{\"outlinewidth\":0,\"ticks\":\"\"}},\"type\":\"scatter3d\"}],\"scattercarpet\":[{\"marker\":{\"colorbar\":{\"outlinewidth\":0,\"ticks\":\"\"}},\"type\":\"scattercarpet\"}],\"scattergeo\":[{\"marker\":{\"colorbar\":{\"outlinewidth\":0,\"ticks\":\"\"}},\"type\":\"scattergeo\"}],\"scattergl\":[{\"marker\":{\"colorbar\":{\"outlinewidth\":0,\"ticks\":\"\"}},\"type\":\"scattergl\"}],\"scattermapbox\":[{\"marker\":{\"colorbar\":{\"outlinewidth\":0,\"ticks\":\"\"}},\"type\":\"scattermapbox\"}],\"scatterpolar\":[{\"marker\":{\"colorbar\":{\"outlinewidth\":0,\"ticks\":\"\"}},\"type\":\"scatterpolar\"}],\"scatterpolargl\":[{\"marker\":{\"colorbar\":{\"outlinewidth\":0,\"ticks\":\"\"}},\"type\":\"scatterpolargl\"}],\"scatterternary\":[{\"marker\":{\"colorbar\":{\"outlinewidth\":0,\"ticks\":\"\"}},\"type\":\"scatterternary\"}],\"surface\":[{\"colorbar\":{\"outlinewidth\":0,\"ticks\":\"\"},\"colorscale\":[[0.0,\"#0d0887\"],[0.1111111111111111,\"#46039f\"],[0.2222222222222222,\"#7201a8\"],[0.3333333333333333,\"#9c179e\"],[0.4444444444444444,\"#bd3786\"],[0.5555555555555556,\"#d8576b\"],[0.6666666666666666,\"#ed7953\"],[0.7777777777777778,\"#fb9f3a\"],[0.8888888888888888,\"#fdca26\"],[1.0,\"#f0f921\"]],\"type\":\"surface\"}],\"table\":[{\"cells\":{\"fill\":{\"color\":\"#EBF0F8\"},\"line\":{\"color\":\"white\"}},\"header\":{\"fill\":{\"color\":\"#C8D4E3\"},\"line\":{\"color\":\"white\"}},\"type\":\"table\"}]},\"layout\":{\"annotationdefaults\":{\"arrowcolor\":\"#2a3f5f\",\"arrowhead\":0,\"arrowwidth\":1},\"autotypenumbers\":\"strict\",\"coloraxis\":{\"colorbar\":{\"outlinewidth\":0,\"ticks\":\"\"}},\"colorscale\":{\"diverging\":[[0,\"#8e0152\"],[0.1,\"#c51b7d\"],[0.2,\"#de77ae\"],[0.3,\"#f1b6da\"],[0.4,\"#fde0ef\"],[0.5,\"#f7f7f7\"],[0.6,\"#e6f5d0\"],[0.7,\"#b8e186\"],[0.8,\"#7fbc41\"],[0.9,\"#4d9221\"],[1,\"#276419\"]],\"sequential\":[[0.0,\"#0d0887\"],[0.1111111111111111,\"#46039f\"],[0.2222222222222222,\"#7201a8\"],[0.3333333333333333,\"#9c179e\"],[0.4444444444444444,\"#bd3786\"],[0.5555555555555556,\"#d8576b\"],[0.6666666666666666,\"#ed7953\"],[0.7777777777777778,\"#fb9f3a\"],[0.8888888888888888,\"#fdca26\"],[1.0,\"#f0f921\"]],\"sequentialminus\":[[0.0,\"#0d0887\"],[0.1111111111111111,\"#46039f\"],[0.2222222222222222,\"#7201a8\"],[0.3333333333333333,\"#9c179e\"],[0.4444444444444444,\"#bd3786\"],[0.5555555555555556,\"#d8576b\"],[0.6666666666666666,\"#ed7953\"],[0.7777777777777778,\"#fb9f3a\"],[0.8888888888888888,\"#fdca26\"],[1.0,\"#f0f921\"]]},\"colorway\":[\"#636efa\",\"#EF553B\",\"#00cc96\",\"#ab63fa\",\"#FFA15A\",\"#19d3f3\",\"#FF6692\",\"#B6E880\",\"#FF97FF\",\"#FECB52\"],\"font\":{\"color\":\"#2a3f5f\"},\"geo\":{\"bgcolor\":\"white\",\"lakecolor\":\"white\",\"landcolor\":\"#E5ECF6\",\"showlakes\":true,\"showland\":true,\"subunitcolor\":\"white\"},\"hoverlabel\":{\"align\":\"left\"},\"hovermode\":\"closest\",\"mapbox\":{\"style\":\"light\"},\"paper_bgcolor\":\"white\",\"plot_bgcolor\":\"#E5ECF6\",\"polar\":{\"angularaxis\":{\"gridcolor\":\"white\",\"linecolor\":\"white\",\"ticks\":\"\"},\"bgcolor\":\"#E5ECF6\",\"radialaxis\":{\"gridcolor\":\"white\",\"linecolor\":\"white\",\"ticks\":\"\"}},\"scene\":{\"xaxis\":{\"backgroundcolor\":\"#E5ECF6\",\"gridcolor\":\"white\",\"gridwidth\":2,\"linecolor\":\"white\",\"showbackground\":true,\"ticks\":\"\",\"zerolinecolor\":\"white\"},\"yaxis\":{\"backgroundcolor\":\"#E5ECF6\",\"gridcolor\":\"white\",\"gridwidth\":2,\"linecolor\":\"white\",\"showbackground\":true,\"ticks\":\"\",\"zerolinecolor\":\"white\"},\"zaxis\":{\"backgroundcolor\":\"#E5ECF6\",\"gridcolor\":\"white\",\"gridwidth\":2,\"linecolor\":\"white\",\"showbackground\":true,\"ticks\":\"\",\"zerolinecolor\":\"white\"}},\"shapedefaults\":{\"line\":{\"color\":\"#2a3f5f\"}},\"ternary\":{\"aaxis\":{\"gridcolor\":\"white\",\"linecolor\":\"white\",\"ticks\":\"\"},\"baxis\":{\"gridcolor\":\"white\",\"linecolor\":\"white\",\"ticks\":\"\"},\"bgcolor\":\"#E5ECF6\",\"caxis\":{\"gridcolor\":\"white\",\"linecolor\":\"white\",\"ticks\":\"\"}},\"title\":{\"x\":0.05},\"xaxis\":{\"automargin\":true,\"gridcolor\":\"white\",\"linecolor\":\"white\",\"ticks\":\"\",\"title\":{\"standoff\":15},\"zerolinecolor\":\"white\",\"zerolinewidth\":2},\"yaxis\":{\"automargin\":true,\"gridcolor\":\"white\",\"linecolor\":\"white\",\"ticks\":\"\",\"title\":{\"standoff\":15},\"zerolinecolor\":\"white\",\"zerolinewidth\":2}}},\"title\":{\"text\":\"Distribution of people survived\"}},                        {\"responsive\": true}                    ).then(function(){\n",
       "                            \n",
       "var gd = document.getElementById('663b04be-3fd9-4830-9637-bce112431b70');\n",
       "var x = new MutationObserver(function (mutations, observer) {{\n",
       "        var display = window.getComputedStyle(gd).display;\n",
       "        if (!display || display === 'none') {{\n",
       "            console.log([gd, 'removed!']);\n",
       "            Plotly.purge(gd);\n",
       "            observer.disconnect();\n",
       "        }}\n",
       "}});\n",
       "\n",
       "// Listen for the removal of the full notebook cells\n",
       "var notebookContainer = gd.closest('#notebook-container');\n",
       "if (notebookContainer) {{\n",
       "    x.observe(notebookContainer, {childList: true});\n",
       "}}\n",
       "\n",
       "// Listen for the clearing of the current output cell\n",
       "var outputEl = gd.closest('.output');\n",
       "if (outputEl) {{\n",
       "    x.observe(outputEl, {childList: true});\n",
       "}}\n",
       "\n",
       "                        })                };                });            </script>        </div>"
      ]
     },
     "metadata": {},
     "output_type": "display_data"
    }
   ],
   "source": [
    "s = train.groupby('Survived').size().reset_index()\n",
    "s.columns = ['Survived', 'Count']\n",
    "\n",
    "fig = px.pie(s, values='Count', names='Survived', title='Distribution of people survived')\n",
    "fig.show()"
   ]
  },
  {
   "cell_type": "markdown",
   "id": "ca4d7c0a",
   "metadata": {
    "papermill": {
     "duration": 0.037656,
     "end_time": "2021-11-10T13:48:00.922174",
     "exception": false,
     "start_time": "2021-11-10T13:48:00.884518",
     "status": "completed"
    },
    "tags": []
   },
   "source": [
    "We further explore how do different factors affect your changes of survival."
   ]
  },
  {
   "cell_type": "markdown",
   "id": "792f13aa",
   "metadata": {
    "papermill": {
     "duration": 0.037479,
     "end_time": "2021-11-10T13:48:00.997496",
     "exception": false,
     "start_time": "2021-11-10T13:48:00.960017",
     "status": "completed"
    },
    "tags": []
   },
   "source": [
    "spliting the passenger into different age groups. "
   ]
  },
  {
   "cell_type": "code",
   "execution_count": 14,
   "id": "e9bc902c",
   "metadata": {
    "execution": {
     "iopub.execute_input": "2021-11-10T13:48:01.079336Z",
     "iopub.status.busy": "2021-11-10T13:48:01.078742Z",
     "iopub.status.idle": "2021-11-10T13:48:01.081214Z",
     "shell.execute_reply": "2021-11-10T13:48:01.080785Z",
     "shell.execute_reply.started": "2021-11-10T13:15:32.070658Z"
    },
    "papermill": {
     "duration": 0.046344,
     "end_time": "2021-11-10T13:48:01.081342",
     "exception": false,
     "start_time": "2021-11-10T13:48:01.034998",
     "status": "completed"
    },
    "tags": []
   },
   "outputs": [],
   "source": [
    "def age_grouping(df):\n",
    "    df['ageGroup'] = np.nan\n",
    "    df.loc[df['Age'] <= 12, 'ageGroup'] = 'child'\n",
    "    df.loc[(df['Age'] > 12) & (df['Age'] <= 19), 'ageGroup'] = 'teen'\n",
    "    df.loc[(df['Age'] > 19) & (df['Age'] <= 45), 'ageGroup'] = 'adults'\n",
    "    df.loc[(df['Age'] > 45) & (df['Age'] <= 60), 'ageGroup'] = 'midAgedAdults'\n",
    "    df.loc[df['Age'] > 60, 'ageGroup'] = 'old'\n",
    "    \n",
    "    return df"
   ]
  },
  {
   "cell_type": "code",
   "execution_count": 15,
   "id": "ce907dbf",
   "metadata": {
    "execution": {
     "iopub.execute_input": "2021-11-10T13:48:01.179539Z",
     "iopub.status.busy": "2021-11-10T13:48:01.176601Z",
     "iopub.status.idle": "2021-11-10T13:48:01.182540Z",
     "shell.execute_reply": "2021-11-10T13:48:01.182063Z",
     "shell.execute_reply.started": "2021-11-10T13:15:32.080592Z"
    },
    "papermill": {
     "duration": 0.063796,
     "end_time": "2021-11-10T13:48:01.182693",
     "exception": false,
     "start_time": "2021-11-10T13:48:01.118897",
     "status": "completed"
    },
    "tags": []
   },
   "outputs": [],
   "source": [
    "train = age_grouping(train)\n",
    "test = age_grouping(test)\n",
    "\n",
    "a = train.groupby('ageGroup').size().reset_index()\n",
    "a.columns = ['Group', 'Count']\n",
    "\n",
    "sa = train.loc[train['Survived'] == 1].groupby('ageGroup').size().reset_index()\n",
    "sa.columns = ['Group', 'Count']"
   ]
  },
  {
   "cell_type": "code",
   "execution_count": 16,
   "id": "1c62c01c",
   "metadata": {
    "execution": {
     "iopub.execute_input": "2021-11-10T13:48:01.275048Z",
     "iopub.status.busy": "2021-11-10T13:48:01.274378Z",
     "iopub.status.idle": "2021-11-10T13:48:01.294601Z",
     "shell.execute_reply": "2021-11-10T13:48:01.295016Z",
     "shell.execute_reply.started": "2021-11-10T13:15:32.113000Z"
    },
    "papermill": {
     "duration": 0.075137,
     "end_time": "2021-11-10T13:48:01.295202",
     "exception": false,
     "start_time": "2021-11-10T13:48:01.220065",
     "status": "completed"
    },
    "tags": []
   },
   "outputs": [
    {
     "data": {
      "text/html": [
       "<div>                            <div id=\"77158792-e42e-4f99-a068-5baf28450d1e\" class=\"plotly-graph-div\" style=\"height:525px; width:100%;\"></div>            <script type=\"text/javascript\">                require([\"plotly\"], function(Plotly) {                    window.PLOTLYENV=window.PLOTLYENV || {};                                    if (document.getElementById(\"77158792-e42e-4f99-a068-5baf28450d1e\")) {                    Plotly.newPlot(                        \"77158792-e42e-4f99-a068-5baf28450d1e\",                        [{\"domain\":{\"x\":[0.0,0.45],\"y\":[0.0,1.0]},\"hole\":0.4,\"labels\":[\"adults\",\"child\",\"midAgedAdults\",\"old\",\"teen\"],\"name\":\"Age Group\",\"textinfo\":\"label+percent\",\"type\":\"pie\",\"values\":[624,69,81,22,95]},{\"domain\":{\"x\":[0.55,1.0],\"y\":[0.0,1.0]},\"hole\":0.4,\"labels\":[\"adults\",\"child\",\"midAgedAdults\",\"old\",\"teen\"],\"name\":\"Survivor Age Group\",\"textinfo\":\"label+percent\",\"type\":\"pie\",\"values\":[225,40,33,5,39]}],                        {\"annotations\":[{\"font\":{\"size\":20},\"showarrow\":false,\"text\":\"Passengers\",\"x\":0.18,\"y\":0.5},{\"font\":{\"size\":20},\"showarrow\":false,\"text\":\"Survivors\",\"x\":0.82,\"y\":0.5}],\"template\":{\"data\":{\"bar\":[{\"error_x\":{\"color\":\"#2a3f5f\"},\"error_y\":{\"color\":\"#2a3f5f\"},\"marker\":{\"line\":{\"color\":\"#E5ECF6\",\"width\":0.5},\"pattern\":{\"fillmode\":\"overlay\",\"size\":10,\"solidity\":0.2}},\"type\":\"bar\"}],\"barpolar\":[{\"marker\":{\"line\":{\"color\":\"#E5ECF6\",\"width\":0.5},\"pattern\":{\"fillmode\":\"overlay\",\"size\":10,\"solidity\":0.2}},\"type\":\"barpolar\"}],\"carpet\":[{\"aaxis\":{\"endlinecolor\":\"#2a3f5f\",\"gridcolor\":\"white\",\"linecolor\":\"white\",\"minorgridcolor\":\"white\",\"startlinecolor\":\"#2a3f5f\"},\"baxis\":{\"endlinecolor\":\"#2a3f5f\",\"gridcolor\":\"white\",\"linecolor\":\"white\",\"minorgridcolor\":\"white\",\"startlinecolor\":\"#2a3f5f\"},\"type\":\"carpet\"}],\"choropleth\":[{\"colorbar\":{\"outlinewidth\":0,\"ticks\":\"\"},\"type\":\"choropleth\"}],\"contour\":[{\"colorbar\":{\"outlinewidth\":0,\"ticks\":\"\"},\"colorscale\":[[0.0,\"#0d0887\"],[0.1111111111111111,\"#46039f\"],[0.2222222222222222,\"#7201a8\"],[0.3333333333333333,\"#9c179e\"],[0.4444444444444444,\"#bd3786\"],[0.5555555555555556,\"#d8576b\"],[0.6666666666666666,\"#ed7953\"],[0.7777777777777778,\"#fb9f3a\"],[0.8888888888888888,\"#fdca26\"],[1.0,\"#f0f921\"]],\"type\":\"contour\"}],\"contourcarpet\":[{\"colorbar\":{\"outlinewidth\":0,\"ticks\":\"\"},\"type\":\"contourcarpet\"}],\"heatmap\":[{\"colorbar\":{\"outlinewidth\":0,\"ticks\":\"\"},\"colorscale\":[[0.0,\"#0d0887\"],[0.1111111111111111,\"#46039f\"],[0.2222222222222222,\"#7201a8\"],[0.3333333333333333,\"#9c179e\"],[0.4444444444444444,\"#bd3786\"],[0.5555555555555556,\"#d8576b\"],[0.6666666666666666,\"#ed7953\"],[0.7777777777777778,\"#fb9f3a\"],[0.8888888888888888,\"#fdca26\"],[1.0,\"#f0f921\"]],\"type\":\"heatmap\"}],\"heatmapgl\":[{\"colorbar\":{\"outlinewidth\":0,\"ticks\":\"\"},\"colorscale\":[[0.0,\"#0d0887\"],[0.1111111111111111,\"#46039f\"],[0.2222222222222222,\"#7201a8\"],[0.3333333333333333,\"#9c179e\"],[0.4444444444444444,\"#bd3786\"],[0.5555555555555556,\"#d8576b\"],[0.6666666666666666,\"#ed7953\"],[0.7777777777777778,\"#fb9f3a\"],[0.8888888888888888,\"#fdca26\"],[1.0,\"#f0f921\"]],\"type\":\"heatmapgl\"}],\"histogram\":[{\"marker\":{\"pattern\":{\"fillmode\":\"overlay\",\"size\":10,\"solidity\":0.2}},\"type\":\"histogram\"}],\"histogram2d\":[{\"colorbar\":{\"outlinewidth\":0,\"ticks\":\"\"},\"colorscale\":[[0.0,\"#0d0887\"],[0.1111111111111111,\"#46039f\"],[0.2222222222222222,\"#7201a8\"],[0.3333333333333333,\"#9c179e\"],[0.4444444444444444,\"#bd3786\"],[0.5555555555555556,\"#d8576b\"],[0.6666666666666666,\"#ed7953\"],[0.7777777777777778,\"#fb9f3a\"],[0.8888888888888888,\"#fdca26\"],[1.0,\"#f0f921\"]],\"type\":\"histogram2d\"}],\"histogram2dcontour\":[{\"colorbar\":{\"outlinewidth\":0,\"ticks\":\"\"},\"colorscale\":[[0.0,\"#0d0887\"],[0.1111111111111111,\"#46039f\"],[0.2222222222222222,\"#7201a8\"],[0.3333333333333333,\"#9c179e\"],[0.4444444444444444,\"#bd3786\"],[0.5555555555555556,\"#d8576b\"],[0.6666666666666666,\"#ed7953\"],[0.7777777777777778,\"#fb9f3a\"],[0.8888888888888888,\"#fdca26\"],[1.0,\"#f0f921\"]],\"type\":\"histogram2dcontour\"}],\"mesh3d\":[{\"colorbar\":{\"outlinewidth\":0,\"ticks\":\"\"},\"type\":\"mesh3d\"}],\"parcoords\":[{\"line\":{\"colorbar\":{\"outlinewidth\":0,\"ticks\":\"\"}},\"type\":\"parcoords\"}],\"pie\":[{\"automargin\":true,\"type\":\"pie\"}],\"scatter\":[{\"marker\":{\"colorbar\":{\"outlinewidth\":0,\"ticks\":\"\"}},\"type\":\"scatter\"}],\"scatter3d\":[{\"line\":{\"colorbar\":{\"outlinewidth\":0,\"ticks\":\"\"}},\"marker\":{\"colorbar\":{\"outlinewidth\":0,\"ticks\":\"\"}},\"type\":\"scatter3d\"}],\"scattercarpet\":[{\"marker\":{\"colorbar\":{\"outlinewidth\":0,\"ticks\":\"\"}},\"type\":\"scattercarpet\"}],\"scattergeo\":[{\"marker\":{\"colorbar\":{\"outlinewidth\":0,\"ticks\":\"\"}},\"type\":\"scattergeo\"}],\"scattergl\":[{\"marker\":{\"colorbar\":{\"outlinewidth\":0,\"ticks\":\"\"}},\"type\":\"scattergl\"}],\"scattermapbox\":[{\"marker\":{\"colorbar\":{\"outlinewidth\":0,\"ticks\":\"\"}},\"type\":\"scattermapbox\"}],\"scatterpolar\":[{\"marker\":{\"colorbar\":{\"outlinewidth\":0,\"ticks\":\"\"}},\"type\":\"scatterpolar\"}],\"scatterpolargl\":[{\"marker\":{\"colorbar\":{\"outlinewidth\":0,\"ticks\":\"\"}},\"type\":\"scatterpolargl\"}],\"scatterternary\":[{\"marker\":{\"colorbar\":{\"outlinewidth\":0,\"ticks\":\"\"}},\"type\":\"scatterternary\"}],\"surface\":[{\"colorbar\":{\"outlinewidth\":0,\"ticks\":\"\"},\"colorscale\":[[0.0,\"#0d0887\"],[0.1111111111111111,\"#46039f\"],[0.2222222222222222,\"#7201a8\"],[0.3333333333333333,\"#9c179e\"],[0.4444444444444444,\"#bd3786\"],[0.5555555555555556,\"#d8576b\"],[0.6666666666666666,\"#ed7953\"],[0.7777777777777778,\"#fb9f3a\"],[0.8888888888888888,\"#fdca26\"],[1.0,\"#f0f921\"]],\"type\":\"surface\"}],\"table\":[{\"cells\":{\"fill\":{\"color\":\"#EBF0F8\"},\"line\":{\"color\":\"white\"}},\"header\":{\"fill\":{\"color\":\"#C8D4E3\"},\"line\":{\"color\":\"white\"}},\"type\":\"table\"}]},\"layout\":{\"annotationdefaults\":{\"arrowcolor\":\"#2a3f5f\",\"arrowhead\":0,\"arrowwidth\":1},\"autotypenumbers\":\"strict\",\"coloraxis\":{\"colorbar\":{\"outlinewidth\":0,\"ticks\":\"\"}},\"colorscale\":{\"diverging\":[[0,\"#8e0152\"],[0.1,\"#c51b7d\"],[0.2,\"#de77ae\"],[0.3,\"#f1b6da\"],[0.4,\"#fde0ef\"],[0.5,\"#f7f7f7\"],[0.6,\"#e6f5d0\"],[0.7,\"#b8e186\"],[0.8,\"#7fbc41\"],[0.9,\"#4d9221\"],[1,\"#276419\"]],\"sequential\":[[0.0,\"#0d0887\"],[0.1111111111111111,\"#46039f\"],[0.2222222222222222,\"#7201a8\"],[0.3333333333333333,\"#9c179e\"],[0.4444444444444444,\"#bd3786\"],[0.5555555555555556,\"#d8576b\"],[0.6666666666666666,\"#ed7953\"],[0.7777777777777778,\"#fb9f3a\"],[0.8888888888888888,\"#fdca26\"],[1.0,\"#f0f921\"]],\"sequentialminus\":[[0.0,\"#0d0887\"],[0.1111111111111111,\"#46039f\"],[0.2222222222222222,\"#7201a8\"],[0.3333333333333333,\"#9c179e\"],[0.4444444444444444,\"#bd3786\"],[0.5555555555555556,\"#d8576b\"],[0.6666666666666666,\"#ed7953\"],[0.7777777777777778,\"#fb9f3a\"],[0.8888888888888888,\"#fdca26\"],[1.0,\"#f0f921\"]]},\"colorway\":[\"#636efa\",\"#EF553B\",\"#00cc96\",\"#ab63fa\",\"#FFA15A\",\"#19d3f3\",\"#FF6692\",\"#B6E880\",\"#FF97FF\",\"#FECB52\"],\"font\":{\"color\":\"#2a3f5f\"},\"geo\":{\"bgcolor\":\"white\",\"lakecolor\":\"white\",\"landcolor\":\"#E5ECF6\",\"showlakes\":true,\"showland\":true,\"subunitcolor\":\"white\"},\"hoverlabel\":{\"align\":\"left\"},\"hovermode\":\"closest\",\"mapbox\":{\"style\":\"light\"},\"paper_bgcolor\":\"white\",\"plot_bgcolor\":\"#E5ECF6\",\"polar\":{\"angularaxis\":{\"gridcolor\":\"white\",\"linecolor\":\"white\",\"ticks\":\"\"},\"bgcolor\":\"#E5ECF6\",\"radialaxis\":{\"gridcolor\":\"white\",\"linecolor\":\"white\",\"ticks\":\"\"}},\"scene\":{\"xaxis\":{\"backgroundcolor\":\"#E5ECF6\",\"gridcolor\":\"white\",\"gridwidth\":2,\"linecolor\":\"white\",\"showbackground\":true,\"ticks\":\"\",\"zerolinecolor\":\"white\"},\"yaxis\":{\"backgroundcolor\":\"#E5ECF6\",\"gridcolor\":\"white\",\"gridwidth\":2,\"linecolor\":\"white\",\"showbackground\":true,\"ticks\":\"\",\"zerolinecolor\":\"white\"},\"zaxis\":{\"backgroundcolor\":\"#E5ECF6\",\"gridcolor\":\"white\",\"gridwidth\":2,\"linecolor\":\"white\",\"showbackground\":true,\"ticks\":\"\",\"zerolinecolor\":\"white\"}},\"shapedefaults\":{\"line\":{\"color\":\"#2a3f5f\"}},\"ternary\":{\"aaxis\":{\"gridcolor\":\"white\",\"linecolor\":\"white\",\"ticks\":\"\"},\"baxis\":{\"gridcolor\":\"white\",\"linecolor\":\"white\",\"ticks\":\"\"},\"bgcolor\":\"#E5ECF6\",\"caxis\":{\"gridcolor\":\"white\",\"linecolor\":\"white\",\"ticks\":\"\"}},\"title\":{\"x\":0.05},\"xaxis\":{\"automargin\":true,\"gridcolor\":\"white\",\"linecolor\":\"white\",\"ticks\":\"\",\"title\":{\"standoff\":15},\"zerolinecolor\":\"white\",\"zerolinewidth\":2},\"yaxis\":{\"automargin\":true,\"gridcolor\":\"white\",\"linecolor\":\"white\",\"ticks\":\"\",\"title\":{\"standoff\":15},\"zerolinecolor\":\"white\",\"zerolinewidth\":2}}},\"title\":{\"text\":\"Passenger Age Group Titanic\"}},                        {\"responsive\": true}                    ).then(function(){\n",
       "                            \n",
       "var gd = document.getElementById('77158792-e42e-4f99-a068-5baf28450d1e');\n",
       "var x = new MutationObserver(function (mutations, observer) {{\n",
       "        var display = window.getComputedStyle(gd).display;\n",
       "        if (!display || display === 'none') {{\n",
       "            console.log([gd, 'removed!']);\n",
       "            Plotly.purge(gd);\n",
       "            observer.disconnect();\n",
       "        }}\n",
       "}});\n",
       "\n",
       "// Listen for the removal of the full notebook cells\n",
       "var notebookContainer = gd.closest('#notebook-container');\n",
       "if (notebookContainer) {{\n",
       "    x.observe(notebookContainer, {childList: true});\n",
       "}}\n",
       "\n",
       "// Listen for the clearing of the current output cell\n",
       "var outputEl = gd.closest('.output');\n",
       "if (outputEl) {{\n",
       "    x.observe(outputEl, {childList: true});\n",
       "}}\n",
       "\n",
       "                        })                };                });            </script>        </div>"
      ]
     },
     "metadata": {},
     "output_type": "display_data"
    }
   ],
   "source": [
    "fig = make_subplots(rows=1, cols=2, specs=[[{'type':'domain'}, {'type':'domain'}]])\n",
    "\n",
    "fig.add_trace(go.Pie(labels=a.Group.values, values=a.Count.values, name=\"Age Group\"),\n",
    "              1, 1)\n",
    "fig.add_trace(go.Pie(labels=sa.Group.values, values=sa.Count.values, name=\"Survivor Age Group\"),\n",
    "              1, 2)\n",
    "\n",
    "# Use `hole` to create a donut-like pie chart\n",
    "fig.update_traces(hole = 0.4, textinfo=\"label+percent\")\n",
    "\n",
    "fig.update_layout(\n",
    "    title_text=\"Passenger Age Group Titanic\",\n",
    "    # Add annotations in the center of the donut pies.\n",
    "    annotations=[dict(text='Passengers', x=0.18, y=0.5, font_size=20, showarrow=False),\n",
    "                 dict(text='Survivors', x=0.82, y=0.5, font_size=20, showarrow=False)])\n",
    "fig.show()"
   ]
  },
  {
   "cell_type": "code",
   "execution_count": 17,
   "id": "51d4cc9a",
   "metadata": {
    "execution": {
     "iopub.execute_input": "2021-11-10T13:48:01.384847Z",
     "iopub.status.busy": "2021-11-10T13:48:01.384177Z",
     "iopub.status.idle": "2021-11-10T13:48:02.388990Z",
     "shell.execute_reply": "2021-11-10T13:48:02.388521Z",
     "shell.execute_reply.started": "2021-11-10T13:15:32.164457Z"
    },
    "papermill": {
     "duration": 1.054774,
     "end_time": "2021-11-10T13:48:02.389125",
     "exception": false,
     "start_time": "2021-11-10T13:48:01.334351",
     "status": "completed"
    },
    "tags": []
   },
   "outputs": [
    {
     "data": {
      "image/png": "[encoded data removed]",
      "text/plain": [
       "<Figure size 1080x1440 with 3 Axes>"
      ]
     },
     "metadata": {
      "needs_background": "light"
     },
     "output_type": "display_data"
    }
   ],
   "source": [
    "fig , ax = plt.subplots(3,1,figsize = (15,20))\n",
    "\n",
    "\n",
    "sns.countplot(x ='ageGroup', data = train, color = '#F5FF29', ax = ax[0] , label = 'Age Group')\n",
    "sns.countplot(x ='ageGroup', data = train.loc[train['Survived'] == 1], color = '#FF7E0C', ax = ax[0], label = 'Survived' )\n",
    "ax[0].set_title('Distribution of people as per Age Group')\n",
    "ax[0].set_xlabel('Age Group')\n",
    "ax[0].set_ylabel('No. of People')\n",
    "ax[0].legend()\n",
    "\n",
    "for p in ax[0].patches:\n",
    "        ax[0].annotate('{:.2f}%'.format(p.get_height()/len(train)*100), (p.get_x()+0.4, p.get_height()+20),ha='center', va='top', color='black', size=14)\n",
    "        \n",
    "\n",
    "sns.countplot(x = 'ageGroup', data = train, hue = 'Sex', ax = ax[1])\n",
    "ax[1].set_title('Distribution of Gender as per Age Group')\n",
    "ax[1].set_xlabel('Age Group')\n",
    "ax[1].set_ylabel('No. of People')       \n",
    "        \n",
    "for p in ax[1].patches:\n",
    "        ax[1].annotate('{:.2f}%'.format(p.get_height()/len(train)*100), (p.get_x()+0.2, p.get_height()+16),ha='center', va='top', color='black', size=14)\n",
    "        \n",
    "\n",
    "sns.countplot(x = 'ageGroup', data = train, hue = 'Pclass', ax = ax[2])\n",
    "ax[2].set_title('Distribution of Class as per Age Group')\n",
    "ax[2].set_xlabel('Age Group')\n",
    "ax[2].set_ylabel('No. of People')       \n",
    "        \n",
    "for p in ax[2].patches:\n",
    "        ax[2].annotate('{:.2f}%'.format(p.get_height()/len(train)*100), (p.get_x()+0.15, p.get_height()+16),ha='center', va='top', color='black', size=14)"
   ]
  },
  {
   "cell_type": "markdown",
   "id": "b88679af",
   "metadata": {
    "papermill": {
     "duration": 0.040519,
     "end_time": "2021-11-10T13:48:02.470448",
     "exception": false,
     "start_time": "2021-11-10T13:48:02.429929",
     "status": "completed"
    },
    "tags": []
   },
   "source": [
    "Its interesting to see that 41% of passengers are adults belonging to third class. Proving our hypothesis proposed in imputation as True."
   ]
  },
  {
   "cell_type": "code",
   "execution_count": 18,
   "id": "506a9e15",
   "metadata": {
    "execution": {
     "iopub.execute_input": "2021-11-10T13:48:02.600576Z",
     "iopub.status.busy": "2021-11-10T13:48:02.581546Z",
     "iopub.status.idle": "2021-11-10T13:48:03.481094Z",
     "shell.execute_reply": "2021-11-10T13:48:03.480445Z",
     "shell.execute_reply.started": "2021-11-10T13:15:33.293929Z"
    },
    "papermill": {
     "duration": 0.97024,
     "end_time": "2021-11-10T13:48:03.481242",
     "exception": false,
     "start_time": "2021-11-10T13:48:02.511002",
     "status": "completed"
    },
    "tags": []
   },
   "outputs": [
    {
     "data": {
      "image/png": "[encoded data removed]",
      "text/plain": [
       "<Figure size 1440x1440 with 3 Axes>"
      ]
     },
     "metadata": {
      "needs_background": "light"
     },
     "output_type": "display_data"
    }
   ],
   "source": [
    "f, ax = plt.subplots(3,1,figsize = (20,20))\n",
    "\n",
    "sns.countplot(x = 'Sex', data = train, hue = 'Survived', ax = ax[0])\n",
    "ax[0].set_title('Distribution of Survivors per Gender')\n",
    "ax[0].set_xlabel('Gender')\n",
    "ax[0].set_ylabel('No. of People')\n",
    "for p in ax[0].patches:\n",
    "        ax[0].annotate('{:.2f}%'.format(p.get_height()/len(train)*100), (p.get_x()+0.2, p.get_height()+18),ha='center', va='top', color='black', size=14)\n",
    "        \n",
    "\n",
    "sns.countplot(x = 'Sex', data = train, hue = 'Pclass', ax = ax[1])\n",
    "sns.countplot(x = 'Sex', data = train.loc[train['Survived'] == 1], color = '#2C1DFF', hue = 'Pclass', ax = ax[1])\n",
    "ax[1].set_title('Distribution of Survivors by Gender from each Passensger Class')\n",
    "ax[1].set_xlabel('Passensger Class')\n",
    "ax[1].set_ylabel('No. of People')\n",
    "for p in ax[1].patches:\n",
    "        ax[1].annotate('{:.2f}%'.format(p.get_height()/len(train)*100), (p.get_x()+0.15, p.get_height()+14),ha='center', va='top', color='black', size=14)\n",
    "\n",
    "        \n",
    "sns.countplot(x = 'ageGroup', data = train, hue = 'Sex', ax = ax[2])\n",
    "ax[2].set_title('Distribution of Gender in each Age Group')\n",
    "ax[2].set_xlabel('Age Group')\n",
    "ax[2].set_ylabel('No. of People')\n",
    "for p in ax[2].patches:\n",
    "        ax[2].annotate('{:.2f}%'.format(p.get_height()/len(train)*100), (p.get_x()+0.2, p.get_height()+15),ha='center', va='top', color='black', size=14) "
   ]
  },
  {
   "cell_type": "markdown",
   "id": "2e384bb7",
   "metadata": {
    "papermill": {
     "duration": 0.042419,
     "end_time": "2021-11-10T13:48:03.566809",
     "exception": false,
     "start_time": "2021-11-10T13:48:03.524390",
     "status": "completed"
    },
    "tags": []
   },
   "source": [
    "Lets check out some stats from port of embarkment"
   ]
  },
  {
   "cell_type": "code",
   "execution_count": 19,
   "id": "8e0b4bbd",
   "metadata": {
    "execution": {
     "iopub.execute_input": "2021-11-10T13:48:03.665543Z",
     "iopub.status.busy": "2021-11-10T13:48:03.655095Z",
     "iopub.status.idle": "2021-11-10T13:48:04.796982Z",
     "shell.execute_reply": "2021-11-10T13:48:04.797440Z",
     "shell.execute_reply.started": "2021-11-10T13:15:34.338789Z"
    },
    "papermill": {
     "duration": 1.188088,
     "end_time": "2021-11-10T13:48:04.797630",
     "exception": false,
     "start_time": "2021-11-10T13:48:03.609542",
     "status": "completed"
    },
    "tags": []
   },
   "outputs": [
    {
     "data": {
      "image/png": "[encoded data removed]",
      "text/plain": [
       "<Figure size 1440x2160 with 4 Axes>"
      ]
     },
     "metadata": {
      "needs_background": "light"
     },
     "output_type": "display_data"
    }
   ],
   "source": [
    "f, ax = plt.subplots(4,1,figsize = (20,30))\n",
    "\n",
    "# FF7E0C(Orange), F5FF29(yellow)\n",
    "sns.countplot(x = 'Embarked', data = train, ax = ax[0])\n",
    "ax[0].set_title('Distribution of boarding ship from different Ports')\n",
    "ax[0].set_xlabel('Ports')\n",
    "ax[0].set_ylabel('No. of People')\n",
    "ax[0].set_xticklabels(( 'Southampton','Cherbourg', 'Queenstown'))\n",
    "for p in ax[0].patches:\n",
    "        ax[0].annotate('{:.2f}%'.format(p.get_height()/len(train)*100), (p.get_x()+0.4, p.get_height()+24),ha='center', va='top', color='black', size=14)\n",
    "        \n",
    "        \n",
    "sns.countplot(x = 'Embarked', data = train, hue = 'Survived', ax = ax[1])\n",
    "ax[1].set_title('Distribution of people surviving from different Ports')\n",
    "ax[1].set_xlabel('Ports')\n",
    "ax[1].set_ylabel('No. of People')\n",
    "ax[1].set_xticklabels(( 'Southampton','Cherbourg', 'Queenstown'))\n",
    "for p in ax[1].patches:\n",
    "        ax[1].annotate('{:.2f}%'.format(p.get_height()/len(train)*100), (p.get_x()+0.2, p.get_height()+18),ha='center', va='top', color='black', size=14)\n",
    "        \n",
    "\n",
    "sns.countplot(x = 'Embarked', data = train, hue = 'ageGroup', ax = ax[2])\n",
    "ax[2].set_title('Distribution of people from different Age groups boarding from Ports')\n",
    "ax[2].set_xlabel('Ports')\n",
    "ax[2].set_ylabel('No. of People')\n",
    "ax[2].set_xticklabels(( 'Southampton','Cherbourg', 'Queenstown'))\n",
    "for p in ax[2].patches:\n",
    "        ax[2].annotate('{:.1f}'.format(p.get_height()), (p.get_x()+0.08, p.get_height()+18),ha='center', va='top', color='black', size=14)\n",
    "        \n",
    "sns.countplot(x = 'Embarked', data = train, hue = 'Pclass', ax = ax[3])\n",
    "ax[3].set_title('Distribution of people boarding to differents Passensger Class from Ports')\n",
    "ax[3].set_xlabel('Ports')\n",
    "ax[3].set_ylabel('No. of People')\n",
    "ax[3].set_xticklabels(( 'Southampton','Cherbourg', 'Queenstown'))\n",
    "for p in ax[3].patches:\n",
    "        ax[3].annotate('{:.2f}%'.format(p.get_height()/len(train)*100), (p.get_x()+0.15, p.get_height()+14),ha='center', va='top', color='black', size=14)"
   ]
  },
  {
   "cell_type": "code",
   "execution_count": 20,
   "id": "d47a0e32",
   "metadata": {
    "execution": {
     "iopub.execute_input": "2021-11-10T13:48:04.897937Z",
     "iopub.status.busy": "2021-11-10T13:48:04.897221Z",
     "iopub.status.idle": "2021-11-10T13:48:05.341109Z",
     "shell.execute_reply": "2021-11-10T13:48:05.340667Z",
     "shell.execute_reply.started": "2021-11-10T13:15:35.642019Z"
    },
    "papermill": {
     "duration": 0.497749,
     "end_time": "2021-11-10T13:48:05.341239",
     "exception": false,
     "start_time": "2021-11-10T13:48:04.843490",
     "status": "completed"
    },
    "tags": []
   },
   "outputs": [
    {
     "data": {
      "image/png": "[encoded data removed]",
      "text/plain": [
       "<Figure size 1440x1080 with 2 Axes>"
      ]
     },
     "metadata": {
      "needs_background": "light"
     },
     "output_type": "display_data"
    }
   ],
   "source": [
    "f, ax = plt.subplots(2,1,figsize = (20,15))\n",
    "\n",
    "# FF7E0C(Orange), F5FF29(yellow)\n",
    "sns.countplot(x = 'Pclass', data = train, ax = ax[0])\n",
    "ax[0].set_title('Distribution of People boarding in different Passenger class')\n",
    "ax[0].set_xlabel('Passensger Class')\n",
    "ax[0].set_ylabel('No. of People')\n",
    "for p in ax[0].patches:\n",
    "        ax[0].annotate('{:.2f}%'.format(p.get_height()/len(train)*100), (p.get_x()+0.4, p.get_height()+20),ha='center', va='top', color='black', size=14)\n",
    "        \n",
    "        \n",
    "sns.countplot(x = 'Pclass', data = train, hue = 'Survived', ax = ax[1])\n",
    "ax[1].set_title('Distribution of Survivors boarding in different Passenger class')\n",
    "ax[1].set_xlabel('Passensger Class')\n",
    "ax[1].set_ylabel('No. of People')\n",
    "for p in ax[1].patches:\n",
    "        ax[1].annotate('{:.2f}%'.format(p.get_height()/len(train)*100), (p.get_x()+0.2, p.get_height()+16),ha='center', va='top', color='black', size=14)\n",
    "        "
   ]
  },
  {
   "cell_type": "markdown",
   "id": "f4ffc7e5",
   "metadata": {
    "papermill": {
     "duration": 0.051505,
     "end_time": "2021-11-10T13:48:05.440912",
     "exception": false,
     "start_time": "2021-11-10T13:48:05.389407",
     "status": "completed"
    },
    "tags": []
   },
   "source": [
    "Now, we Deduce if the person is travelling alone or with family"
   ]
  },
  {
   "cell_type": "code",
   "execution_count": 21,
   "id": "91e1aa60",
   "metadata": {
    "execution": {
     "iopub.execute_input": "2021-11-10T13:48:05.538295Z",
     "iopub.status.busy": "2021-11-10T13:48:05.537348Z",
     "iopub.status.idle": "2021-11-10T13:48:05.544277Z",
     "shell.execute_reply": "2021-11-10T13:48:05.544819Z",
     "shell.execute_reply.started": "2021-11-10T13:15:36.141452Z"
    },
    "papermill": {
     "duration": 0.057219,
     "end_time": "2021-11-10T13:48:05.544986",
     "exception": false,
     "start_time": "2021-11-10T13:48:05.487767",
     "status": "completed"
    },
    "tags": []
   },
   "outputs": [],
   "source": [
    "# Deducing if the passenger is t\n",
    "\n",
    "train['familySize'] = train['SibSp'] + train['Parch'] + 1 #1 is person himself/herself\n",
    "test['familySize'] = test['SibSp'] + test['Parch'] + 1"
   ]
  },
  {
   "cell_type": "code",
   "execution_count": 22,
   "id": "f4322afc",
   "metadata": {
    "execution": {
     "iopub.execute_input": "2021-11-10T13:48:05.641959Z",
     "iopub.status.busy": "2021-11-10T13:48:05.641048Z",
     "iopub.status.idle": "2021-11-10T13:48:05.649887Z",
     "shell.execute_reply": "2021-11-10T13:48:05.650393Z",
     "shell.execute_reply.started": "2021-11-10T13:15:36.151838Z"
    },
    "papermill": {
     "duration": 0.05887,
     "end_time": "2021-11-10T13:48:05.650555",
     "exception": false,
     "start_time": "2021-11-10T13:48:05.591685",
     "status": "completed"
    },
    "tags": []
   },
   "outputs": [],
   "source": [
    "train.loc[train['familySize'] == 1, 'is_alone'] = 1\n",
    "train.loc[train['familySize'] > 1, 'is_alone'] = 0\n",
    "\n",
    "test.loc[test['familySize'] == 1, 'is_alone'] = 1\n",
    "test.loc[test['familySize'] > 1, 'is_alone'] = 0"
   ]
  },
  {
   "cell_type": "code",
   "execution_count": 23,
   "id": "cf36f0b2",
   "metadata": {
    "execution": {
     "iopub.execute_input": "2021-11-10T13:48:05.747418Z",
     "iopub.status.busy": "2021-11-10T13:48:05.746520Z",
     "iopub.status.idle": "2021-11-10T13:48:05.763315Z",
     "shell.execute_reply": "2021-11-10T13:48:05.762865Z",
     "shell.execute_reply.started": "2021-11-10T13:15:36.168660Z"
    },
    "papermill": {
     "duration": 0.066332,
     "end_time": "2021-11-10T13:48:05.763458",
     "exception": false,
     "start_time": "2021-11-10T13:48:05.697126",
     "status": "completed"
    },
    "tags": []
   },
   "outputs": [
    {
     "data": {
      "text/html": [
       "<div>\n",
       "<style scoped>\n",
       "    .dataframe tbody tr th:only-of-type {\n",
       "        vertical-align: middle;\n",
       "    }\n",
       "\n",
       "    .dataframe tbody tr th {\n",
       "        vertical-align: top;\n",
       "    }\n",
       "\n",
       "    .dataframe thead th {\n",
       "        text-align: right;\n",
       "    }\n",
       "</style>\n",
       "<table border=\"1\" class=\"dataframe\">\n",
       "  <thead>\n",
       "    <tr style=\"text-align: right;\">\n",
       "      <th></th>\n",
       "      <th>Alone</th>\n",
       "      <th>Sex</th>\n",
       "      <th>Count</th>\n",
       "    </tr>\n",
       "  </thead>\n",
       "  <tbody>\n",
       "    <tr>\n",
       "      <th>0</th>\n",
       "      <td>No</td>\n",
       "      <td>female</td>\n",
       "      <td>188</td>\n",
       "    </tr>\n",
       "    <tr>\n",
       "      <th>1</th>\n",
       "      <td>No</td>\n",
       "      <td>male</td>\n",
       "      <td>166</td>\n",
       "    </tr>\n",
       "    <tr>\n",
       "      <th>2</th>\n",
       "      <td>Yes</td>\n",
       "      <td>female</td>\n",
       "      <td>126</td>\n",
       "    </tr>\n",
       "    <tr>\n",
       "      <th>3</th>\n",
       "      <td>Yes</td>\n",
       "      <td>male</td>\n",
       "      <td>411</td>\n",
       "    </tr>\n",
       "  </tbody>\n",
       "</table>\n",
       "</div>"
      ],
      "text/plain": [
       "  Alone     Sex  Count\n",
       "0    No  female    188\n",
       "1    No    male    166\n",
       "2   Yes  female    126\n",
       "3   Yes    male    411"
      ]
     },
     "execution_count": 23,
     "metadata": {},
     "output_type": "execute_result"
    }
   ],
   "source": [
    "a = train.groupby(['is_alone', 'Sex']).size().reset_index()\n",
    "a.columns = ['Alone', 'Sex','Count']\n",
    "a.loc[a['Alone'] == 1, 'Alone'] = 'Yes'\n",
    "a.loc[a['Alone'] == 0, 'Alone'] = 'No'\n",
    "a\n"
   ]
  },
  {
   "cell_type": "code",
   "execution_count": 24,
   "id": "fa3a9bc5",
   "metadata": {
    "execution": {
     "iopub.execute_input": "2021-11-10T13:48:05.863180Z",
     "iopub.status.busy": "2021-11-10T13:48:05.862483Z",
     "iopub.status.idle": "2021-11-10T13:48:05.884666Z",
     "shell.execute_reply": "2021-11-10T13:48:05.885060Z",
     "shell.execute_reply.started": "2021-11-10T13:15:36.193681Z"
    },
    "papermill": {
     "duration": 0.073184,
     "end_time": "2021-11-10T13:48:05.885225",
     "exception": false,
     "start_time": "2021-11-10T13:48:05.812041",
     "status": "completed"
    },
    "tags": []
   },
   "outputs": [
    {
     "data": {
      "text/html": [
       "<div>                            <div id=\"3bca440e-f5e6-437a-a6a3-28708c4a84a7\" class=\"plotly-graph-div\" style=\"height:525px; width:100%;\"></div>            <script type=\"text/javascript\">                require([\"plotly\"], function(Plotly) {                    window.PLOTLYENV=window.PLOTLYENV || {};                                    if (document.getElementById(\"3bca440e-f5e6-437a-a6a3-28708c4a84a7\")) {                    Plotly.newPlot(                        \"3bca440e-f5e6-437a-a6a3-28708c4a84a7\",                        [{\"domain\":{\"x\":[0.0,0.45],\"y\":[0.0,1.0]},\"hole\":0.4,\"labels\":[\"No\",\"No\",\"Yes\",\"Yes\"],\"name\":\"Alone?\",\"textinfo\":\"label+percent\",\"type\":\"pie\",\"values\":[188,166,126,411]},{\"domain\":{\"x\":[0.55,1.0],\"y\":[0.0,1.0]},\"hole\":0.4,\"labels\":[\"female\",\"male\",\"female\",\"male\"],\"name\":\"Solo Traveller\",\"textinfo\":\"label+percent\",\"type\":\"pie\",\"values\":[188,166,126,411]}],                        {\"annotations\":[{\"font\":{\"size\":20},\"showarrow\":false,\"text\":\"Is Alone?\",\"x\":0.18,\"y\":0.5},{\"font\":{\"size\":20},\"showarrow\":false,\"text\":\"Lone Gender?\",\"x\":0.82,\"y\":0.5}],\"template\":{\"data\":{\"bar\":[{\"error_x\":{\"color\":\"#2a3f5f\"},\"error_y\":{\"color\":\"#2a3f5f\"},\"marker\":{\"line\":{\"color\":\"#E5ECF6\",\"width\":0.5},\"pattern\":{\"fillmode\":\"overlay\",\"size\":10,\"solidity\":0.2}},\"type\":\"bar\"}],\"barpolar\":[{\"marker\":{\"line\":{\"color\":\"#E5ECF6\",\"width\":0.5},\"pattern\":{\"fillmode\":\"overlay\",\"size\":10,\"solidity\":0.2}},\"type\":\"barpolar\"}],\"carpet\":[{\"aaxis\":{\"endlinecolor\":\"#2a3f5f\",\"gridcolor\":\"white\",\"linecolor\":\"white\",\"minorgridcolor\":\"white\",\"startlinecolor\":\"#2a3f5f\"},\"baxis\":{\"endlinecolor\":\"#2a3f5f\",\"gridcolor\":\"white\",\"linecolor\":\"white\",\"minorgridcolor\":\"white\",\"startlinecolor\":\"#2a3f5f\"},\"type\":\"carpet\"}],\"choropleth\":[{\"colorbar\":{\"outlinewidth\":0,\"ticks\":\"\"},\"type\":\"choropleth\"}],\"contour\":[{\"colorbar\":{\"outlinewidth\":0,\"ticks\":\"\"},\"colorscale\":[[0.0,\"#0d0887\"],[0.1111111111111111,\"#46039f\"],[0.2222222222222222,\"#7201a8\"],[0.3333333333333333,\"#9c179e\"],[0.4444444444444444,\"#bd3786\"],[0.5555555555555556,\"#d8576b\"],[0.6666666666666666,\"#ed7953\"],[0.7777777777777778,\"#fb9f3a\"],[0.8888888888888888,\"#fdca26\"],[1.0,\"#f0f921\"]],\"type\":\"contour\"}],\"contourcarpet\":[{\"colorbar\":{\"outlinewidth\":0,\"ticks\":\"\"},\"type\":\"contourcarpet\"}],\"heatmap\":[{\"colorbar\":{\"outlinewidth\":0,\"ticks\":\"\"},\"colorscale\":[[0.0,\"#0d0887\"],[0.1111111111111111,\"#46039f\"],[0.2222222222222222,\"#7201a8\"],[0.3333333333333333,\"#9c179e\"],[0.4444444444444444,\"#bd3786\"],[0.5555555555555556,\"#d8576b\"],[0.6666666666666666,\"#ed7953\"],[0.7777777777777778,\"#fb9f3a\"],[0.8888888888888888,\"#fdca26\"],[1.0,\"#f0f921\"]],\"type\":\"heatmap\"}],\"heatmapgl\":[{\"colorbar\":{\"outlinewidth\":0,\"ticks\":\"\"},\"colorscale\":[[0.0,\"#0d0887\"],[0.1111111111111111,\"#46039f\"],[0.2222222222222222,\"#7201a8\"],[0.3333333333333333,\"#9c179e\"],[0.4444444444444444,\"#bd3786\"],[0.5555555555555556,\"#d8576b\"],[0.6666666666666666,\"#ed7953\"],[0.7777777777777778,\"#fb9f3a\"],[0.8888888888888888,\"#fdca26\"],[1.0,\"#f0f921\"]],\"type\":\"heatmapgl\"}],\"histogram\":[{\"marker\":{\"pattern\":{\"fillmode\":\"overlay\",\"size\":10,\"solidity\":0.2}},\"type\":\"histogram\"}],\"histogram2d\":[{\"colorbar\":{\"outlinewidth\":0,\"ticks\":\"\"},\"colorscale\":[[0.0,\"#0d0887\"],[0.1111111111111111,\"#46039f\"],[0.2222222222222222,\"#7201a8\"],[0.3333333333333333,\"#9c179e\"],[0.4444444444444444,\"#bd3786\"],[0.5555555555555556,\"#d8576b\"],[0.6666666666666666,\"#ed7953\"],[0.7777777777777778,\"#fb9f3a\"],[0.8888888888888888,\"#fdca26\"],[1.0,\"#f0f921\"]],\"type\":\"histogram2d\"}],\"histogram2dcontour\":[{\"colorbar\":{\"outlinewidth\":0,\"ticks\":\"\"},\"colorscale\":[[0.0,\"#0d0887\"],[0.1111111111111111,\"#46039f\"],[0.2222222222222222,\"#7201a8\"],[0.3333333333333333,\"#9c179e\"],[0.4444444444444444,\"#bd3786\"],[0.5555555555555556,\"#d8576b\"],[0.6666666666666666,\"#ed7953\"],[0.7777777777777778,\"#fb9f3a\"],[0.8888888888888888,\"#fdca26\"],[1.0,\"#f0f921\"]],\"type\":\"histogram2dcontour\"}],\"mesh3d\":[{\"colorbar\":{\"outlinewidth\":0,\"ticks\":\"\"},\"type\":\"mesh3d\"}],\"parcoords\":[{\"line\":{\"colorbar\":{\"outlinewidth\":0,\"ticks\":\"\"}},\"type\":\"parcoords\"}],\"pie\":[{\"automargin\":true,\"type\":\"pie\"}],\"scatter\":[{\"marker\":{\"colorbar\":{\"outlinewidth\":0,\"ticks\":\"\"}},\"type\":\"scatter\"}],\"scatter3d\":[{\"line\":{\"colorbar\":{\"outlinewidth\":0,\"ticks\":\"\"}},\"marker\":{\"colorbar\":{\"outlinewidth\":0,\"ticks\":\"\"}},\"type\":\"scatter3d\"}],\"scattercarpet\":[{\"marker\":{\"colorbar\":{\"outlinewidth\":0,\"ticks\":\"\"}},\"type\":\"scattercarpet\"}],\"scattergeo\":[{\"marker\":{\"colorbar\":{\"outlinewidth\":0,\"ticks\":\"\"}},\"type\":\"scattergeo\"}],\"scattergl\":[{\"marker\":{\"colorbar\":{\"outlinewidth\":0,\"ticks\":\"\"}},\"type\":\"scattergl\"}],\"scattermapbox\":[{\"marker\":{\"colorbar\":{\"outlinewidth\":0,\"ticks\":\"\"}},\"type\":\"scattermapbox\"}],\"scatterpolar\":[{\"marker\":{\"colorbar\":{\"outlinewidth\":0,\"ticks\":\"\"}},\"type\":\"scatterpolar\"}],\"scatterpolargl\":[{\"marker\":{\"colorbar\":{\"outlinewidth\":0,\"ticks\":\"\"}},\"type\":\"scatterpolargl\"}],\"scatterternary\":[{\"marker\":{\"colorbar\":{\"outlinewidth\":0,\"ticks\":\"\"}},\"type\":\"scatterternary\"}],\"surface\":[{\"colorbar\":{\"outlinewidth\":0,\"ticks\":\"\"},\"colorscale\":[[0.0,\"#0d0887\"],[0.1111111111111111,\"#46039f\"],[0.2222222222222222,\"#7201a8\"],[0.3333333333333333,\"#9c179e\"],[0.4444444444444444,\"#bd3786\"],[0.5555555555555556,\"#d8576b\"],[0.6666666666666666,\"#ed7953\"],[0.7777777777777778,\"#fb9f3a\"],[0.8888888888888888,\"#fdca26\"],[1.0,\"#f0f921\"]],\"type\":\"surface\"}],\"table\":[{\"cells\":{\"fill\":{\"color\":\"#EBF0F8\"},\"line\":{\"color\":\"white\"}},\"header\":{\"fill\":{\"color\":\"#C8D4E3\"},\"line\":{\"color\":\"white\"}},\"type\":\"table\"}]},\"layout\":{\"annotationdefaults\":{\"arrowcolor\":\"#2a3f5f\",\"arrowhead\":0,\"arrowwidth\":1},\"autotypenumbers\":\"strict\",\"coloraxis\":{\"colorbar\":{\"outlinewidth\":0,\"ticks\":\"\"}},\"colorscale\":{\"diverging\":[[0,\"#8e0152\"],[0.1,\"#c51b7d\"],[0.2,\"#de77ae\"],[0.3,\"#f1b6da\"],[0.4,\"#fde0ef\"],[0.5,\"#f7f7f7\"],[0.6,\"#e6f5d0\"],[0.7,\"#b8e186\"],[0.8,\"#7fbc41\"],[0.9,\"#4d9221\"],[1,\"#276419\"]],\"sequential\":[[0.0,\"#0d0887\"],[0.1111111111111111,\"#46039f\"],[0.2222222222222222,\"#7201a8\"],[0.3333333333333333,\"#9c179e\"],[0.4444444444444444,\"#bd3786\"],[0.5555555555555556,\"#d8576b\"],[0.6666666666666666,\"#ed7953\"],[0.7777777777777778,\"#fb9f3a\"],[0.8888888888888888,\"#fdca26\"],[1.0,\"#f0f921\"]],\"sequentialminus\":[[0.0,\"#0d0887\"],[0.1111111111111111,\"#46039f\"],[0.2222222222222222,\"#7201a8\"],[0.3333333333333333,\"#9c179e\"],[0.4444444444444444,\"#bd3786\"],[0.5555555555555556,\"#d8576b\"],[0.6666666666666666,\"#ed7953\"],[0.7777777777777778,\"#fb9f3a\"],[0.8888888888888888,\"#fdca26\"],[1.0,\"#f0f921\"]]},\"colorway\":[\"#636efa\",\"#EF553B\",\"#00cc96\",\"#ab63fa\",\"#FFA15A\",\"#19d3f3\",\"#FF6692\",\"#B6E880\",\"#FF97FF\",\"#FECB52\"],\"font\":{\"color\":\"#2a3f5f\"},\"geo\":{\"bgcolor\":\"white\",\"lakecolor\":\"white\",\"landcolor\":\"#E5ECF6\",\"showlakes\":true,\"showland\":true,\"subunitcolor\":\"white\"},\"hoverlabel\":{\"align\":\"left\"},\"hovermode\":\"closest\",\"mapbox\":{\"style\":\"light\"},\"paper_bgcolor\":\"white\",\"plot_bgcolor\":\"#E5ECF6\",\"polar\":{\"angularaxis\":{\"gridcolor\":\"white\",\"linecolor\":\"white\",\"ticks\":\"\"},\"bgcolor\":\"#E5ECF6\",\"radialaxis\":{\"gridcolor\":\"white\",\"linecolor\":\"white\",\"ticks\":\"\"}},\"scene\":{\"xaxis\":{\"backgroundcolor\":\"#E5ECF6\",\"gridcolor\":\"white\",\"gridwidth\":2,\"linecolor\":\"white\",\"showbackground\":true,\"ticks\":\"\",\"zerolinecolor\":\"white\"},\"yaxis\":{\"backgroundcolor\":\"#E5ECF6\",\"gridcolor\":\"white\",\"gridwidth\":2,\"linecolor\":\"white\",\"showbackground\":true,\"ticks\":\"\",\"zerolinecolor\":\"white\"},\"zaxis\":{\"backgroundcolor\":\"#E5ECF6\",\"gridcolor\":\"white\",\"gridwidth\":2,\"linecolor\":\"white\",\"showbackground\":true,\"ticks\":\"\",\"zerolinecolor\":\"white\"}},\"shapedefaults\":{\"line\":{\"color\":\"#2a3f5f\"}},\"ternary\":{\"aaxis\":{\"gridcolor\":\"white\",\"linecolor\":\"white\",\"ticks\":\"\"},\"baxis\":{\"gridcolor\":\"white\",\"linecolor\":\"white\",\"ticks\":\"\"},\"bgcolor\":\"#E5ECF6\",\"caxis\":{\"gridcolor\":\"white\",\"linecolor\":\"white\",\"ticks\":\"\"}},\"title\":{\"x\":0.05},\"xaxis\":{\"automargin\":true,\"gridcolor\":\"white\",\"linecolor\":\"white\",\"ticks\":\"\",\"title\":{\"standoff\":15},\"zerolinecolor\":\"white\",\"zerolinewidth\":2},\"yaxis\":{\"automargin\":true,\"gridcolor\":\"white\",\"linecolor\":\"white\",\"ticks\":\"\",\"title\":{\"standoff\":15},\"zerolinecolor\":\"white\",\"zerolinewidth\":2}}},\"title\":{\"text\":\"People travelling with Companions\"}},                        {\"responsive\": true}                    ).then(function(){\n",
       "                            \n",
       "var gd = document.getElementById('3bca440e-f5e6-437a-a6a3-28708c4a84a7');\n",
       "var x = new MutationObserver(function (mutations, observer) {{\n",
       "        var display = window.getComputedStyle(gd).display;\n",
       "        if (!display || display === 'none') {{\n",
       "            console.log([gd, 'removed!']);\n",
       "            Plotly.purge(gd);\n",
       "            observer.disconnect();\n",
       "        }}\n",
       "}});\n",
       "\n",
       "// Listen for the removal of the full notebook cells\n",
       "var notebookContainer = gd.closest('#notebook-container');\n",
       "if (notebookContainer) {{\n",
       "    x.observe(notebookContainer, {childList: true});\n",
       "}}\n",
       "\n",
       "// Listen for the clearing of the current output cell\n",
       "var outputEl = gd.closest('.output');\n",
       "if (outputEl) {{\n",
       "    x.observe(outputEl, {childList: true});\n",
       "}}\n",
       "\n",
       "                        })                };                });            </script>        </div>"
      ]
     },
     "metadata": {},
     "output_type": "display_data"
    }
   ],
   "source": [
    "fig = make_subplots(rows=1, cols=2, specs=[[{'type':'domain'}, {'type':'domain'}]])\n",
    "\n",
    "fig.add_trace(go.Pie(labels=a.Alone.values, values=a.Count.values, name=\"Alone?\"),\n",
    "              1, 1)\n",
    "\n",
    "a.loc[a['Alone']==1]\n",
    "fig.add_trace(go.Pie(labels=a.Sex.values, values=a.Count.values, name=\"Solo Traveller\"),\n",
    "              1, 2)\n",
    "\n",
    "# Use `hole` to create a donut-like pie chart\n",
    "fig.update_traces(hole = 0.4, textinfo=\"label+percent\")\n",
    "\n",
    "fig.update_layout(\n",
    "    title_text=\"People travelling with Companions\",\n",
    "    # Add annotations in the center of the donut pies.\n",
    "    annotations=[dict(text='Is Alone?', x=0.18, y=0.5, font_size=20, showarrow=False),\n",
    "                 dict(text='Lone Gender?', x=0.82, y=0.5, font_size=20, showarrow=False)])\n",
    "fig.show()"
   ]
  },
  {
   "cell_type": "code",
   "execution_count": 25,
   "id": "af5fbe36",
   "metadata": {
    "execution": {
     "iopub.execute_input": "2021-11-10T13:48:05.985488Z",
     "iopub.status.busy": "2021-11-10T13:48:05.984853Z",
     "iopub.status.idle": "2021-11-10T13:48:06.027015Z",
     "shell.execute_reply": "2021-11-10T13:48:06.027431Z",
     "shell.execute_reply.started": "2021-11-10T13:15:36.226432Z"
    },
    "papermill": {
     "duration": 0.094209,
     "end_time": "2021-11-10T13:48:06.027622",
     "exception": false,
     "start_time": "2021-11-10T13:48:05.933413",
     "status": "completed"
    },
    "tags": []
   },
   "outputs": [
    {
     "data": {
      "text/html": [
       "<div>                            <div id=\"5813db34-bd93-40a0-a383-2be59770a309\" class=\"plotly-graph-div\" style=\"height:525px; width:100%;\"></div>            <script type=\"text/javascript\">                require([\"plotly\"], function(Plotly) {                    window.PLOTLYENV=window.PLOTLYENV || {};                                    if (document.getElementById(\"5813db34-bd93-40a0-a383-2be59770a309\")) {                    Plotly.newPlot(                        \"5813db34-bd93-40a0-a383-2be59770a309\",                        [{\"domain\":{\"x\":[0.0,1.0],\"y\":[0.0,1.0]},\"hovertemplate\":\"familySize=%{label}<br>Count=%{value}<extra></extra>\",\"labels\":[1,2,3,4,5,6,7,8,11],\"legendgroup\":\"\",\"name\":\"\",\"showlegend\":true,\"type\":\"pie\",\"values\":[537,161,102,29,15,22,12,6,7]}],                        {\"legend\":{\"tracegroupgap\":0},\"template\":{\"data\":{\"bar\":[{\"error_x\":{\"color\":\"#2a3f5f\"},\"error_y\":{\"color\":\"#2a3f5f\"},\"marker\":{\"line\":{\"color\":\"#E5ECF6\",\"width\":0.5},\"pattern\":{\"fillmode\":\"overlay\",\"size\":10,\"solidity\":0.2}},\"type\":\"bar\"}],\"barpolar\":[{\"marker\":{\"line\":{\"color\":\"#E5ECF6\",\"width\":0.5},\"pattern\":{\"fillmode\":\"overlay\",\"size\":10,\"solidity\":0.2}},\"type\":\"barpolar\"}],\"carpet\":[{\"aaxis\":{\"endlinecolor\":\"#2a3f5f\",\"gridcolor\":\"white\",\"linecolor\":\"white\",\"minorgridcolor\":\"white\",\"startlinecolor\":\"#2a3f5f\"},\"baxis\":{\"endlinecolor\":\"#2a3f5f\",\"gridcolor\":\"white\",\"linecolor\":\"white\",\"minorgridcolor\":\"white\",\"startlinecolor\":\"#2a3f5f\"},\"type\":\"carpet\"}],\"choropleth\":[{\"colorbar\":{\"outlinewidth\":0,\"ticks\":\"\"},\"type\":\"choropleth\"}],\"contour\":[{\"colorbar\":{\"outlinewidth\":0,\"ticks\":\"\"},\"colorscale\":[[0.0,\"#0d0887\"],[0.1111111111111111,\"#46039f\"],[0.2222222222222222,\"#7201a8\"],[0.3333333333333333,\"#9c179e\"],[0.4444444444444444,\"#bd3786\"],[0.5555555555555556,\"#d8576b\"],[0.6666666666666666,\"#ed7953\"],[0.7777777777777778,\"#fb9f3a\"],[0.8888888888888888,\"#fdca26\"],[1.0,\"#f0f921\"]],\"type\":\"contour\"}],\"contourcarpet\":[{\"colorbar\":{\"outlinewidth\":0,\"ticks\":\"\"},\"type\":\"contourcarpet\"}],\"heatmap\":[{\"colorbar\":{\"outlinewidth\":0,\"ticks\":\"\"},\"colorscale\":[[0.0,\"#0d0887\"],[0.1111111111111111,\"#46039f\"],[0.2222222222222222,\"#7201a8\"],[0.3333333333333333,\"#9c179e\"],[0.4444444444444444,\"#bd3786\"],[0.5555555555555556,\"#d8576b\"],[0.6666666666666666,\"#ed7953\"],[0.7777777777777778,\"#fb9f3a\"],[0.8888888888888888,\"#fdca26\"],[1.0,\"#f0f921\"]],\"type\":\"heatmap\"}],\"heatmapgl\":[{\"colorbar\":{\"outlinewidth\":0,\"ticks\":\"\"},\"colorscale\":[[0.0,\"#0d0887\"],[0.1111111111111111,\"#46039f\"],[0.2222222222222222,\"#7201a8\"],[0.3333333333333333,\"#9c179e\"],[0.4444444444444444,\"#bd3786\"],[0.5555555555555556,\"#d8576b\"],[0.6666666666666666,\"#ed7953\"],[0.7777777777777778,\"#fb9f3a\"],[0.8888888888888888,\"#fdca26\"],[1.0,\"#f0f921\"]],\"type\":\"heatmapgl\"}],\"histogram\":[{\"marker\":{\"pattern\":{\"fillmode\":\"overlay\",\"size\":10,\"solidity\":0.2}},\"type\":\"histogram\"}],\"histogram2d\":[{\"colorbar\":{\"outlinewidth\":0,\"ticks\":\"\"},\"colorscale\":[[0.0,\"#0d0887\"],[0.1111111111111111,\"#46039f\"],[0.2222222222222222,\"#7201a8\"],[0.3333333333333333,\"#9c179e\"],[0.4444444444444444,\"#bd3786\"],[0.5555555555555556,\"#d8576b\"],[0.6666666666666666,\"#ed7953\"],[0.7777777777777778,\"#fb9f3a\"],[0.8888888888888888,\"#fdca26\"],[1.0,\"#f0f921\"]],\"type\":\"histogram2d\"}],\"histogram2dcontour\":[{\"colorbar\":{\"outlinewidth\":0,\"ticks\":\"\"},\"colorscale\":[[0.0,\"#0d0887\"],[0.1111111111111111,\"#46039f\"],[0.2222222222222222,\"#7201a8\"],[0.3333333333333333,\"#9c179e\"],[0.4444444444444444,\"#bd3786\"],[0.5555555555555556,\"#d8576b\"],[0.6666666666666666,\"#ed7953\"],[0.7777777777777778,\"#fb9f3a\"],[0.8888888888888888,\"#fdca26\"],[1.0,\"#f0f921\"]],\"type\":\"histogram2dcontour\"}],\"mesh3d\":[{\"colorbar\":{\"outlinewidth\":0,\"ticks\":\"\"},\"type\":\"mesh3d\"}],\"parcoords\":[{\"line\":{\"colorbar\":{\"outlinewidth\":0,\"ticks\":\"\"}},\"type\":\"parcoords\"}],\"pie\":[{\"automargin\":true,\"type\":\"pie\"}],\"scatter\":[{\"marker\":{\"colorbar\":{\"outlinewidth\":0,\"ticks\":\"\"}},\"type\":\"scatter\"}],\"scatter3d\":[{\"line\":{\"colorbar\":{\"outlinewidth\":0,\"ticks\":\"\"}},\"marker\":{\"colorbar\":{\"outlinewidth\":0,\"ticks\":\"\"}},\"type\":\"scatter3d\"}],\"scattercarpet\":[{\"marker\":{\"colorbar\":{\"outlinewidth\":0,\"ticks\":\"\"}},\"type\":\"scattercarpet\"}],\"scattergeo\":[{\"marker\":{\"colorbar\":{\"outlinewidth\":0,\"ticks\":\"\"}},\"type\":\"scattergeo\"}],\"scattergl\":[{\"marker\":{\"colorbar\":{\"outlinewidth\":0,\"ticks\":\"\"}},\"type\":\"scattergl\"}],\"scattermapbox\":[{\"marker\":{\"colorbar\":{\"outlinewidth\":0,\"ticks\":\"\"}},\"type\":\"scattermapbox\"}],\"scatterpolar\":[{\"marker\":{\"colorbar\":{\"outlinewidth\":0,\"ticks\":\"\"}},\"type\":\"scatterpolar\"}],\"scatterpolargl\":[{\"marker\":{\"colorbar\":{\"outlinewidth\":0,\"ticks\":\"\"}},\"type\":\"scatterpolargl\"}],\"scatterternary\":[{\"marker\":{\"colorbar\":{\"outlinewidth\":0,\"ticks\":\"\"}},\"type\":\"scatterternary\"}],\"surface\":[{\"colorbar\":{\"outlinewidth\":0,\"ticks\":\"\"},\"colorscale\":[[0.0,\"#0d0887\"],[0.1111111111111111,\"#46039f\"],[0.2222222222222222,\"#7201a8\"],[0.3333333333333333,\"#9c179e\"],[0.4444444444444444,\"#bd3786\"],[0.5555555555555556,\"#d8576b\"],[0.6666666666666666,\"#ed7953\"],[0.7777777777777778,\"#fb9f3a\"],[0.8888888888888888,\"#fdca26\"],[1.0,\"#f0f921\"]],\"type\":\"surface\"}],\"table\":[{\"cells\":{\"fill\":{\"color\":\"#EBF0F8\"},\"line\":{\"color\":\"white\"}},\"header\":{\"fill\":{\"color\":\"#C8D4E3\"},\"line\":{\"color\":\"white\"}},\"type\":\"table\"}]},\"layout\":{\"annotationdefaults\":{\"arrowcolor\":\"#2a3f5f\",\"arrowhead\":0,\"arrowwidth\":1},\"autotypenumbers\":\"strict\",\"coloraxis\":{\"colorbar\":{\"outlinewidth\":0,\"ticks\":\"\"}},\"colorscale\":{\"diverging\":[[0,\"#8e0152\"],[0.1,\"#c51b7d\"],[0.2,\"#de77ae\"],[0.3,\"#f1b6da\"],[0.4,\"#fde0ef\"],[0.5,\"#f7f7f7\"],[0.6,\"#e6f5d0\"],[0.7,\"#b8e186\"],[0.8,\"#7fbc41\"],[0.9,\"#4d9221\"],[1,\"#276419\"]],\"sequential\":[[0.0,\"#0d0887\"],[0.1111111111111111,\"#46039f\"],[0.2222222222222222,\"#7201a8\"],[0.3333333333333333,\"#9c179e\"],[0.4444444444444444,\"#bd3786\"],[0.5555555555555556,\"#d8576b\"],[0.6666666666666666,\"#ed7953\"],[0.7777777777777778,\"#fb9f3a\"],[0.8888888888888888,\"#fdca26\"],[1.0,\"#f0f921\"]],\"sequentialminus\":[[0.0,\"#0d0887\"],[0.1111111111111111,\"#46039f\"],[0.2222222222222222,\"#7201a8\"],[0.3333333333333333,\"#9c179e\"],[0.4444444444444444,\"#bd3786\"],[0.5555555555555556,\"#d8576b\"],[0.6666666666666666,\"#ed7953\"],[0.7777777777777778,\"#fb9f3a\"],[0.8888888888888888,\"#fdca26\"],[1.0,\"#f0f921\"]]},\"colorway\":[\"#636efa\",\"#EF553B\",\"#00cc96\",\"#ab63fa\",\"#FFA15A\",\"#19d3f3\",\"#FF6692\",\"#B6E880\",\"#FF97FF\",\"#FECB52\"],\"font\":{\"color\":\"#2a3f5f\"},\"geo\":{\"bgcolor\":\"white\",\"lakecolor\":\"white\",\"landcolor\":\"#E5ECF6\",\"showlakes\":true,\"showland\":true,\"subunitcolor\":\"white\"},\"hoverlabel\":{\"align\":\"left\"},\"hovermode\":\"closest\",\"mapbox\":{\"style\":\"light\"},\"paper_bgcolor\":\"white\",\"plot_bgcolor\":\"#E5ECF6\",\"polar\":{\"angularaxis\":{\"gridcolor\":\"white\",\"linecolor\":\"white\",\"ticks\":\"\"},\"bgcolor\":\"#E5ECF6\",\"radialaxis\":{\"gridcolor\":\"white\",\"linecolor\":\"white\",\"ticks\":\"\"}},\"scene\":{\"xaxis\":{\"backgroundcolor\":\"#E5ECF6\",\"gridcolor\":\"white\",\"gridwidth\":2,\"linecolor\":\"white\",\"showbackground\":true,\"ticks\":\"\",\"zerolinecolor\":\"white\"},\"yaxis\":{\"backgroundcolor\":\"#E5ECF6\",\"gridcolor\":\"white\",\"gridwidth\":2,\"linecolor\":\"white\",\"showbackground\":true,\"ticks\":\"\",\"zerolinecolor\":\"white\"},\"zaxis\":{\"backgroundcolor\":\"#E5ECF6\",\"gridcolor\":\"white\",\"gridwidth\":2,\"linecolor\":\"white\",\"showbackground\":true,\"ticks\":\"\",\"zerolinecolor\":\"white\"}},\"shapedefaults\":{\"line\":{\"color\":\"#2a3f5f\"}},\"ternary\":{\"aaxis\":{\"gridcolor\":\"white\",\"linecolor\":\"white\",\"ticks\":\"\"},\"baxis\":{\"gridcolor\":\"white\",\"linecolor\":\"white\",\"ticks\":\"\"},\"bgcolor\":\"#E5ECF6\",\"caxis\":{\"gridcolor\":\"white\",\"linecolor\":\"white\",\"ticks\":\"\"}},\"title\":{\"x\":0.05},\"xaxis\":{\"automargin\":true,\"gridcolor\":\"white\",\"linecolor\":\"white\",\"ticks\":\"\",\"title\":{\"standoff\":15},\"zerolinecolor\":\"white\",\"zerolinewidth\":2},\"yaxis\":{\"automargin\":true,\"gridcolor\":\"white\",\"linecolor\":\"white\",\"ticks\":\"\",\"title\":{\"standoff\":15},\"zerolinecolor\":\"white\",\"zerolinewidth\":2}}},\"title\":{\"text\":\"Family size of Passensgers\"}},                        {\"responsive\": true}                    ).then(function(){\n",
       "                            \n",
       "var gd = document.getElementById('5813db34-bd93-40a0-a383-2be59770a309');\n",
       "var x = new MutationObserver(function (mutations, observer) {{\n",
       "        var display = window.getComputedStyle(gd).display;\n",
       "        if (!display || display === 'none') {{\n",
       "            console.log([gd, 'removed!']);\n",
       "            Plotly.purge(gd);\n",
       "            observer.disconnect();\n",
       "        }}\n",
       "}});\n",
       "\n",
       "// Listen for the removal of the full notebook cells\n",
       "var notebookContainer = gd.closest('#notebook-container');\n",
       "if (notebookContainer) {{\n",
       "    x.observe(notebookContainer, {childList: true});\n",
       "}}\n",
       "\n",
       "// Listen for the clearing of the current output cell\n",
       "var outputEl = gd.closest('.output');\n",
       "if (outputEl) {{\n",
       "    x.observe(outputEl, {childList: true});\n",
       "}}\n",
       "\n",
       "                        })                };                });            </script>        </div>"
      ]
     },
     "metadata": {},
     "output_type": "display_data"
    }
   ],
   "source": [
    "a = train.groupby('familySize').size().reset_index()\n",
    "a.columns = ['familySize', 'Count']\n",
    "\n",
    "fig = px.pie(a, values='Count', names='familySize', title = 'Family size of Passensgers')\n",
    "\n",
    "fig.show()\n"
   ]
  },
  {
   "cell_type": "code",
   "execution_count": 26,
   "id": "45c4c240",
   "metadata": {
    "execution": {
     "iopub.execute_input": "2021-11-10T13:48:06.135104Z",
     "iopub.status.busy": "2021-11-10T13:48:06.128474Z",
     "iopub.status.idle": "2021-11-10T13:48:06.137768Z",
     "shell.execute_reply": "2021-11-10T13:48:06.137159Z",
     "shell.execute_reply.started": "2021-11-10T13:15:36.287371Z"
    },
    "papermill": {
     "duration": 0.061587,
     "end_time": "2021-11-10T13:48:06.137920",
     "exception": false,
     "start_time": "2021-11-10T13:48:06.076333",
     "status": "completed"
    },
    "tags": []
   },
   "outputs": [],
   "source": [
    "def title_extract(data):\n",
    "    \n",
    "    # Extracting titles from Names\n",
    "    data['title'] = data['Name'].str.extract(' ([A-Za-z]+)\\.', expand=False)\n",
    "    data['title'] = data['title'].replace(['Lady', 'Countess','Capt', 'Col','Don', 'Dr', 'Major', 'Rev', 'Sir', 'Jonkheer', 'Dona'], 'Rare')\n",
    "    data['title'] = data['title'].replace('Mlle', 'Miss')\n",
    "    data['title'] = data['title'].replace('Ms', 'Miss')\n",
    "    data['title'] = data['title'].replace('Mme', 'Mrs')   \n",
    "        \n",
    "    return data\n",
    "\n",
    "def encode_cols(data):\n",
    "    #     Encoding the data\n",
    "    data['Sex'] = data['Sex'].map({'female' : 1, 'male':2})\n",
    "    data['Embarked'] = data['Embarked'].map({'C': 1, 'Q':2 , 'S':3})\n",
    "    data['title'] = data['title'].map({'Mr':1, 'Mrs':2, 'Miss':3, 'Master':4, 'Rare':5})\n",
    "    data['ageGroup'] = data['ageGroup'].map({'child':1, 'teen':2, 'adults':3, 'midAgedAdults':4, 'old':5})\n",
    "    \n",
    "    return data"
   ]
  },
  {
   "cell_type": "code",
   "execution_count": 27,
   "id": "d9502a34",
   "metadata": {
    "execution": {
     "iopub.execute_input": "2021-11-10T13:48:06.240705Z",
     "iopub.status.busy": "2021-11-10T13:48:06.240094Z",
     "iopub.status.idle": "2021-11-10T13:48:06.250952Z",
     "shell.execute_reply": "2021-11-10T13:48:06.251442Z",
     "shell.execute_reply.started": "2021-11-10T13:15:36.299321Z"
    },
    "papermill": {
     "duration": 0.06478,
     "end_time": "2021-11-10T13:48:06.251623",
     "exception": false,
     "start_time": "2021-11-10T13:48:06.186843",
     "status": "completed"
    },
    "tags": []
   },
   "outputs": [],
   "source": [
    "train = title_extract(train)\n",
    "test = title_extract(test)"
   ]
  },
  {
   "cell_type": "code",
   "execution_count": 28,
   "id": "dd71f1f4",
   "metadata": {
    "execution": {
     "iopub.execute_input": "2021-11-10T13:48:06.376482Z",
     "iopub.status.busy": "2021-11-10T13:48:06.357969Z",
     "iopub.status.idle": "2021-11-10T13:48:06.379787Z",
     "shell.execute_reply": "2021-11-10T13:48:06.380200Z",
     "shell.execute_reply.started": "2021-11-10T13:15:36.334371Z"
    },
    "papermill": {
     "duration": 0.080177,
     "end_time": "2021-11-10T13:48:06.380367",
     "exception": false,
     "start_time": "2021-11-10T13:48:06.300190",
     "status": "completed"
    },
    "tags": []
   },
   "outputs": [
    {
     "data": {
      "text/html": [
       "<div>                            <div id=\"99a4ab2e-dd97-40b7-9eb7-23a446b8a00c\" class=\"plotly-graph-div\" style=\"height:525px; width:100%;\"></div>            <script type=\"text/javascript\">                require([\"plotly\"], function(Plotly) {                    window.PLOTLYENV=window.PLOTLYENV || {};                                    if (document.getElementById(\"99a4ab2e-dd97-40b7-9eb7-23a446b8a00c\")) {                    Plotly.newPlot(                        \"99a4ab2e-dd97-40b7-9eb7-23a446b8a00c\",                        [{\"domain\":{\"x\":[0.0,0.45],\"y\":[0.0,1.0]},\"hole\":0.4,\"labels\":[\"Master\",\"Master\",\"Miss\",\"Miss\",\"Mr\",\"Mr\",\"Mrs\",\"Mrs\",\"Rare\",\"Rare\"],\"name\":\"Title\",\"textinfo\":\"label+percent\",\"type\":\"pie\",\"values\":[17,23,55,130,436,81,26,100,15,8]},{\"domain\":{\"x\":[0.55,1.0],\"y\":[0.0,1.0]},\"hole\":0.4,\"labels\":[\"Master\",\"Master\",\"Miss\",\"Miss\",\"Mr\",\"Mr\",\"Mrs\",\"Mrs\",\"Rare\",\"Rare\"],\"name\":\"Survivor Title\",\"textinfo\":\"label+percent\",\"type\":\"pie\",\"values\":[17,23,55,130,436,81,26,100,15,8]}],                        {\"annotations\":[{\"font\":{\"size\":20},\"showarrow\":false,\"text\":\"Title\",\"x\":0.18,\"y\":0.5},{\"font\":{\"size\":20},\"showarrow\":false,\"text\":\"Survivor\",\"x\":0.82,\"y\":0.5}],\"template\":{\"data\":{\"bar\":[{\"error_x\":{\"color\":\"#2a3f5f\"},\"error_y\":{\"color\":\"#2a3f5f\"},\"marker\":{\"line\":{\"color\":\"#E5ECF6\",\"width\":0.5},\"pattern\":{\"fillmode\":\"overlay\",\"size\":10,\"solidity\":0.2}},\"type\":\"bar\"}],\"barpolar\":[{\"marker\":{\"line\":{\"color\":\"#E5ECF6\",\"width\":0.5},\"pattern\":{\"fillmode\":\"overlay\",\"size\":10,\"solidity\":0.2}},\"type\":\"barpolar\"}],\"carpet\":[{\"aaxis\":{\"endlinecolor\":\"#2a3f5f\",\"gridcolor\":\"white\",\"linecolor\":\"white\",\"minorgridcolor\":\"white\",\"startlinecolor\":\"#2a3f5f\"},\"baxis\":{\"endlinecolor\":\"#2a3f5f\",\"gridcolor\":\"white\",\"linecolor\":\"white\",\"minorgridcolor\":\"white\",\"startlinecolor\":\"#2a3f5f\"},\"type\":\"carpet\"}],\"choropleth\":[{\"colorbar\":{\"outlinewidth\":0,\"ticks\":\"\"},\"type\":\"choropleth\"}],\"contour\":[{\"colorbar\":{\"outlinewidth\":0,\"ticks\":\"\"},\"colorscale\":[[0.0,\"#0d0887\"],[0.1111111111111111,\"#46039f\"],[0.2222222222222222,\"#7201a8\"],[0.3333333333333333,\"#9c179e\"],[0.4444444444444444,\"#bd3786\"],[0.5555555555555556,\"#d8576b\"],[0.6666666666666666,\"#ed7953\"],[0.7777777777777778,\"#fb9f3a\"],[0.8888888888888888,\"#fdca26\"],[1.0,\"#f0f921\"]],\"type\":\"contour\"}],\"contourcarpet\":[{\"colorbar\":{\"outlinewidth\":0,\"ticks\":\"\"},\"type\":\"contourcarpet\"}],\"heatmap\":[{\"colorbar\":{\"outlinewidth\":0,\"ticks\":\"\"},\"colorscale\":[[0.0,\"#0d0887\"],[0.1111111111111111,\"#46039f\"],[0.2222222222222222,\"#7201a8\"],[0.3333333333333333,\"#9c179e\"],[0.4444444444444444,\"#bd3786\"],[0.5555555555555556,\"#d8576b\"],[0.6666666666666666,\"#ed7953\"],[0.7777777777777778,\"#fb9f3a\"],[0.8888888888888888,\"#fdca26\"],[1.0,\"#f0f921\"]],\"type\":\"heatmap\"}],\"heatmapgl\":[{\"colorbar\":{\"outlinewidth\":0,\"ticks\":\"\"},\"colorscale\":[[0.0,\"#0d0887\"],[0.1111111111111111,\"#46039f\"],[0.2222222222222222,\"#7201a8\"],[0.3333333333333333,\"#9c179e\"],[0.4444444444444444,\"#bd3786\"],[0.5555555555555556,\"#d8576b\"],[0.6666666666666666,\"#ed7953\"],[0.7777777777777778,\"#fb9f3a\"],[0.8888888888888888,\"#fdca26\"],[1.0,\"#f0f921\"]],\"type\":\"heatmapgl\"}],\"histogram\":[{\"marker\":{\"pattern\":{\"fillmode\":\"overlay\",\"size\":10,\"solidity\":0.2}},\"type\":\"histogram\"}],\"histogram2d\":[{\"colorbar\":{\"outlinewidth\":0,\"ticks\":\"\"},\"colorscale\":[[0.0,\"#0d0887\"],[0.1111111111111111,\"#46039f\"],[0.2222222222222222,\"#7201a8\"],[0.3333333333333333,\"#9c179e\"],[0.4444444444444444,\"#bd3786\"],[0.5555555555555556,\"#d8576b\"],[0.6666666666666666,\"#ed7953\"],[0.7777777777777778,\"#fb9f3a\"],[0.8888888888888888,\"#fdca26\"],[1.0,\"#f0f921\"]],\"type\":\"histogram2d\"}],\"histogram2dcontour\":[{\"colorbar\":{\"outlinewidth\":0,\"ticks\":\"\"},\"colorscale\":[[0.0,\"#0d0887\"],[0.1111111111111111,\"#46039f\"],[0.2222222222222222,\"#7201a8\"],[0.3333333333333333,\"#9c179e\"],[0.4444444444444444,\"#bd3786\"],[0.5555555555555556,\"#d8576b\"],[0.6666666666666666,\"#ed7953\"],[0.7777777777777778,\"#fb9f3a\"],[0.8888888888888888,\"#fdca26\"],[1.0,\"#f0f921\"]],\"type\":\"histogram2dcontour\"}],\"mesh3d\":[{\"colorbar\":{\"outlinewidth\":0,\"ticks\":\"\"},\"type\":\"mesh3d\"}],\"parcoords\":[{\"line\":{\"colorbar\":{\"outlinewidth\":0,\"ticks\":\"\"}},\"type\":\"parcoords\"}],\"pie\":[{\"automargin\":true,\"type\":\"pie\"}],\"scatter\":[{\"marker\":{\"colorbar\":{\"outlinewidth\":0,\"ticks\":\"\"}},\"type\":\"scatter\"}],\"scatter3d\":[{\"line\":{\"colorbar\":{\"outlinewidth\":0,\"ticks\":\"\"}},\"marker\":{\"colorbar\":{\"outlinewidth\":0,\"ticks\":\"\"}},\"type\":\"scatter3d\"}],\"scattercarpet\":[{\"marker\":{\"colorbar\":{\"outlinewidth\":0,\"ticks\":\"\"}},\"type\":\"scattercarpet\"}],\"scattergeo\":[{\"marker\":{\"colorbar\":{\"outlinewidth\":0,\"ticks\":\"\"}},\"type\":\"scattergeo\"}],\"scattergl\":[{\"marker\":{\"colorbar\":{\"outlinewidth\":0,\"ticks\":\"\"}},\"type\":\"scattergl\"}],\"scattermapbox\":[{\"marker\":{\"colorbar\":{\"outlinewidth\":0,\"ticks\":\"\"}},\"type\":\"scattermapbox\"}],\"scatterpolar\":[{\"marker\":{\"colorbar\":{\"outlinewidth\":0,\"ticks\":\"\"}},\"type\":\"scatterpolar\"}],\"scatterpolargl\":[{\"marker\":{\"colorbar\":{\"outlinewidth\":0,\"ticks\":\"\"}},\"type\":\"scatterpolargl\"}],\"scatterternary\":[{\"marker\":{\"colorbar\":{\"outlinewidth\":0,\"ticks\":\"\"}},\"type\":\"scatterternary\"}],\"surface\":[{\"colorbar\":{\"outlinewidth\":0,\"ticks\":\"\"},\"colorscale\":[[0.0,\"#0d0887\"],[0.1111111111111111,\"#46039f\"],[0.2222222222222222,\"#7201a8\"],[0.3333333333333333,\"#9c179e\"],[0.4444444444444444,\"#bd3786\"],[0.5555555555555556,\"#d8576b\"],[0.6666666666666666,\"#ed7953\"],[0.7777777777777778,\"#fb9f3a\"],[0.8888888888888888,\"#fdca26\"],[1.0,\"#f0f921\"]],\"type\":\"surface\"}],\"table\":[{\"cells\":{\"fill\":{\"color\":\"#EBF0F8\"},\"line\":{\"color\":\"white\"}},\"header\":{\"fill\":{\"color\":\"#C8D4E3\"},\"line\":{\"color\":\"white\"}},\"type\":\"table\"}]},\"layout\":{\"annotationdefaults\":{\"arrowcolor\":\"#2a3f5f\",\"arrowhead\":0,\"arrowwidth\":1},\"autotypenumbers\":\"strict\",\"coloraxis\":{\"colorbar\":{\"outlinewidth\":0,\"ticks\":\"\"}},\"colorscale\":{\"diverging\":[[0,\"#8e0152\"],[0.1,\"#c51b7d\"],[0.2,\"#de77ae\"],[0.3,\"#f1b6da\"],[0.4,\"#fde0ef\"],[0.5,\"#f7f7f7\"],[0.6,\"#e6f5d0\"],[0.7,\"#b8e186\"],[0.8,\"#7fbc41\"],[0.9,\"#4d9221\"],[1,\"#276419\"]],\"sequential\":[[0.0,\"#0d0887\"],[0.1111111111111111,\"#46039f\"],[0.2222222222222222,\"#7201a8\"],[0.3333333333333333,\"#9c179e\"],[0.4444444444444444,\"#bd3786\"],[0.5555555555555556,\"#d8576b\"],[0.6666666666666666,\"#ed7953\"],[0.7777777777777778,\"#fb9f3a\"],[0.8888888888888888,\"#fdca26\"],[1.0,\"#f0f921\"]],\"sequentialminus\":[[0.0,\"#0d0887\"],[0.1111111111111111,\"#46039f\"],[0.2222222222222222,\"#7201a8\"],[0.3333333333333333,\"#9c179e\"],[0.4444444444444444,\"#bd3786\"],[0.5555555555555556,\"#d8576b\"],[0.6666666666666666,\"#ed7953\"],[0.7777777777777778,\"#fb9f3a\"],[0.8888888888888888,\"#fdca26\"],[1.0,\"#f0f921\"]]},\"colorway\":[\"#636efa\",\"#EF553B\",\"#00cc96\",\"#ab63fa\",\"#FFA15A\",\"#19d3f3\",\"#FF6692\",\"#B6E880\",\"#FF97FF\",\"#FECB52\"],\"font\":{\"color\":\"#2a3f5f\"},\"geo\":{\"bgcolor\":\"white\",\"lakecolor\":\"white\",\"landcolor\":\"#E5ECF6\",\"showlakes\":true,\"showland\":true,\"subunitcolor\":\"white\"},\"hoverlabel\":{\"align\":\"left\"},\"hovermode\":\"closest\",\"mapbox\":{\"style\":\"light\"},\"paper_bgcolor\":\"white\",\"plot_bgcolor\":\"#E5ECF6\",\"polar\":{\"angularaxis\":{\"gridcolor\":\"white\",\"linecolor\":\"white\",\"ticks\":\"\"},\"bgcolor\":\"#E5ECF6\",\"radialaxis\":{\"gridcolor\":\"white\",\"linecolor\":\"white\",\"ticks\":\"\"}},\"scene\":{\"xaxis\":{\"backgroundcolor\":\"#E5ECF6\",\"gridcolor\":\"white\",\"gridwidth\":2,\"linecolor\":\"white\",\"showbackground\":true,\"ticks\":\"\",\"zerolinecolor\":\"white\"},\"yaxis\":{\"backgroundcolor\":\"#E5ECF6\",\"gridcolor\":\"white\",\"gridwidth\":2,\"linecolor\":\"white\",\"showbackground\":true,\"ticks\":\"\",\"zerolinecolor\":\"white\"},\"zaxis\":{\"backgroundcolor\":\"#E5ECF6\",\"gridcolor\":\"white\",\"gridwidth\":2,\"linecolor\":\"white\",\"showbackground\":true,\"ticks\":\"\",\"zerolinecolor\":\"white\"}},\"shapedefaults\":{\"line\":{\"color\":\"#2a3f5f\"}},\"ternary\":{\"aaxis\":{\"gridcolor\":\"white\",\"linecolor\":\"white\",\"ticks\":\"\"},\"baxis\":{\"gridcolor\":\"white\",\"linecolor\":\"white\",\"ticks\":\"\"},\"bgcolor\":\"#E5ECF6\",\"caxis\":{\"gridcolor\":\"white\",\"linecolor\":\"white\",\"ticks\":\"\"}},\"title\":{\"x\":0.05},\"xaxis\":{\"automargin\":true,\"gridcolor\":\"white\",\"linecolor\":\"white\",\"ticks\":\"\",\"title\":{\"standoff\":15},\"zerolinecolor\":\"white\",\"zerolinewidth\":2},\"yaxis\":{\"automargin\":true,\"gridcolor\":\"white\",\"linecolor\":\"white\",\"ticks\":\"\",\"title\":{\"standoff\":15},\"zerolinecolor\":\"white\",\"zerolinewidth\":2}}},\"title\":{\"text\":\"Title of the Passensgers\"}},                        {\"responsive\": true}                    ).then(function(){\n",
       "                            \n",
       "var gd = document.getElementById('99a4ab2e-dd97-40b7-9eb7-23a446b8a00c');\n",
       "var x = new MutationObserver(function (mutations, observer) {{\n",
       "        var display = window.getComputedStyle(gd).display;\n",
       "        if (!display || display === 'none') {{\n",
       "            console.log([gd, 'removed!']);\n",
       "            Plotly.purge(gd);\n",
       "            observer.disconnect();\n",
       "        }}\n",
       "}});\n",
       "\n",
       "// Listen for the removal of the full notebook cells\n",
       "var notebookContainer = gd.closest('#notebook-container');\n",
       "if (notebookContainer) {{\n",
       "    x.observe(notebookContainer, {childList: true});\n",
       "}}\n",
       "\n",
       "// Listen for the clearing of the current output cell\n",
       "var outputEl = gd.closest('.output');\n",
       "if (outputEl) {{\n",
       "    x.observe(outputEl, {childList: true});\n",
       "}}\n",
       "\n",
       "                        })                };                });            </script>        </div>"
      ]
     },
     "metadata": {},
     "output_type": "display_data"
    }
   ],
   "source": [
    "a = train.groupby(['title', 'Survived']).size().reset_index()\n",
    "a.columns = ['title', 'Survived', 'Count']\n",
    "\n",
    "fig = make_subplots(rows=1, cols=2, specs=[[{'type':'domain'}, {'type':'domain'}]])\n",
    "\n",
    "fig.add_trace(go.Pie(labels=a.title.values, values=a.Count.values, name=\"Title\"),\n",
    "              1, 1)\n",
    "\n",
    "a.loc[a['Survived']==1]\n",
    "fig.add_trace(go.Pie(labels=a.title.values, values=a.Count.values, name=\"Survivor Title\"),\n",
    "              1, 2)\n",
    "\n",
    "# Use `hole` to create a donut-like pie chart\n",
    "fig.update_traces(hole = 0.4, textinfo=\"label+percent\")\n",
    "\n",
    "fig.update_layout(\n",
    "    title_text=\"Title of the Passensgers\",\n",
    "    # Add annotations in the center of the donut pies.\n",
    "    annotations=[dict(text='Title', x=0.18, y=0.5, font_size=20, showarrow=False),\n",
    "                 dict(text='Survivor', x=0.82, y=0.5, font_size=20, showarrow=False)])\n",
    "fig.show()"
   ]
  },
  {
   "cell_type": "code",
   "execution_count": 29,
   "id": "8694495a",
   "metadata": {
    "execution": {
     "iopub.execute_input": "2021-11-10T13:48:06.482784Z",
     "iopub.status.busy": "2021-11-10T13:48:06.482198Z",
     "iopub.status.idle": "2021-11-10T13:48:06.493956Z",
     "shell.execute_reply": "2021-11-10T13:48:06.494458Z",
     "shell.execute_reply.started": "2021-11-10T13:15:36.371860Z"
    },
    "papermill": {
     "duration": 0.064052,
     "end_time": "2021-11-10T13:48:06.494637",
     "exception": false,
     "start_time": "2021-11-10T13:48:06.430585",
     "status": "completed"
    },
    "tags": []
   },
   "outputs": [],
   "source": [
    "train = encode_cols(train)\n",
    "test = encode_cols(test)"
   ]
  },
  {
   "cell_type": "code",
   "execution_count": 30,
   "id": "fd661b4d",
   "metadata": {
    "execution": {
     "iopub.execute_input": "2021-11-10T13:48:06.596405Z",
     "iopub.status.busy": "2021-11-10T13:48:06.595842Z",
     "iopub.status.idle": "2021-11-10T13:48:06.602111Z",
     "shell.execute_reply": "2021-11-10T13:48:06.602613Z",
     "shell.execute_reply.started": "2021-11-10T13:15:36.389992Z"
    },
    "papermill": {
     "duration": 0.058808,
     "end_time": "2021-11-10T13:48:06.602778",
     "exception": false,
     "start_time": "2021-11-10T13:48:06.543970",
     "status": "completed"
    },
    "tags": []
   },
   "outputs": [],
   "source": [
    "train = train.drop(['Name', 'Ticket', 'Fare'], axis = 1)\n",
    "test = test.drop(['Name', 'Ticket', 'Fare'], axis = 1)"
   ]
  },
  {
   "cell_type": "code",
   "execution_count": 31,
   "id": "418fab04",
   "metadata": {
    "execution": {
     "iopub.execute_input": "2021-11-10T13:48:06.704601Z",
     "iopub.status.busy": "2021-11-10T13:48:06.704015Z",
     "iopub.status.idle": "2021-11-10T13:48:06.707904Z",
     "shell.execute_reply": "2021-11-10T13:48:06.708379Z",
     "shell.execute_reply.started": "2021-11-10T13:16:42.094511Z"
    },
    "papermill": {
     "duration": 0.055991,
     "end_time": "2021-11-10T13:48:06.708541",
     "exception": false,
     "start_time": "2021-11-10T13:48:06.652550",
     "status": "completed"
    },
    "tags": []
   },
   "outputs": [],
   "source": [
    "label = train.pop('Survived')"
   ]
  },
  {
   "cell_type": "markdown",
   "id": "0603c377",
   "metadata": {
    "papermill": {
     "duration": 0.050888,
     "end_time": "2021-11-10T13:48:06.808851",
     "exception": false,
     "start_time": "2021-11-10T13:48:06.757963",
     "status": "completed"
    },
    "tags": []
   },
   "source": [
    "Previously we have achieved:\n",
    "LR = 77\n",
    "RF = 72\n",
    "SVM = 67\n",
    "\n",
    "Now we will use Grid Search CV for training the model"
   ]
  },
  {
   "cell_type": "code",
   "execution_count": 32,
   "id": "6366fedf",
   "metadata": {
    "execution": {
     "iopub.execute_input": "2021-11-10T13:48:06.910433Z",
     "iopub.status.busy": "2021-11-10T13:48:06.909820Z",
     "iopub.status.idle": "2021-11-10T13:48:06.913075Z",
     "shell.execute_reply": "2021-11-10T13:48:06.913538Z",
     "shell.execute_reply.started": "2021-11-10T13:20:16.175595Z"
    },
    "papermill": {
     "duration": 0.055314,
     "end_time": "2021-11-10T13:48:06.913710",
     "exception": false,
     "start_time": "2021-11-10T13:48:06.858396",
     "status": "completed"
    },
    "tags": []
   },
   "outputs": [],
   "source": [
    "from sklearn.model_selection import GridSearchCV"
   ]
  },
  {
   "cell_type": "code",
   "execution_count": 33,
   "id": "7e725bd6",
   "metadata": {
    "execution": {
     "iopub.execute_input": "2021-11-10T13:48:07.014548Z",
     "iopub.status.busy": "2021-11-10T13:48:07.013969Z",
     "iopub.status.idle": "2021-11-10T13:48:07.018110Z",
     "shell.execute_reply": "2021-11-10T13:48:07.018657Z",
     "shell.execute_reply.started": "2021-11-10T13:43:08.129637Z"
    },
    "papermill": {
     "duration": 0.056088,
     "end_time": "2021-11-10T13:48:07.018832",
     "exception": false,
     "start_time": "2021-11-10T13:48:06.962744",
     "status": "completed"
    },
    "tags": []
   },
   "outputs": [],
   "source": [
    "#initially for Logistic Regression, random Forest  and SVM\n",
    "def gridsearch(data, label, clf, param_grid, scoring = 'f1'):\n",
    "    \n",
    "    grid = GridSearchCV(clf, param_grid, n_jobs = -1, cv = 10, verbose = 2).fit(data, label)\n",
    "    \n",
    "    print('The best estimator :', grid.best_estimator_)\n",
    "    print('Best Training Score ({}):'.format(scoring),grid.best_score_)\n",
    "    \n",
    "    return grid.best_estimator_"
   ]
  },
  {
   "cell_type": "code",
   "execution_count": 34,
   "id": "950efd35",
   "metadata": {
    "execution": {
     "iopub.execute_input": "2021-11-10T13:48:07.120637Z",
     "iopub.status.busy": "2021-11-10T13:48:07.120062Z",
     "iopub.status.idle": "2021-11-10T13:48:12.418315Z",
     "shell.execute_reply": "2021-11-10T13:48:12.418984Z",
     "shell.execute_reply.started": "2021-11-10T13:43:08.576482Z"
    },
    "papermill": {
     "duration": 5.350989,
     "end_time": "2021-11-10T13:48:12.419200",
     "exception": false,
     "start_time": "2021-11-10T13:48:07.068211",
     "status": "completed"
    },
    "scrolled": true,
    "tags": []
   },
   "outputs": [
    {
     "name": "stdout",
     "output_type": "stream",
     "text": [
      "Fitting 10 folds for each of 50 candidates, totalling 500 fits\n"
     ]
    },
    {
     "name": "stderr",
     "output_type": "stream",
     "text": [
      "[Parallel(n_jobs=-1)]: Using backend LokyBackend with 4 concurrent workers.\n",
      "[Parallel(n_jobs=-1)]: Done  38 tasks      | elapsed:    2.5s\n"
     ]
    },
    {
     "name": "stdout",
     "output_type": "stream",
     "text": [
      "[CV] intercept_scaling=1, max_iter=100, penalty=l1 ...................\n",
      "[CV] .... intercept_scaling=1, max_iter=100, penalty=l1, total=   0.0s\n",
      "[CV] intercept_scaling=1, max_iter=100, penalty=l1 ...................\n",
      "[CV] .... intercept_scaling=1, max_iter=100, penalty=l1, total=   0.0s\n",
      "[CV] intercept_scaling=1, max_iter=100, penalty=l1 ...................\n",
      "[CV] .... intercept_scaling=1, max_iter=100, penalty=l1, total=   0.0s\n",
      "[CV] intercept_scaling=1, max_iter=100, penalty=l2 ...................\n",
      "[CV] .... intercept_scaling=1, max_iter=100, penalty=l2, total=   0.0s\n",
      "[CV] intercept_scaling=1, max_iter=100, penalty=l2 ...................\n",
      "[CV] .... intercept_scaling=1, max_iter=100, penalty=l2, total=   0.0s\n",
      "[CV] intercept_scaling=1, max_iter=100, penalty=l2 ...................\n",
      "[CV] .... intercept_scaling=1, max_iter=100, penalty=l2, total=   0.0s\n",
      "[CV] intercept_scaling=1, max_iter=250, penalty=l1 ...................\n",
      "[CV] .... intercept_scaling=1, max_iter=250, penalty=l1, total=   0.0s\n",
      "[CV] intercept_scaling=1, max_iter=250, penalty=l1 ...................\n",
      "[CV] .... intercept_scaling=1, max_iter=250, penalty=l1, total=   0.0s\n",
      "[CV] intercept_scaling=1, max_iter=250, penalty=l2 ...................\n",
      "[CV] .... intercept_scaling=1, max_iter=250, penalty=l2, total=   0.0s\n",
      "[CV] intercept_scaling=1, max_iter=250, penalty=l2 ...................\n",
      "[CV] .... intercept_scaling=1, max_iter=250, penalty=l2, total=   0.0s\n",
      "[CV] intercept_scaling=1, max_iter=500, penalty=l1 ...................\n",
      "[CV] .... intercept_scaling=1, max_iter=500, penalty=l1, total=   0.0s\n",
      "[CV] intercept_scaling=1, max_iter=500, penalty=l1 ...................\n",
      "[CV] .... intercept_scaling=1, max_iter=500, penalty=l1, total=   0.0s\n",
      "[CV] intercept_scaling=1, max_iter=500, penalty=l2 ...................\n",
      "[CV] .... intercept_scaling=1, max_iter=500, penalty=l2, total=   0.0s\n",
      "[CV] intercept_scaling=1, max_iter=500, penalty=l2 ...................\n",
      "[CV] .... intercept_scaling=1, max_iter=500, penalty=l2, total=   0.0s\n",
      "[CV] intercept_scaling=1, max_iter=500, penalty=l2 ...................\n",
      "[CV] .... intercept_scaling=1, max_iter=500, penalty=l2, total=   0.0s\n",
      "[CV] intercept_scaling=1, max_iter=500, penalty=l2 ...................\n",
      "[CV] .... intercept_scaling=1, max_iter=500, penalty=l2, total=   0.0s\n",
      "[CV] intercept_scaling=1, max_iter=750, penalty=l1 ...................\n",
      "[CV] .... intercept_scaling=1, max_iter=750, penalty=l1, total=   0.0s\n",
      "[CV] intercept_scaling=1, max_iter=750, penalty=l1 ...................\n",
      "[CV] .... intercept_scaling=1, max_iter=750, penalty=l1, total=   0.0s\n",
      "[CV] intercept_scaling=1, max_iter=750, penalty=l1 ...................\n",
      "[CV] .... intercept_scaling=1, max_iter=750, penalty=l1, total=   0.0s\n",
      "[CV] intercept_scaling=1, max_iter=750, penalty=l1 ...................\n",
      "[CV] .... intercept_scaling=1, max_iter=750, penalty=l1, total=   0.0s\n",
      "[CV] intercept_scaling=1, max_iter=1000, penalty=l2 ..................\n",
      "[CV] ... intercept_scaling=1, max_iter=1000, penalty=l2, total=   0.0s\n",
      "[CV] intercept_scaling=1, max_iter=1000, penalty=l2 ..................\n",
      "[CV] ... intercept_scaling=1, max_iter=1000, penalty=l2, total=   0.0s\n",
      "[CV] intercept_scaling=1, max_iter=1000, penalty=l2 ..................\n",
      "[CV] ... intercept_scaling=1, max_iter=1000, penalty=l2, total=   0.0s\n",
      "[CV] intercept_scaling=1, max_iter=1000, penalty=l2 ..................\n",
      "[CV] ... intercept_scaling=1, max_iter=1000, penalty=l2, total=   0.0s\n",
      "[CV] intercept_scaling=1, max_iter=1000, penalty=l2 ..................\n",
      "[CV] ... intercept_scaling=1, max_iter=1000, penalty=l2, total=   0.0s\n",
      "[CV] intercept_scaling=1, max_iter=1000, penalty=l2 ..................\n",
      "[CV] ... intercept_scaling=1, max_iter=1000, penalty=l2, total=   0.0s\n",
      "[CV] intercept_scaling=1, max_iter=1000, penalty=l2 ..................\n",
      "[CV] ... intercept_scaling=1, max_iter=1000, penalty=l2, total=   0.0s\n",
      "[CV] intercept_scaling=1, max_iter=1000, penalty=l2 ..................\n",
      "[CV] ... intercept_scaling=1, max_iter=1000, penalty=l2, total=   0.0s\n",
      "[CV] intercept_scaling=3, max_iter=100, penalty=l1 ...................\n",
      "[CV] .... intercept_scaling=3, max_iter=100, penalty=l1, total=   0.0s\n",
      "[CV] intercept_scaling=3, max_iter=100, penalty=l1 ...................\n",
      "[CV] .... intercept_scaling=3, max_iter=100, penalty=l1, total=   0.0s\n",
      "[CV] intercept_scaling=3, max_iter=100, penalty=l2 ...................\n",
      "[CV] .... intercept_scaling=3, max_iter=100, penalty=l2, total=   0.0s\n",
      "[CV] intercept_scaling=3, max_iter=100, penalty=l2 ...................\n",
      "[CV] .... intercept_scaling=3, max_iter=100, penalty=l2, total=   0.0s\n",
      "[CV] intercept_scaling=3, max_iter=100, penalty=l2 ...................\n",
      "[CV] .... intercept_scaling=3, max_iter=100, penalty=l2, total=   0.0s\n",
      "[CV] intercept_scaling=3, max_iter=100, penalty=l2 ...................\n",
      "[CV] .... intercept_scaling=3, max_iter=100, penalty=l2, total=   0.0s\n",
      "[CV] intercept_scaling=3, max_iter=100, penalty=l2 ...................\n",
      "[CV] .... intercept_scaling=3, max_iter=100, penalty=l2, total=   0.0s\n",
      "[CV] intercept_scaling=3, max_iter=100, penalty=l2 ...................\n",
      "[CV] .... intercept_scaling=3, max_iter=100, penalty=l2, total=   0.0s\n",
      "[CV] intercept_scaling=3, max_iter=250, penalty=l2 ...................\n",
      "[CV] .... intercept_scaling=3, max_iter=250, penalty=l2, total=   0.0s\n",
      "[CV] intercept_scaling=3, max_iter=250, penalty=l2 ...................\n",
      "[CV] .... intercept_scaling=3, max_iter=250, penalty=l2, total=   0.0s\n",
      "[CV] intercept_scaling=3, max_iter=250, penalty=l2 ...................\n",
      "[CV] .... intercept_scaling=3, max_iter=250, penalty=l2, total=   0.0s\n",
      "[CV] intercept_scaling=3, max_iter=250, penalty=l2 ...................\n",
      "[CV] .... intercept_scaling=3, max_iter=250, penalty=l2, total=   0.0s\n",
      "[CV] intercept_scaling=3, max_iter=250, penalty=l2 ...................\n",
      "[CV] .... intercept_scaling=3, max_iter=250, penalty=l2, total=   0.0s\n",
      "[CV] intercept_scaling=3, max_iter=250, penalty=l2 ...................\n",
      "[CV] .... intercept_scaling=3, max_iter=250, penalty=l2, total=   0.0s\n",
      "[CV] intercept_scaling=3, max_iter=250, penalty=l2 ...................\n",
      "[CV] .... intercept_scaling=3, max_iter=250, penalty=l2, total=   0.0s\n",
      "[CV] intercept_scaling=3, max_iter=250, penalty=l2 ...................\n",
      "[CV] .... intercept_scaling=3, max_iter=250, penalty=l2, total=   0.0s\n",
      "[CV] intercept_scaling=3, max_iter=500, penalty=l1 ...................\n",
      "[CV] .... intercept_scaling=3, max_iter=500, penalty=l1, total=   0.0s\n",
      "[CV] intercept_scaling=3, max_iter=500, penalty=l1 ...................\n",
      "[CV] .... intercept_scaling=3, max_iter=500, penalty=l1, total=   0.0s\n",
      "[CV] intercept_scaling=3, max_iter=500, penalty=l1 ...................\n",
      "[CV] .... intercept_scaling=3, max_iter=500, penalty=l1, total=   0.0s\n",
      "[CV] intercept_scaling=3, max_iter=500, penalty=l1 ...................\n",
      "[CV] .... intercept_scaling=3, max_iter=500, penalty=l1, total=   0.0s\n",
      "[CV] intercept_scaling=3, max_iter=500, penalty=l1 ...................\n",
      "[CV] .... intercept_scaling=3, max_iter=500, penalty=l1, total=   0.0s\n",
      "[CV] intercept_scaling=3, max_iter=500, penalty=l1 ...................\n",
      "[CV] .... intercept_scaling=3, max_iter=500, penalty=l1, total=   0.0s\n",
      "[CV] intercept_scaling=3, max_iter=500, penalty=l1 ...................\n",
      "[CV] .... intercept_scaling=3, max_iter=500, penalty=l1, total=   0.0s\n",
      "[CV] intercept_scaling=3, max_iter=500, penalty=l1 ...................\n",
      "[CV] .... intercept_scaling=3, max_iter=500, penalty=l1, total=   0.0s\n",
      "[CV] intercept_scaling=3, max_iter=500, penalty=l1 ...................\n",
      "[CV] .... intercept_scaling=3, max_iter=500, penalty=l1, total=   0.0s\n",
      "[CV] intercept_scaling=3, max_iter=500, penalty=l1 ...................\n",
      "[CV] .... intercept_scaling=3, max_iter=500, penalty=l1, total=   0.0s\n",
      "[CV] intercept_scaling=3, max_iter=500, penalty=l2 ...................\n",
      "[CV] .... intercept_scaling=3, max_iter=500, penalty=l2, total=   0.0s\n",
      "[CV] intercept_scaling=3, max_iter=500, penalty=l2 ...................\n",
      "[CV] .... intercept_scaling=3, max_iter=500, penalty=l2, total=   0.0s\n",
      "[CV] intercept_scaling=3, max_iter=500, penalty=l2 ...................\n",
      "[CV] .... intercept_scaling=3, max_iter=500, penalty=l2, total=   0.0s\n",
      "[CV] intercept_scaling=3, max_iter=500, penalty=l2 ...................\n",
      "[CV] .... intercept_scaling=3, max_iter=500, penalty=l2, total=   0.0s[CV] intercept_scaling=1, max_iter=100, penalty=l1 ...................\n",
      "[CV] .... intercept_scaling=1, max_iter=100, penalty=l1, total=   0.0s\n",
      "[CV] intercept_scaling=1, max_iter=100, penalty=l2 ...................\n",
      "[CV] .... intercept_scaling=1, max_iter=100, penalty=l2, total=   0.0s\n",
      "[CV] intercept_scaling=1, max_iter=100, penalty=l2 ...................\n",
      "[CV] .... intercept_scaling=1, max_iter=100, penalty=l2, total=   0.0s\n",
      "[CV] intercept_scaling=1, max_iter=250, penalty=l1 ...................\n",
      "[CV] .... intercept_scaling=1, max_iter=250, penalty=l1, total=   0.0s\n",
      "[CV] intercept_scaling=1, max_iter=250, penalty=l1 ...................\n",
      "[CV] .... intercept_scaling=1, max_iter=250, penalty=l1, total=   0.0s\n",
      "[CV] intercept_scaling=1, max_iter=250, penalty=l2 ...................\n",
      "[CV] .... intercept_scaling=1, max_iter=250, penalty=l2, total=   0.0s\n",
      "[CV] intercept_scaling=1, max_iter=250, penalty=l2 ...................\n",
      "[CV] .... intercept_scaling=1, max_iter=250, penalty=l2, total=   0.0s\n",
      "[CV] intercept_scaling=1, max_iter=250, penalty=l2 ...................\n",
      "[CV] .... intercept_scaling=1, max_iter=250, penalty=l2, total=   0.0s\n",
      "[CV] intercept_scaling=1, max_iter=250, penalty=l2 ...................\n",
      "[CV] .... intercept_scaling=1, max_iter=250, penalty=l2, total=   0.0s\n",
      "[CV] intercept_scaling=1, max_iter=500, penalty=l1 ...................\n",
      "[CV] .... intercept_scaling=1, max_iter=500, penalty=l1, total=   0.0s\n",
      "[CV] intercept_scaling=1, max_iter=500, penalty=l1 ...................\n",
      "[CV] .... intercept_scaling=1, max_iter=500, penalty=l1, total=   0.0s\n",
      "[CV] intercept_scaling=1, max_iter=500, penalty=l2 ...................\n",
      "[CV] .... intercept_scaling=1, max_iter=500, penalty=l2, total=   0.0s\n",
      "[CV] intercept_scaling=1, max_iter=500, penalty=l2 ...................\n",
      "[CV] .... intercept_scaling=1, max_iter=500, penalty=l2, total=   0.0s\n",
      "[CV] intercept_scaling=1, max_iter=750, penalty=l1 ...................\n",
      "[CV] .... intercept_scaling=1, max_iter=750, penalty=l1, total=   0.0s\n",
      "[CV] intercept_scaling=1, max_iter=750, penalty=l1 ...................\n",
      "[CV] .... intercept_scaling=1, max_iter=750, penalty=l1, total=   0.0s\n",
      "[CV] intercept_scaling=1, max_iter=750, penalty=l2 ...................\n",
      "[CV] .... intercept_scaling=1, max_iter=750, penalty=l2, total=   0.0s\n",
      "[CV] intercept_scaling=1, max_iter=750, penalty=l2 ...................\n",
      "[CV] .... intercept_scaling=1, max_iter=750, penalty=l2, total=   0.0s\n",
      "[CV] intercept_scaling=1, max_iter=1000, penalty=l1 ..................\n",
      "[CV] ... intercept_scaling=1, max_iter=1000, penalty=l1, total=   0.0s\n",
      "[CV] intercept_scaling=1, max_iter=1000, penalty=l1 ..................\n",
      "[CV] ... intercept_scaling=1, max_iter=1000, penalty=l1, total=   0.0s\n",
      "[CV] intercept_scaling=1, max_iter=1000, penalty=l1 ..................\n",
      "[CV] ... intercept_scaling=1, max_iter=1000, penalty=l1, total=   0.0s\n",
      "[CV] intercept_scaling=1, max_iter=1000, penalty=l1 ..................\n",
      "[CV] ... intercept_scaling=1, max_iter=1000, penalty=l1, total=   0.0s\n",
      "[CV] intercept_scaling=1, max_iter=1000, penalty=l1 ..................\n",
      "[CV] ... intercept_scaling=1, max_iter=1000, penalty=l1, total=   0.0s\n",
      "[CV] intercept_scaling=1, max_iter=1000, penalty=l1 ..................\n",
      "[CV] ... intercept_scaling=1, max_iter=1000, penalty=l1, total=   0.0s\n",
      "[CV] intercept_scaling=1, max_iter=1000, penalty=l2 ..................\n",
      "[CV] ... intercept_scaling=1, max_iter=1000, penalty=l2, total=   0.0s\n",
      "[CV] intercept_scaling=1, max_iter=1000, penalty=l2 ..................\n",
      "[CV] ... intercept_scaling=1, max_iter=1000, penalty=l2, total=   0.0s\n",
      "[CV] intercept_scaling=3, max_iter=250, penalty=l1 ...................\n",
      "[CV] .... intercept_scaling=3, max_iter=250, penalty=l1, total=   0.0s\n",
      "[CV] intercept_scaling=3, max_iter=250, penalty=l1 ...................\n",
      "[CV] .... intercept_scaling=3, max_iter=250, penalty=l1, total=   0.0s\n",
      "[CV] intercept_scaling=3, max_iter=250, penalty=l1 ...................\n",
      "[CV] .... intercept_scaling=3, max_iter=250, penalty=l1, total=   0.0s\n",
      "[CV] intercept_scaling=3, max_iter=250, penalty=l1 ...................\n",
      "[CV] .... intercept_scaling=3, max_iter=250, penalty=l1, total=   0.0s\n",
      "[CV] intercept_scaling=3, max_iter=250, penalty=l1 ...................\n",
      "[CV] .... intercept_scaling=3, max_iter=250, penalty=l1, total=   0.0s\n",
      "[CV] intercept_scaling=3, max_iter=250, penalty=l1 ...................\n",
      "[CV] .... intercept_scaling=3, max_iter=250, penalty=l1, total=   0.0s\n",
      "[CV] intercept_scaling=3, max_iter=250, penalty=l2 ...................\n",
      "[CV] .... intercept_scaling=3, max_iter=250, penalty=l2, total=   0.0s\n",
      "[CV] intercept_scaling=3, max_iter=250, penalty=l2 ...................\n",
      "[CV] .... intercept_scaling=3, max_iter=250, penalty=l2, total=   0.0s\n",
      "[CV] intercept_scaling=3, max_iter=1000, penalty=l1 ..................\n",
      "[CV] ... intercept_scaling=3, max_iter=1000, penalty=l1, total=   0.0s\n",
      "[CV] intercept_scaling=3, max_iter=1000, penalty=l1 ..................\n",
      "[CV] ... intercept_scaling=3, max_iter=1000, penalty=l1, total=   0.0s\n",
      "[CV] intercept_scaling=3, max_iter=1000, penalty=l2 ..................\n",
      "[CV] ... intercept_scaling=3, max_iter=1000, penalty=l2, total=   0.0s\n",
      "[CV] intercept_scaling=3, max_iter=1000, penalty=l2 ..................\n",
      "[CV] ... intercept_scaling=3, max_iter=1000, penalty=l2, total=   0.0s\n",
      "[CV] intercept_scaling=3, max_iter=1000, penalty=l2 ..................\n",
      "[CV] ... intercept_scaling=3, max_iter=1000, penalty=l2, total=   0.0s\n",
      "[CV] intercept_scaling=3, max_iter=1000, penalty=l2 ..................\n",
      "[CV] ... intercept_scaling=3, max_iter=1000, penalty=l2, total=   0.0s\n",
      "[CV] intercept_scaling=3, max_iter=1000, penalty=l2 ..................\n",
      "[CV] ... intercept_scaling=3, max_iter=1000, penalty=l2, total=   0.0s\n",
      "[CV] intercept_scaling=3, max_iter=1000, penalty=l2 ..................\n",
      "[CV] ... intercept_scaling=3, max_iter=1000, penalty=l2, total=   0.0s\n",
      "[CV] intercept_scaling=3, max_iter=1000, penalty=l2 ..................\n",
      "[CV] ... intercept_scaling=3, max_iter=1000, penalty=l2, total=   0.0s\n",
      "[CV] intercept_scaling=3, max_iter=1000, penalty=l2 ..................\n",
      "[CV] ... intercept_scaling=3, max_iter=1000, penalty=l2, total=   0.0s\n",
      "[CV] intercept_scaling=3, max_iter=1000, penalty=l2 ..................\n",
      "[CV] ... intercept_scaling=3, max_iter=1000, penalty=l2, total=   0.0s\n",
      "[CV] intercept_scaling=3, max_iter=1000, penalty=l2 ..................\n",
      "[CV] ... intercept_scaling=3, max_iter=1000, penalty=l2, total=   0.0s\n",
      "[CV] intercept_scaling=5, max_iter=100, penalty=l1 ...................\n",
      "[CV] .... intercept_scaling=5, max_iter=100, penalty=l1, total=   0.0s\n",
      "[CV] intercept_scaling=5, max_iter=100, penalty=l1 ...................\n",
      "[CV] .... intercept_scaling=5, max_iter=100, penalty=l1, total=   0.0s\n",
      "[CV] intercept_scaling=5, max_iter=100, penalty=l1 ...................\n",
      "[CV] .... intercept_scaling=5, max_iter=100, penalty=l1, total=   0.0s\n",
      "[CV] intercept_scaling=5, max_iter=100, penalty=l1 ...................\n",
      "[CV] .... intercept_scaling=5, max_iter=100, penalty=l1, total=   0.0s\n",
      "[CV] intercept_scaling=5, max_iter=500, penalty=l2 ...................\n",
      "[CV] .... intercept_scaling=5, max_iter=500, penalty=l2, total=   0.0s\n",
      "[CV] intercept_scaling=5, max_iter=500, penalty=l2 ...................\n",
      "[CV] .... intercept_scaling=5, max_iter=500, penalty=l2, total=   0.0s\n",
      "[CV] intercept_scaling=5, max_iter=500, penalty=l2 ...................\n",
      "[CV] .... intercept_scaling=5, max_iter=500, penalty=l2, total=   0.0s\n",
      "[CV] intercept_scaling=5, max_iter=500, penalty=l2 ...................\n",
      "[CV] .... intercept_scaling=5, max_iter=500, penalty=l2, total=   0.0s\n",
      "[CV] intercept_scaling=5, max_iter=500, penalty=l2 ...................\n",
      "[CV] .... intercept_scaling=5, max_iter=500, penalty=l2, total=   0.0s\n",
      "[CV] intercept_scaling=5, max_iter=500, penalty=l2 ...................\n",
      "[CV] .... intercept_scaling=5, max_iter=500, penalty=l2, total=   0.0s\n",
      "[CV] intercept_scaling=5, max_iter=500, penalty=l2 ...................\n",
      "[CV] .... intercept_scaling=5, max_iter=500, penalty=l2, total=   0.0s\n",
      "[CV] intercept_scaling=5, max_iter=500, penalty=l2 ...................\n",
      "[CV] .... intercept_scaling=5, max_iter=500, penalty=l2, total=   0.0s\n",
      "[CV] intercept_scaling=5, max_iter=750, penalty=l1 ...................\n",
      "[CV] .... intercept_scaling=5, max_iter=750, penalty=l1, total=   0.0s[CV] intercept_scaling=1, max_iter=100, penalty=l1 ...................\n",
      "[CV] .... intercept_scaling=1, max_iter=100, penalty=l1, total=   0.0s\n",
      "[CV] intercept_scaling=1, max_iter=100, penalty=l1 ...................\n",
      "[CV] .... intercept_scaling=1, max_iter=100, penalty=l1, total=   0.0s\n",
      "[CV] intercept_scaling=1, max_iter=100, penalty=l1 ...................\n",
      "[CV] .... intercept_scaling=1, max_iter=100, penalty=l1, total=   0.0s\n",
      "[CV] intercept_scaling=1, max_iter=100, penalty=l1 ...................\n",
      "[CV] .... intercept_scaling=1, max_iter=100, penalty=l1, total=   0.0s\n",
      "[CV] intercept_scaling=1, max_iter=100, penalty=l1 ...................\n",
      "[CV] .... intercept_scaling=1, max_iter=100, penalty=l1, total=   0.0s\n",
      "[CV] intercept_scaling=1, max_iter=100, penalty=l2 ...................\n",
      "[CV] .... intercept_scaling=1, max_iter=100, penalty=l2, total=   0.0s\n",
      "[CV] intercept_scaling=1, max_iter=100, penalty=l2 ...................\n",
      "[CV] .... intercept_scaling=1, max_iter=100, penalty=l2, total=   0.0s\n",
      "[CV] intercept_scaling=1, max_iter=100, penalty=l2 ...................\n",
      "[CV] .... intercept_scaling=1, max_iter=100, penalty=l2, total=   0.0s\n",
      "[CV] intercept_scaling=1, max_iter=100, penalty=l2 ...................\n",
      "[CV] .... intercept_scaling=1, max_iter=100, penalty=l2, total=   0.0s\n",
      "[CV] intercept_scaling=1, max_iter=250, penalty=l1 ...................\n",
      "[CV] .... intercept_scaling=1, max_iter=250, penalty=l1, total=   0.0s\n",
      "[CV] intercept_scaling=1, max_iter=250, penalty=l1 ...................\n",
      "[CV] .... intercept_scaling=1, max_iter=250, penalty=l1, total=   0.0s\n",
      "[CV] intercept_scaling=1, max_iter=250, penalty=l1 ...................\n",
      "[CV] .... intercept_scaling=1, max_iter=250, penalty=l1, total=   0.0s\n",
      "[CV] intercept_scaling=1, max_iter=250, penalty=l1 ...................\n",
      "[CV] .... intercept_scaling=1, max_iter=250, penalty=l1, total=   0.0s\n",
      "[CV] intercept_scaling=1, max_iter=500, penalty=l1 ...................\n",
      "[CV] .... intercept_scaling=1, max_iter=500, penalty=l1, total=   0.0s\n",
      "[CV] intercept_scaling=1, max_iter=500, penalty=l1 ...................\n",
      "[CV] .... intercept_scaling=1, max_iter=500, penalty=l1, total=   0.0s\n",
      "[CV] intercept_scaling=1, max_iter=500, penalty=l1 ...................\n",
      "[CV] .... intercept_scaling=1, max_iter=500, penalty=l1, total=   0.0s\n",
      "[CV] intercept_scaling=1, max_iter=500, penalty=l1 ...................\n",
      "[CV] .... intercept_scaling=1, max_iter=500, penalty=l1, total=   0.0s\n",
      "[CV] intercept_scaling=1, max_iter=750, penalty=l2 ...................\n",
      "[CV] .... intercept_scaling=1, max_iter=750, penalty=l2, total=   0.0s\n",
      "[CV] intercept_scaling=1, max_iter=750, penalty=l2 ...................\n",
      "[CV] .... intercept_scaling=1, max_iter=750, penalty=l2, total=   0.0s\n",
      "[CV] intercept_scaling=1, max_iter=750, penalty=l2 ...................\n",
      "[CV] .... intercept_scaling=1, max_iter=750, penalty=l2, total=   0.0s\n",
      "[CV] intercept_scaling=1, max_iter=750, penalty=l2 ...................\n",
      "[CV] .... intercept_scaling=1, max_iter=750, penalty=l2, total=   0.0s\n",
      "[CV] intercept_scaling=1, max_iter=750, penalty=l2 ...................\n",
      "[CV] .... intercept_scaling=1, max_iter=750, penalty=l2, total=   0.0s\n",
      "[CV] intercept_scaling=1, max_iter=750, penalty=l2 ...................\n",
      "[CV] .... intercept_scaling=1, max_iter=750, penalty=l2, total=   0.0s\n",
      "[CV] intercept_scaling=1, max_iter=750, penalty=l2 ...................\n",
      "[CV] .... intercept_scaling=1, max_iter=750, penalty=l2, total=   0.0s\n",
      "[CV] intercept_scaling=1, max_iter=750, penalty=l2 ...................\n",
      "[CV] .... intercept_scaling=1, max_iter=750, penalty=l2, total=   0.0s\n",
      "[CV] intercept_scaling=1, max_iter=1000, penalty=l1 ..................\n",
      "[CV] ... intercept_scaling=1, max_iter=1000, penalty=l1, total=   0.0s\n",
      "[CV] intercept_scaling=1, max_iter=1000, penalty=l1 ..................\n",
      "[CV] ... intercept_scaling=1, max_iter=1000, penalty=l1, total=   0.0s\n",
      "[CV] intercept_scaling=1, max_iter=1000, penalty=l1 ..................\n",
      "[CV] ... intercept_scaling=1, max_iter=1000, penalty=l1, total=   0.0s\n",
      "[CV] intercept_scaling=1, max_iter=1000, penalty=l1 ..................\n",
      "[CV] ... intercept_scaling=1, max_iter=1000, penalty=l1, total=   0.0s\n",
      "[CV] intercept_scaling=3, max_iter=100, penalty=l2 ...................\n",
      "[CV] .... intercept_scaling=3, max_iter=100, penalty=l2, total=   0.0s\n",
      "[CV] intercept_scaling=3, max_iter=100, penalty=l2 ...................\n",
      "[CV] .... intercept_scaling=3, max_iter=100, penalty=l2, total=   0.0s\n",
      "[CV] intercept_scaling=3, max_iter=100, penalty=l2 ...................\n",
      "[CV] .... intercept_scaling=3, max_iter=100, penalty=l2, total=   0.0s\n",
      "[CV] intercept_scaling=3, max_iter=100, penalty=l2 ...................\n",
      "[CV] .... intercept_scaling=3, max_iter=100, penalty=l2, total=   0.0s\n",
      "[CV] intercept_scaling=3, max_iter=250, penalty=l1 ...................\n",
      "[CV] .... intercept_scaling=3, max_iter=250, penalty=l1, total=   0.0s\n",
      "[CV] intercept_scaling=3, max_iter=250, penalty=l1 ...................\n",
      "[CV] .... intercept_scaling=3, max_iter=250, penalty=l1, total=   0.0s\n",
      "[CV] intercept_scaling=3, max_iter=250, penalty=l1 ...................\n",
      "[CV] .... intercept_scaling=3, max_iter=250, penalty=l1, total=   0.0s\n",
      "[CV] intercept_scaling=3, max_iter=250, penalty=l1 ...................\n",
      "[CV] .... intercept_scaling=3, max_iter=250, penalty=l1, total=   0.0s\n",
      "[CV] intercept_scaling=3, max_iter=750, penalty=l2 ...................\n",
      "[CV] .... intercept_scaling=3, max_iter=750, penalty=l2, total=   0.0s\n",
      "[CV] intercept_scaling=3, max_iter=750, penalty=l2 ...................\n",
      "[CV] .... intercept_scaling=3, max_iter=750, penalty=l2, total=   0.0s\n",
      "[CV] intercept_scaling=3, max_iter=750, penalty=l2 ...................\n",
      "[CV] .... intercept_scaling=3, max_iter=750, penalty=l2, total=   0.0s\n",
      "[CV] intercept_scaling=3, max_iter=750, penalty=l2 ...................\n",
      "[CV] .... intercept_scaling=3, max_iter=750, penalty=l2, total=   0.0s\n",
      "[CV] intercept_scaling=3, max_iter=750, penalty=l2 ...................\n",
      "[CV] .... intercept_scaling=3, max_iter=750, penalty=l2, total=   0.0s\n",
      "[CV] intercept_scaling=3, max_iter=750, penalty=l2 ...................\n",
      "[CV] .... intercept_scaling=3, max_iter=750, penalty=l2, total=   0.0s\n",
      "[CV] intercept_scaling=3, max_iter=750, penalty=l2 ...................\n",
      "[CV] .... intercept_scaling=3, max_iter=750, penalty=l2, total=   0.0s\n",
      "[CV] intercept_scaling=3, max_iter=750, penalty=l2 ...................\n",
      "[CV] .... intercept_scaling=3, max_iter=750, penalty=l2, total=   0.0s\n",
      "[CV] intercept_scaling=3, max_iter=1000, penalty=l1 ..................\n",
      "[CV] ... intercept_scaling=3, max_iter=1000, penalty=l1, total=   0.0s\n",
      "[CV] intercept_scaling=3, max_iter=1000, penalty=l1 ..................\n",
      "[CV] ... intercept_scaling=3, max_iter=1000, penalty=l1, total=   0.0s\n",
      "[CV] intercept_scaling=3, max_iter=1000, penalty=l1 ..................\n",
      "[CV] ... intercept_scaling=3, max_iter=1000, penalty=l1, total=   0.0s\n",
      "[CV] intercept_scaling=3, max_iter=1000, penalty=l1 ..................\n",
      "[CV] ... intercept_scaling=3, max_iter=1000, penalty=l1, total=   0.0s\n",
      "[CV] intercept_scaling=3, max_iter=1000, penalty=l1 ..................\n",
      "[CV] ... intercept_scaling=3, max_iter=1000, penalty=l1, total=   0.0s\n",
      "[CV] intercept_scaling=3, max_iter=1000, penalty=l1 ..................\n",
      "[CV] ... intercept_scaling=3, max_iter=1000, penalty=l1, total=   0.0s\n",
      "[CV] intercept_scaling=3, max_iter=1000, penalty=l1 ..................\n",
      "[CV] ... intercept_scaling=3, max_iter=1000, penalty=l1, total=   0.0s\n",
      "[CV] intercept_scaling=3, max_iter=1000, penalty=l1 ..................\n",
      "[CV] ... intercept_scaling=3, max_iter=1000, penalty=l1, total=   0.0s\n",
      "[CV] intercept_scaling=5, max_iter=100, penalty=l1 ...................\n",
      "[CV] .... intercept_scaling=5, max_iter=100, penalty=l1, total=   0.0s\n",
      "[CV] intercept_scaling=5, max_iter=100, penalty=l1 ...................\n",
      "[CV] .... intercept_scaling=5, max_iter=100, penalty=l1, total=   0.0s\n",
      "[CV] intercept_scaling=5, max_iter=100, penalty=l1 ...................\n",
      "[CV] .... intercept_scaling=5, max_iter=100, penalty=l1, total=   0.0s\n",
      "[CV] intercept_scaling=5, max_iter=100, penalty=l1 ...................\n",
      "[CV] .... intercept_scaling=5, max_iter=100, penalty=l1, total=   0.0s\n",
      "[CV] intercept_scaling=5, max_iter=100, penalty=l1 ...................\n",
      "[CV] .... intercept_scaling=5, max_iter=100, penalty=l1, total=   0.0s[CV] intercept_scaling=1, max_iter=100, penalty=l1 ...................\n",
      "[CV] .... intercept_scaling=1, max_iter=100, penalty=l1, total=   0.0s\n",
      "[CV] intercept_scaling=1, max_iter=100, penalty=l2 ...................\n",
      "[CV] .... intercept_scaling=1, max_iter=100, penalty=l2, total=   0.0s\n",
      "[CV] intercept_scaling=1, max_iter=250, penalty=l1 ...................\n",
      "[CV] .... intercept_scaling=1, max_iter=250, penalty=l1, total=   0.0s\n",
      "[CV] intercept_scaling=1, max_iter=250, penalty=l1 ...................\n",
      "[CV] .... intercept_scaling=1, max_iter=250, penalty=l1, total=   0.0s\n",
      "[CV] intercept_scaling=1, max_iter=250, penalty=l2 ...................\n",
      "[CV] .... intercept_scaling=1, max_iter=250, penalty=l2, total=   0.0s\n",
      "[CV] intercept_scaling=1, max_iter=250, penalty=l2 ...................\n",
      "[CV] .... intercept_scaling=1, max_iter=250, penalty=l2, total=   0.0s\n",
      "[CV] intercept_scaling=1, max_iter=250, penalty=l2 ...................\n",
      "[CV] .... intercept_scaling=1, max_iter=250, penalty=l2, total=   0.0s\n",
      "[CV] intercept_scaling=1, max_iter=250, penalty=l2 ...................\n",
      "[CV] .... intercept_scaling=1, max_iter=250, penalty=l2, total=   0.0s\n",
      "[CV] intercept_scaling=1, max_iter=500, penalty=l1 ...................\n",
      "[CV] .... intercept_scaling=1, max_iter=500, penalty=l1, total=   0.0s\n",
      "[CV] intercept_scaling=1, max_iter=500, penalty=l1 ...................\n",
      "[CV] .... intercept_scaling=1, max_iter=500, penalty=l1, total=   0.0s\n",
      "[CV] intercept_scaling=1, max_iter=500, penalty=l2 ...................\n",
      "[CV] .... intercept_scaling=1, max_iter=500, penalty=l2, total=   0.0s\n",
      "[CV] intercept_scaling=1, max_iter=500, penalty=l2 ...................\n",
      "[CV] .... intercept_scaling=1, max_iter=500, penalty=l2, total=   0.0s\n",
      "[CV] intercept_scaling=1, max_iter=500, penalty=l2 ...................\n",
      "[CV] .... intercept_scaling=1, max_iter=500, penalty=l2, total=   0.0s\n",
      "[CV] intercept_scaling=1, max_iter=500, penalty=l2 ...................\n",
      "[CV] .... intercept_scaling=1, max_iter=500, penalty=l2, total=   0.0s\n",
      "[CV] intercept_scaling=1, max_iter=750, penalty=l1 ...................\n",
      "[CV] .... intercept_scaling=1, max_iter=750, penalty=l1, total=   0.0s\n",
      "[CV] intercept_scaling=1, max_iter=750, penalty=l1 ...................\n",
      "[CV] .... intercept_scaling=1, max_iter=750, penalty=l1, total=   0.0s\n",
      "[CV] intercept_scaling=1, max_iter=750, penalty=l1 ...................\n",
      "[CV] .... intercept_scaling=1, max_iter=750, penalty=l1, total=   0.0s\n",
      "[CV] intercept_scaling=1, max_iter=750, penalty=l1 ...................\n",
      "[CV] .... intercept_scaling=1, max_iter=750, penalty=l1, total=   0.0s\n",
      "[CV] intercept_scaling=3, max_iter=100, penalty=l1 ...................\n",
      "[CV] .... intercept_scaling=3, max_iter=100, penalty=l1, total=   0.0s\n",
      "[CV] intercept_scaling=3, max_iter=100, penalty=l1 ...................\n",
      "[CV] .... intercept_scaling=3, max_iter=100, penalty=l1, total=   0.0s\n",
      "[CV] intercept_scaling=3, max_iter=100, penalty=l1 ...................\n",
      "[CV] .... intercept_scaling=3, max_iter=100, penalty=l1, total=   0.0s\n",
      "[CV] intercept_scaling=3, max_iter=100, penalty=l1 ...................\n",
      "[CV] .... intercept_scaling=3, max_iter=100, penalty=l1, total=   0.0s\n",
      "[CV] intercept_scaling=3, max_iter=100, penalty=l1 ...................\n",
      "[CV] .... intercept_scaling=3, max_iter=100, penalty=l1, total=   0.0s\n",
      "[CV] intercept_scaling=3, max_iter=100, penalty=l1 ...................\n",
      "[CV] .... intercept_scaling=3, max_iter=100, penalty=l1, total=   0.0s\n",
      "[CV] intercept_scaling=3, max_iter=100, penalty=l1 ...................\n",
      "[CV] .... intercept_scaling=3, max_iter=100, penalty=l1, total=   0.0s\n",
      "[CV] intercept_scaling=3, max_iter=100, penalty=l1 ...................\n",
      "[CV] .... intercept_scaling=3, max_iter=100, penalty=l1, total=   0.0s\n",
      "[CV] intercept_scaling=3, max_iter=500, penalty=l2 ...................\n",
      "[CV] .... intercept_scaling=3, max_iter=500, penalty=l2, total=   0.0s\n",
      "[CV] intercept_scaling=3, max_iter=500, penalty=l2 ...................\n",
      "[CV] .... intercept_scaling=3, max_iter=500, penalty=l2, total=   0.0s\n",
      "[CV] intercept_scaling=3, max_iter=500, penalty=l2 ...................\n",
      "[CV] .... intercept_scaling=3, max_iter=500, penalty=l2, total=   0.0s\n",
      "[CV] intercept_scaling=3, max_iter=500, penalty=l2 ...................\n",
      "[CV] .... intercept_scaling=3, max_iter=500, penalty=l2, total=   0.0s\n",
      "[CV] intercept_scaling=3, max_iter=750, penalty=l1 ...................\n",
      "[CV] .... intercept_scaling=3, max_iter=750, penalty=l1, total=   0.0s\n",
      "[CV] intercept_scaling=3, max_iter=750, penalty=l1 ...................\n",
      "[CV] .... intercept_scaling=3, max_iter=750, penalty=l1, total=   0.0s\n",
      "[CV] intercept_scaling=3, max_iter=750, penalty=l1 ...................\n",
      "[CV] .... intercept_scaling=3, max_iter=750, penalty=l1, total=   0.0s\n",
      "[CV] intercept_scaling=3, max_iter=750, penalty=l1 ...................\n",
      "[CV] .... intercept_scaling=3, max_iter=750, penalty=l1, total=   0.0s\n",
      "[CV] intercept_scaling=3, max_iter=750, penalty=l1 ...................\n",
      "[CV] .... intercept_scaling=3, max_iter=750, penalty=l1, total=   0.0s\n",
      "[CV] intercept_scaling=3, max_iter=750, penalty=l1 ...................\n",
      "[CV] .... intercept_scaling=3, max_iter=750, penalty=l1, total=   0.0s\n",
      "[CV] intercept_scaling=3, max_iter=750, penalty=l1 ...................\n",
      "[CV] .... intercept_scaling=3, max_iter=750, penalty=l1, total=   0.0s\n",
      "[CV] intercept_scaling=3, max_iter=750, penalty=l1 ...................\n",
      "[CV] .... intercept_scaling=3, max_iter=750, penalty=l1, total=   0.0s\n",
      "[CV] intercept_scaling=3, max_iter=750, penalty=l1 ...................\n",
      "[CV] .... intercept_scaling=3, max_iter=750, penalty=l1, total=   0.0s\n",
      "[CV] intercept_scaling=3, max_iter=750, penalty=l1 ...................\n",
      "[CV] .... intercept_scaling=3, max_iter=750, penalty=l1, total=   0.0s\n",
      "[CV] intercept_scaling=3, max_iter=750, penalty=l2 ...................\n",
      "[CV] .... intercept_scaling=3, max_iter=750, penalty=l2, total=   0.0s\n",
      "[CV] intercept_scaling=3, max_iter=750, penalty=l2 ...................\n",
      "[CV] .... intercept_scaling=3, max_iter=750, penalty=l2, total=   0.0s\n",
      "[CV] intercept_scaling=5, max_iter=250, penalty=l2 ...................\n",
      "[CV] .... intercept_scaling=5, max_iter=250, penalty=l2, total=   0.0s\n",
      "[CV] intercept_scaling=5, max_iter=250, penalty=l2 ...................\n",
      "[CV] .... intercept_scaling=5, max_iter=250, penalty=l2, total=   0.0s\n",
      "[CV] intercept_scaling=5, max_iter=250, penalty=l2 ...................\n",
      "[CV] .... intercept_scaling=5, max_iter=250, penalty=l2, total=   0.0s\n",
      "[CV] intercept_scaling=5, max_iter=250, penalty=l2 ...................\n",
      "[CV] .... intercept_scaling=5, max_iter=250, penalty=l2, total=   0.0s\n",
      "[CV] intercept_scaling=5, max_iter=500, penalty=l1 ...................\n",
      "[CV] .... intercept_scaling=5, max_iter=500, penalty=l1, total=   0.0s\n",
      "[CV] intercept_scaling=5, max_iter=500, penalty=l1 ...................\n",
      "[CV] .... intercept_scaling=5, max_iter=500, penalty=l1, total=   0.0s\n",
      "[CV] intercept_scaling=5, max_iter=500, penalty=l1 ...................\n",
      "[CV] .... intercept_scaling=5, max_iter=500, penalty=l1, total=   0.0s\n",
      "[CV] intercept_scaling=5, max_iter=500, penalty=l1 ...................\n",
      "[CV] .... intercept_scaling=5, max_iter=500, penalty=l1, total=   0.0s\n",
      "[CV] intercept_scaling=5, max_iter=500, penalty=l1 ...................\n",
      "[CV] .... intercept_scaling=5, max_iter=500, penalty=l1, total=   0.0s\n",
      "[CV] intercept_scaling=5, max_iter=500, penalty=l1 ...................\n",
      "[CV] .... intercept_scaling=5, max_iter=500, penalty=l1, total=   0.0s\n",
      "[CV] intercept_scaling=5, max_iter=500, penalty=l1 ...................\n",
      "[CV] .... intercept_scaling=5, max_iter=500, penalty=l1, total=   0.0s\n",
      "[CV] intercept_scaling=5, max_iter=500, penalty=l1 ...................\n",
      "[CV] .... intercept_scaling=5, max_iter=500, penalty=l1, total=   0.0s\n",
      "[CV] intercept_scaling=5, max_iter=500, penalty=l1 ...................\n",
      "[CV] .... intercept_scaling=5, max_iter=500, penalty=l1, total=   0.0s\n",
      "[CV] intercept_scaling=5, max_iter=500, penalty=l1 ...................\n",
      "[CV] .... intercept_scaling=5, max_iter=500, penalty=l1, total=   0.0s\n",
      "[CV] intercept_scaling=5, max_iter=500, penalty=l2 ...................\n",
      "[CV] .... intercept_scaling=5, max_iter=500, penalty=l2, total=   0.0s\n",
      "[CV] intercept_scaling=5, max_iter=500, penalty=l2 ...................\n",
      "[CV] .... intercept_scaling=5, max_iter=500, penalty=l2, total=   0.0s\n",
      "[CV] intercept_scaling=5, max_iter=100, penalty=l1 ...................\n",
      "[CV] .... intercept_scaling=5, max_iter=100, penalty=l1, total=   0.0s\n",
      "[CV] intercept_scaling=5, max_iter=100, penalty=l2 ...................\n",
      "[CV] .... intercept_scaling=5, max_iter=100, penalty=l2, total=   0.0s\n",
      "[CV] intercept_scaling=5, max_iter=100, penalty=l2 ...................\n",
      "[CV] .... intercept_scaling=5, max_iter=100, penalty=l2, total=   0.0s\n",
      "[CV] intercept_scaling=5, max_iter=100, penalty=l2 ...................\n",
      "[CV] .... intercept_scaling=5, max_iter=100, penalty=l2, total=   0.0s\n",
      "[CV] intercept_scaling=5, max_iter=100, penalty=l2 ...................\n",
      "[CV] .... intercept_scaling=5, max_iter=100, penalty=l2, total=   0.0s\n",
      "[CV] intercept_scaling=5, max_iter=100, penalty=l2 ...................\n",
      "[CV] .... intercept_scaling=5, max_iter=100, penalty=l2, total=   0.0s\n",
      "[CV] intercept_scaling=5, max_iter=100, penalty=l2 ...................\n",
      "[CV] .... intercept_scaling=5, max_iter=100, penalty=l2, total=   0.0s\n",
      "[CV] intercept_scaling=5, max_iter=100, penalty=l2 ...................\n",
      "[CV] .... intercept_scaling=5, max_iter=100, penalty=l2, total=   0.0s\n",
      "[CV] intercept_scaling=5, max_iter=100, penalty=l2 ...................\n",
      "[CV] .... intercept_scaling=5, max_iter=100, penalty=l2, total=   0.0s\n",
      "[CV] intercept_scaling=5, max_iter=100, penalty=l2 ...................\n",
      "[CV] .... intercept_scaling=5, max_iter=100, penalty=l2, total=   0.0s\n",
      "[CV] intercept_scaling=5, max_iter=100, penalty=l2 ...................\n",
      "[CV] .... intercept_scaling=5, max_iter=100, penalty=l2, total=   0.0s\n",
      "[CV] intercept_scaling=5, max_iter=750, penalty=l1 ...................\n",
      "[CV] .... intercept_scaling=5, max_iter=750, penalty=l1, total=   0.1s\n",
      "[CV] intercept_scaling=5, max_iter=750, penalty=l1 ...................\n",
      "[CV] .... intercept_scaling=5, max_iter=750, penalty=l1, total=   0.0s\n",
      "[CV] intercept_scaling=5, max_iter=750, penalty=l2 ...................\n",
      "[CV] .... intercept_scaling=5, max_iter=750, penalty=l2, total=   0.0s\n",
      "[CV] intercept_scaling=5, max_iter=750, penalty=l2 ...................\n",
      "[CV] .... intercept_scaling=5, max_iter=750, penalty=l2, total=   0.0s\n",
      "[CV] intercept_scaling=5, max_iter=750, penalty=l2 ...................\n",
      "[CV] .... intercept_scaling=5, max_iter=750, penalty=l2, total=   0.0s\n",
      "[CV] intercept_scaling=5, max_iter=750, penalty=l2 ...................\n",
      "[CV] .... intercept_scaling=5, max_iter=750, penalty=l2, total=   0.0s\n",
      "[CV] intercept_scaling=5, max_iter=750, penalty=l2 ...................\n",
      "[CV] .... intercept_scaling=5, max_iter=750, penalty=l2, total=   0.0s\n",
      "[CV] intercept_scaling=5, max_iter=750, penalty=l2 ...................\n",
      "[CV] .... intercept_scaling=5, max_iter=750, penalty=l2, total=   0.0s\n",
      "[CV] intercept_scaling=5, max_iter=750, penalty=l2 ...................\n",
      "[CV] .... intercept_scaling=5, max_iter=750, penalty=l2, total=   0.0s\n",
      "[CV] intercept_scaling=5, max_iter=750, penalty=l2 ...................\n",
      "[CV] .... intercept_scaling=5, max_iter=750, penalty=l2, total=   0.0s\n",
      "[CV] intercept_scaling=5, max_iter=750, penalty=l2 ...................\n",
      "[CV] .... intercept_scaling=5, max_iter=750, penalty=l2, total=   0.0s\n",
      "[CV] intercept_scaling=5, max_iter=750, penalty=l2 ...................\n",
      "[CV] .... intercept_scaling=5, max_iter=750, penalty=l2, total=   0.0s\n",
      "[CV] intercept_scaling=5, max_iter=1000, penalty=l1 ..................\n",
      "[CV] ... intercept_scaling=5, max_iter=1000, penalty=l1, total=   0.0s\n",
      "[CV] intercept_scaling=5, max_iter=1000, penalty=l1 ..................\n",
      "[CV] ... intercept_scaling=5, max_iter=1000, penalty=l1, total=   0.1s\n",
      "[CV] intercept_scaling=5, max_iter=1000, penalty=l1 ..................\n",
      "[CV] ... intercept_scaling=5, max_iter=1000, penalty=l1, total=   0.0s\n",
      "[CV] intercept_scaling=5, max_iter=1000, penalty=l1 ..................\n",
      "[CV] ... intercept_scaling=5, max_iter=1000, penalty=l1, total=   0.0s\n",
      "[CV] intercept_scaling=7, max_iter=250, penalty=l2 ...................\n",
      "[CV] .... intercept_scaling=7, max_iter=250, penalty=l2, total=   0.0s\n",
      "[CV] intercept_scaling=7, max_iter=250, penalty=l2 ...................\n",
      "[CV] .... intercept_scaling=7, max_iter=250, penalty=l2, total=   0.0s\n",
      "[CV] intercept_scaling=7, max_iter=250, penalty=l2 ...................\n",
      "[CV] .... intercept_scaling=7, max_iter=250, penalty=l2, total=   0.0s\n",
      "[CV] intercept_scaling=7, max_iter=250, penalty=l2 ...................\n",
      "[CV] .... intercept_scaling=7, max_iter=250, penalty=l2, total=   0.0s\n",
      "[CV] intercept_scaling=7, max_iter=250, penalty=l2 ...................\n",
      "[CV] .... intercept_scaling=7, max_iter=250, penalty=l2, total=   0.0s\n",
      "[CV] intercept_scaling=7, max_iter=250, penalty=l2 ...................\n",
      "[CV] .... intercept_scaling=7, max_iter=250, penalty=l2, total=   0.0s\n",
      "[CV] intercept_scaling=7, max_iter=250, penalty=l2 ...................\n",
      "[CV] .... intercept_scaling=7, max_iter=250, penalty=l2, total=   0.0s\n",
      "[CV] intercept_scaling=7, max_iter=250, penalty=l2 ...................\n",
      "[CV] .... intercept_scaling=7, max_iter=250, penalty=l2, total=   0.0s\n",
      "[CV] intercept_scaling=7, max_iter=500, penalty=l1 ...................\n",
      "[CV] .... intercept_scaling=7, max_iter=500, penalty=l1, total=   0.0s\n",
      "[CV] intercept_scaling=7, max_iter=500, penalty=l1 ...................\n",
      "[CV] .... intercept_scaling=7, max_iter=500, penalty=l1, total=   0.0s\n",
      "[CV] intercept_scaling=7, max_iter=500, penalty=l1 ...................\n",
      "[CV] .... intercept_scaling=7, max_iter=500, penalty=l1, total=   0.0s\n",
      "[CV] intercept_scaling=7, max_iter=500, penalty=l1 ...................\n",
      "[CV] .... intercept_scaling=7, max_iter=500, penalty=l1, total=   0.0s\n",
      "[CV] intercept_scaling=7, max_iter=500, penalty=l1 ...................\n",
      "[CV] .... intercept_scaling=7, max_iter=500, penalty=l1, total=   0.0s\n",
      "[CV] intercept_scaling=7, max_iter=500, penalty=l1 ...................\n",
      "[CV] .... intercept_scaling=7, max_iter=500, penalty=l1, total=   0.0s\n",
      "[CV] intercept_scaling=7, max_iter=500, penalty=l1 ...................\n",
      "[CV] .... intercept_scaling=7, max_iter=500, penalty=l1, total=   0.0s\n",
      "[CV] intercept_scaling=7, max_iter=500, penalty=l1 ...................\n",
      "[CV] .... intercept_scaling=7, max_iter=500, penalty=l1, total=   0.0s\n",
      "[CV] intercept_scaling=9, max_iter=100, penalty=l2 ...................\n",
      "[CV] .... intercept_scaling=9, max_iter=100, penalty=l2, total=   0.0s\n",
      "[CV] intercept_scaling=9, max_iter=100, penalty=l2 ...................\n",
      "[CV] .... intercept_scaling=9, max_iter=100, penalty=l2, total=   0.0s\n",
      "[CV] intercept_scaling=9, max_iter=100, penalty=l2 ...................\n",
      "[CV] .... intercept_scaling=9, max_iter=100, penalty=l2, total=   0.0s\n",
      "[CV] intercept_scaling=9, max_iter=100, penalty=l2 ...................\n",
      "[CV] .... intercept_scaling=9, max_iter=100, penalty=l2, total=   0.0s\n",
      "[CV] intercept_scaling=9, max_iter=100, penalty=l2 ...................\n",
      "[CV] .... intercept_scaling=9, max_iter=100, penalty=l2, total=   0.0s\n",
      "[CV] intercept_scaling=9, max_iter=100, penalty=l2 ...................\n",
      "[CV] .... intercept_scaling=9, max_iter=100, penalty=l2, total=   0.0s\n",
      "[CV] intercept_scaling=9, max_iter=100, penalty=l2 ...................\n",
      "[CV] .... intercept_scaling=9, max_iter=100, penalty=l2, total=   0.0s\n",
      "[CV] intercept_scaling=9, max_iter=100, penalty=l2 ...................\n",
      "[CV] .... intercept_scaling=9, max_iter=100, penalty=l2, total=   0.0s\n",
      "[CV] intercept_scaling=9, max_iter=250, penalty=l1 ...................\n",
      "[CV] .... intercept_scaling=9, max_iter=250, penalty=l1, total=   0.0s\n",
      "[CV] intercept_scaling=9, max_iter=250, penalty=l1 ...................\n",
      "[CV] .... intercept_scaling=9, max_iter=250, penalty=l1, total=   0.0s\n",
      "[CV] intercept_scaling=9, max_iter=250, penalty=l1 ...................\n",
      "[CV] .... intercept_scaling=9, max_iter=250, penalty=l1, total=   0.0s\n",
      "[CV] intercept_scaling=9, max_iter=250, penalty=l1 ...................\n",
      "[CV] .... intercept_scaling=9, max_iter=250, penalty=l1, total=   0.0s\n",
      "[CV] intercept_scaling=9, max_iter=250, penalty=l1 ...................\n",
      "[CV] .... intercept_scaling=9, max_iter=250, penalty=l1, total=   0.0s\n",
      "[CV] intercept_scaling=9, max_iter=250, penalty=l1 ...................\n",
      "[CV] .... intercept_scaling=9, max_iter=250, penalty=l1, total=   0.0s\n",
      "[CV] intercept_scaling=9, max_iter=250, penalty=l1 ...................\n",
      "[CV] .... intercept_scaling=9, max_iter=250, penalty=l1, total=   0.0s\n",
      "[CV] intercept_scaling=3, max_iter=500, penalty=l2 ...................\n",
      "[CV] .... intercept_scaling=3, max_iter=500, penalty=l2, total=   0.0s\n",
      "[CV] intercept_scaling=3, max_iter=500, penalty=l2 ...................\n",
      "[CV] .... intercept_scaling=3, max_iter=500, penalty=l2, total=   0.0s\n",
      "[CV] intercept_scaling=5, max_iter=250, penalty=l1 ...................\n",
      "[CV] .... intercept_scaling=5, max_iter=250, penalty=l1, total=   0.0s\n",
      "[CV] intercept_scaling=5, max_iter=250, penalty=l1 ...................\n",
      "[CV] .... intercept_scaling=5, max_iter=250, penalty=l1, total=   0.0s\n",
      "[CV] intercept_scaling=5, max_iter=250, penalty=l1 ...................\n",
      "[CV] .... intercept_scaling=5, max_iter=250, penalty=l1, total=   0.0s\n",
      "[CV] intercept_scaling=5, max_iter=250, penalty=l1 ...................\n",
      "[CV] .... intercept_scaling=5, max_iter=250, penalty=l1, total=   0.0s\n",
      "[CV] intercept_scaling=5, max_iter=250, penalty=l1 ...................\n",
      "[CV] .... intercept_scaling=5, max_iter=250, penalty=l1, total=   0.1s\n",
      "[CV] intercept_scaling=5, max_iter=250, penalty=l1 ...................\n",
      "[CV] .... intercept_scaling=5, max_iter=250, penalty=l1, total=   0.0s\n",
      "[CV] intercept_scaling=5, max_iter=250, penalty=l1 ...................\n",
      "[CV] .... intercept_scaling=5, max_iter=250, penalty=l1, total=   0.0s\n",
      "[CV] intercept_scaling=5, max_iter=250, penalty=l1 ...................\n",
      "[CV] .... intercept_scaling=5, max_iter=250, penalty=l1, total=   0.0s\n",
      "[CV] intercept_scaling=5, max_iter=250, penalty=l1 ...................\n",
      "[CV] .... intercept_scaling=5, max_iter=250, penalty=l1, total=   0.0s\n",
      "[CV] intercept_scaling=5, max_iter=250, penalty=l1 ...................\n",
      "[CV] .... intercept_scaling=5, max_iter=250, penalty=l1, total=   0.0s\n",
      "[CV] intercept_scaling=5, max_iter=250, penalty=l2 ...................\n",
      "[CV] .... intercept_scaling=5, max_iter=250, penalty=l2, total=   0.0s\n",
      "[CV] intercept_scaling=5, max_iter=250, penalty=l2 ...................\n",
      "[CV] .... intercept_scaling=5, max_iter=250, penalty=l2, total=   0.0s\n",
      "[CV] intercept_scaling=5, max_iter=250, penalty=l2 ...................\n",
      "[CV] .... intercept_scaling=5, max_iter=250, penalty=l2, total=   0.0s\n",
      "[CV] intercept_scaling=5, max_iter=250, penalty=l2 ...................\n",
      "[CV] .... intercept_scaling=5, max_iter=250, penalty=l2, total=   0.0s\n",
      "[CV] intercept_scaling=5, max_iter=250, penalty=l2 ...................\n",
      "[CV] .... intercept_scaling=5, max_iter=250, penalty=l2, total=   0.0s\n",
      "[CV] intercept_scaling=5, max_iter=250, penalty=l2 ...................\n",
      "[CV] .... intercept_scaling=5, max_iter=250, penalty=l2, total=   0.0s\n",
      "[CV] intercept_scaling=7, max_iter=100, penalty=l1 ...................\n",
      "[CV] .... intercept_scaling=7, max_iter=100, penalty=l1, total=   0.1s\n",
      "[CV] intercept_scaling=7, max_iter=100, penalty=l1 ...................\n",
      "[CV] .... intercept_scaling=7, max_iter=100, penalty=l1, total=   0.0s\n",
      "[CV] intercept_scaling=7, max_iter=100, penalty=l1 ...................\n",
      "[CV] .... intercept_scaling=7, max_iter=100, penalty=l1, total=   0.0s\n",
      "[CV] intercept_scaling=7, max_iter=100, penalty=l1 ...................\n",
      "[CV] .... intercept_scaling=7, max_iter=100, penalty=l1, total=   0.0s\n",
      "[CV] intercept_scaling=7, max_iter=100, penalty=l1 ...................\n",
      "[CV] .... intercept_scaling=7, max_iter=100, penalty=l1, total=   0.0s\n",
      "[CV] intercept_scaling=7, max_iter=100, penalty=l1 ...................\n",
      "[CV] .... intercept_scaling=7, max_iter=100, penalty=l1, total=   0.0s\n",
      "[CV] intercept_scaling=7, max_iter=100, penalty=l1 ...................\n",
      "[CV] .... intercept_scaling=7, max_iter=100, penalty=l1, total=   0.0s\n",
      "[CV] intercept_scaling=7, max_iter=100, penalty=l1 ...................\n",
      "[CV] .... intercept_scaling=7, max_iter=100, penalty=l1, total=   0.0s\n",
      "[CV] intercept_scaling=7, max_iter=100, penalty=l1 ...................\n",
      "[CV] .... intercept_scaling=7, max_iter=100, penalty=l1, total=   0.0s\n",
      "[CV] intercept_scaling=7, max_iter=100, penalty=l1 ...................\n",
      "[CV] .... intercept_scaling=7, max_iter=100, penalty=l1, total=   0.0s\n",
      "[CV] intercept_scaling=7, max_iter=100, penalty=l2 ...................\n",
      "[CV] .... intercept_scaling=7, max_iter=100, penalty=l2, total=   0.0s\n",
      "[CV] intercept_scaling=7, max_iter=100, penalty=l2 ...................\n",
      "[CV] .... intercept_scaling=7, max_iter=100, penalty=l2, total=   0.0s\n",
      "[CV] intercept_scaling=7, max_iter=100, penalty=l2 ...................\n",
      "[CV] .... intercept_scaling=7, max_iter=100, penalty=l2, total=   0.0s\n",
      "[CV] intercept_scaling=7, max_iter=100, penalty=l2 ...................\n",
      "[CV] .... intercept_scaling=7, max_iter=100, penalty=l2, total=   0.0s\n",
      "[CV] intercept_scaling=7, max_iter=100, penalty=l2 ...................\n",
      "[CV] .... intercept_scaling=7, max_iter=100, penalty=l2, total=   0.0s\n",
      "[CV] intercept_scaling=7, max_iter=100, penalty=l2 ...................\n",
      "[CV] .... intercept_scaling=7, max_iter=100, penalty=l2, total=   0.0s\n",
      "[CV] intercept_scaling=7, max_iter=1000, penalty=l1 ..................\n",
      "[CV] ... intercept_scaling=7, max_iter=1000, penalty=l1, total=   0.1s\n",
      "[CV] intercept_scaling=7, max_iter=1000, penalty=l1 ..................\n",
      "[CV] ... intercept_scaling=7, max_iter=1000, penalty=l1, total=   0.0s\n",
      "[CV] intercept_scaling=7, max_iter=1000, penalty=l1 ..................\n",
      "[CV] ... intercept_scaling=7, max_iter=1000, penalty=l1, total=   0.0s\n",
      "[CV] intercept_scaling=7, max_iter=1000, penalty=l1 ..................\n",
      "[CV] ... intercept_scaling=7, max_iter=1000, penalty=l1, total=   0.0s\n",
      "[CV] intercept_scaling=7, max_iter=1000, penalty=l1 ..................\n",
      "[CV] ... intercept_scaling=7, max_iter=1000, penalty=l1, total=   0.0s\n",
      "[CV] intercept_scaling=7, max_iter=1000, penalty=l1 ..................\n",
      "[CV] ... intercept_scaling=7, max_iter=1000, penalty=l1, total=   0.0s\n",
      "[CV] intercept_scaling=7, max_iter=1000, penalty=l1 ..................\n",
      "[CV] ... intercept_scaling=7, max_iter=1000, penalty=l1, total=   0.0s\n",
      "[CV] intercept_scaling=7, max_iter=1000, penalty=l1 ..................\n",
      "[CV] ... intercept_scaling=7, max_iter=1000, penalty=l1, total=   0.0s\n",
      "[CV] intercept_scaling=7, max_iter=1000, penalty=l1 ..................\n",
      "[CV] ... intercept_scaling=7, max_iter=1000, penalty=l1, total=   0.0s\n",
      "[CV] intercept_scaling=7, max_iter=1000, penalty=l1 ..................\n",
      "[CV] ... intercept_scaling=7, max_iter=1000, penalty=l1, total=   0.0s\n",
      "[CV] intercept_scaling=7, max_iter=1000, penalty=l2 ..................\n",
      "[CV] ... intercept_scaling=7, max_iter=1000, penalty=l2, total=   0.0s\n",
      "[CV] intercept_scaling=7, max_iter=1000, penalty=l2 ..................\n",
      "[CV] ... intercept_scaling=7, max_iter=1000, penalty=l2, total=   0.0s\n",
      "[CV] intercept_scaling=7, max_iter=1000, penalty=l2 ..................\n",
      "[CV] ... intercept_scaling=7, max_iter=1000, penalty=l2, total=   0.0s\n",
      "[CV] intercept_scaling=7, max_iter=1000, penalty=l2 ..................\n",
      "[CV] ... intercept_scaling=7, max_iter=1000, penalty=l2, total=   0.0s\n",
      "[CV] intercept_scaling=7, max_iter=1000, penalty=l2 ..................\n",
      "[CV] ... intercept_scaling=7, max_iter=1000, penalty=l2, total=   0.0s\n",
      "[CV] intercept_scaling=7, max_iter=1000, penalty=l2 ..................\n",
      "[CV] ... intercept_scaling=7, max_iter=1000, penalty=l2, total=   0.0s\n",
      "[CV] intercept_scaling=9, max_iter=500, penalty=l1 ...................\n",
      "[CV] .... intercept_scaling=9, max_iter=500, penalty=l1, total=   0.0s\n",
      "[CV] intercept_scaling=9, max_iter=500, penalty=l1 ...................\n",
      "[CV] .... intercept_scaling=9, max_iter=500, penalty=l1, total=   0.0s\n",
      "[CV] intercept_scaling=9, max_iter=500, penalty=l1 ...................\n",
      "[CV] .... intercept_scaling=9, max_iter=500, penalty=l1, total=   0.0s\n",
      "[CV] intercept_scaling=9, max_iter=500, penalty=l1 ...................\n",
      "[CV] .... intercept_scaling=9, max_iter=500, penalty=l1, total=   0.0s\n",
      "[CV] intercept_scaling=9, max_iter=500, penalty=l1 ...................\n",
      "[CV] .... intercept_scaling=9, max_iter=500, penalty=l1, total=   0.0s\n",
      "[CV] intercept_scaling=9, max_iter=500, penalty=l1 ...................\n",
      "[CV] .... intercept_scaling=9, max_iter=500, penalty=l1, total=   0.0s\n",
      "[CV] intercept_scaling=9, max_iter=500, penalty=l2 ...................\n",
      "[CV] .... intercept_scaling=9, max_iter=500, penalty=l2, total=   0.0s\n",
      "[CV] intercept_scaling=9, max_iter=500, penalty=l2 ...................\n",
      "[CV] .... intercept_scaling=9, max_iter=500, penalty=l2, total=   0.0s\n",
      "[CV] intercept_scaling=5, max_iter=750, penalty=l1 ...................\n",
      "[CV] .... intercept_scaling=5, max_iter=750, penalty=l1, total=   0.0s\n",
      "[CV] intercept_scaling=5, max_iter=750, penalty=l1 ...................\n",
      "[CV] .... intercept_scaling=5, max_iter=750, penalty=l1, total=   0.0s\n",
      "[CV] intercept_scaling=5, max_iter=750, penalty=l1 ...................\n",
      "[CV] .... intercept_scaling=5, max_iter=750, penalty=l1, total=   0.0s\n",
      "[CV] intercept_scaling=5, max_iter=750, penalty=l1 ...................\n",
      "[CV] .... intercept_scaling=5, max_iter=750, penalty=l1, total=   0.0s\n",
      "[CV] intercept_scaling=5, max_iter=750, penalty=l1 ...................\n",
      "[CV] .... intercept_scaling=5, max_iter=750, penalty=l1, total=   0.0s\n",
      "[CV] intercept_scaling=5, max_iter=750, penalty=l1 ...................\n",
      "[CV] .... intercept_scaling=5, max_iter=750, penalty=l1, total=   0.0s\n",
      "[CV] intercept_scaling=5, max_iter=750, penalty=l1 ...................\n",
      "[CV] .... intercept_scaling=5, max_iter=750, penalty=l1, total=   0.0s\n",
      "[CV] intercept_scaling=5, max_iter=1000, penalty=l1 ..................\n",
      "[CV] ... intercept_scaling=5, max_iter=1000, penalty=l1, total=   0.0s\n",
      "[CV] intercept_scaling=5, max_iter=1000, penalty=l1 ..................\n",
      "[CV] ... intercept_scaling=5, max_iter=1000, penalty=l1, total=   0.0s\n",
      "[CV] intercept_scaling=5, max_iter=1000, penalty=l1 ..................\n",
      "[CV] ... intercept_scaling=5, max_iter=1000, penalty=l1, total=   0.0s\n",
      "[CV] intercept_scaling=5, max_iter=1000, penalty=l1 ..................\n",
      "[CV] ... intercept_scaling=5, max_iter=1000, penalty=l1, total=   0.0s\n",
      "[CV] intercept_scaling=5, max_iter=1000, penalty=l1 ..................\n",
      "[CV] ... intercept_scaling=5, max_iter=1000, penalty=l1, total=   0.0s\n",
      "[CV] intercept_scaling=5, max_iter=1000, penalty=l1 ..................\n",
      "[CV] ... intercept_scaling=5, max_iter=1000, penalty=l1, total=   0.0s\n",
      "[CV] intercept_scaling=5, max_iter=1000, penalty=l2 ..................\n",
      "[CV] ... intercept_scaling=5, max_iter=1000, penalty=l2, total=   0.0s\n",
      "[CV] intercept_scaling=5, max_iter=1000, penalty=l2 ..................\n",
      "[CV] ... intercept_scaling=5, max_iter=1000, penalty=l2, total=   0.0s\n",
      "[CV] intercept_scaling=5, max_iter=1000, penalty=l2 ..................\n",
      "[CV] ... intercept_scaling=5, max_iter=1000, penalty=l2, total=   0.0s\n",
      "[CV] intercept_scaling=5, max_iter=1000, penalty=l2 ..................\n",
      "[CV] ... intercept_scaling=5, max_iter=1000, penalty=l2, total=   0.0s\n",
      "[CV] intercept_scaling=5, max_iter=1000, penalty=l2 ..................\n",
      "[CV] ... intercept_scaling=5, max_iter=1000, penalty=l2, total=   0.0s\n",
      "[CV] intercept_scaling=5, max_iter=1000, penalty=l2 ..................\n",
      "[CV] ... intercept_scaling=5, max_iter=1000, penalty=l2, total=   0.0s\n",
      "[CV] intercept_scaling=5, max_iter=1000, penalty=l2 ..................\n",
      "[CV] ... intercept_scaling=5, max_iter=1000, penalty=l2, total=   0.0s\n",
      "[CV] intercept_scaling=5, max_iter=1000, penalty=l2 ..................\n",
      "[CV] ... intercept_scaling=5, max_iter=1000, penalty=l2, total=   0.0s\n",
      "[CV] intercept_scaling=5, max_iter=1000, penalty=l2 ..................\n",
      "[CV] ... intercept_scaling=5, max_iter=1000, penalty=l2, total=   0.0s\n",
      "[CV] intercept_scaling=5, max_iter=1000, penalty=l2 ..................\n",
      "[CV] ... intercept_scaling=5, max_iter=1000, penalty=l2, total=   0.0s\n",
      "[CV] intercept_scaling=7, max_iter=500, penalty=l1 ...................\n",
      "[CV] .... intercept_scaling=7, max_iter=500, penalty=l1, total=   0.0s\n",
      "[CV] intercept_scaling=7, max_iter=500, penalty=l1 ...................\n",
      "[CV] .... intercept_scaling=7, max_iter=500, penalty=l1, total=   0.0s\n",
      "[CV] intercept_scaling=7, max_iter=500, penalty=l2 ...................\n",
      "[CV] .... intercept_scaling=7, max_iter=500, penalty=l2, total=   0.0s\n",
      "[CV] intercept_scaling=7, max_iter=500, penalty=l2 ...................\n",
      "[CV] .... intercept_scaling=7, max_iter=500, penalty=l2, total=   0.0s\n",
      "[CV] intercept_scaling=7, max_iter=500, penalty=l2 ...................\n",
      "[CV] .... intercept_scaling=7, max_iter=500, penalty=l2, total=   0.0s\n",
      "[CV] intercept_scaling=7, max_iter=500, penalty=l2 ...................\n",
      "[CV] .... intercept_scaling=7, max_iter=500, penalty=l2, total=   0.0s\n",
      "[CV] intercept_scaling=7, max_iter=500, penalty=l2 ...................\n",
      "[CV] .... intercept_scaling=7, max_iter=500, penalty=l2, total=   0.0s\n",
      "[CV] intercept_scaling=7, max_iter=500, penalty=l2 ...................\n",
      "[CV] .... intercept_scaling=7, max_iter=500, penalty=l2, total=   0.0s\n",
      "[CV] intercept_scaling=7, max_iter=500, penalty=l2 ...................\n",
      "[CV] .... intercept_scaling=7, max_iter=500, penalty=l2, total=   0.0s\n",
      "[CV] intercept_scaling=7, max_iter=500, penalty=l2 ...................\n",
      "[CV] .... intercept_scaling=7, max_iter=500, penalty=l2, total=   0.0s\n",
      "[CV] intercept_scaling=7, max_iter=500, penalty=l2 ...................\n",
      "[CV] .... intercept_scaling=7, max_iter=500, penalty=l2, total=   0.0s\n",
      "[CV] intercept_scaling=7, max_iter=500, penalty=l2 ...................\n",
      "[CV] .... intercept_scaling=7, max_iter=500, penalty=l2, total=   0.0s\n",
      "[CV] intercept_scaling=7, max_iter=750, penalty=l1 ...................\n",
      "[CV] .... intercept_scaling=7, max_iter=750, penalty=l1, total=   0.0s\n",
      "[CV] intercept_scaling=7, max_iter=750, penalty=l1 ...................\n",
      "[CV] .... intercept_scaling=7, max_iter=750, penalty=l1, total=   0.0s\n",
      "[CV] intercept_scaling=7, max_iter=750, penalty=l1 ...................\n",
      "[CV] .... intercept_scaling=7, max_iter=750, penalty=l1, total=   0.0s\n",
      "[CV] intercept_scaling=7, max_iter=750, penalty=l1 ...................\n",
      "[CV] .... intercept_scaling=7, max_iter=750, penalty=l1, total=   0.0s\n",
      "[CV] intercept_scaling=7, max_iter=1000, penalty=l2 ..................\n",
      "[CV] ... intercept_scaling=7, max_iter=1000, penalty=l2, total=   0.0s\n",
      "[CV] intercept_scaling=7, max_iter=1000, penalty=l2 ..................\n",
      "[CV] ... intercept_scaling=7, max_iter=1000, penalty=l2, total=   0.0s\n",
      "[CV] intercept_scaling=7, max_iter=1000, penalty=l2 ..................\n",
      "[CV] ... intercept_scaling=7, max_iter=1000, penalty=l2, total=   0.0s\n",
      "[CV] intercept_scaling=7, max_iter=1000, penalty=l2 ..................\n",
      "[CV] ... intercept_scaling=7, max_iter=1000, penalty=l2, total=   0.0s\n",
      "[CV] intercept_scaling=9, max_iter=100, penalty=l1 ...................\n",
      "[CV] .... intercept_scaling=9, max_iter=100, penalty=l1, total=   0.0s\n",
      "[CV] intercept_scaling=9, max_iter=100, penalty=l1 ...................\n",
      "[CV] .... intercept_scaling=9, max_iter=100, penalty=l1, total=   0.0s\n",
      "[CV] intercept_scaling=9, max_iter=100, penalty=l1 ...................\n",
      "[CV] .... intercept_scaling=9, max_iter=100, penalty=l1, total=   0.0s\n",
      "[CV] intercept_scaling=9, max_iter=100, penalty=l1 ...................\n",
      "[CV] .... intercept_scaling=9, max_iter=100, penalty=l1, total=   0.0s\n",
      "[CV] intercept_scaling=9, max_iter=100, penalty=l1 ...................\n",
      "[CV] .... intercept_scaling=9, max_iter=100, penalty=l1, total=   0.0s\n",
      "[CV] intercept_scaling=9, max_iter=100, penalty=l1 ...................\n",
      "[CV] .... intercept_scaling=9, max_iter=100, penalty=l1, total=   0.0s\n",
      "[CV] intercept_scaling=9, max_iter=100, penalty=l1 ...................\n",
      "[CV] .... intercept_scaling=9, max_iter=100, penalty=l1, total=   0.0s\n",
      "[CV] intercept_scaling=9, max_iter=100, penalty=l1 ...................\n",
      "[CV] .... intercept_scaling=9, max_iter=100, penalty=l1, total=   0.0s\n",
      "[CV] intercept_scaling=9, max_iter=100, penalty=l1 ...................\n",
      "[CV] .... intercept_scaling=9, max_iter=100, penalty=l1, total=   0.0s\n",
      "[CV] intercept_scaling=9, max_iter=100, penalty=l1 ...................\n",
      "[CV] .... intercept_scaling=9, max_iter=100, penalty=l1, total=   0.0s\n",
      "[CV] intercept_scaling=9, max_iter=100, penalty=l2 ...................\n",
      "[CV] .... intercept_scaling=9, max_iter=100, penalty=l2, total=   0.0s\n",
      "[CV] intercept_scaling=9, max_iter=100, penalty=l2 ...................\n",
      "[CV] .... intercept_scaling=9, max_iter=100, penalty=l2, total=   0.0s\n",
      "[CV] intercept_scaling=9, max_iter=750, penalty=l1 ...................\n",
      "[CV] .... intercept_scaling=9, max_iter=750, penalty=l1, total=   0.0s\n",
      "[CV] intercept_scaling=9, max_iter=750, penalty=l1 ...................\n",
      "[CV] .... intercept_scaling=9, max_iter=750, penalty=l1, total=   0.0s\n",
      "[CV] intercept_scaling=9, max_iter=750, penalty=l1 ...................\n",
      "[CV] .... intercept_scaling=9, max_iter=750, penalty=l1, total=   0.0s\n",
      "[CV] intercept_scaling=7, max_iter=100, penalty=l2 ...................\n",
      "[CV] .... intercept_scaling=7, max_iter=100, penalty=l2, total=   0.0s\n",
      "[CV] intercept_scaling=7, max_iter=100, penalty=l2 ...................\n",
      "[CV] .... intercept_scaling=7, max_iter=100, penalty=l2, total=   0.0s\n",
      "[CV] intercept_scaling=7, max_iter=100, penalty=l2 ...................\n",
      "[CV] .... intercept_scaling=7, max_iter=100, penalty=l2, total=   0.0s\n",
      "[CV] intercept_scaling=7, max_iter=100, penalty=l2 ...................\n",
      "[CV] .... intercept_scaling=7, max_iter=100, penalty=l2, total=   0.0s\n",
      "[CV] intercept_scaling=7, max_iter=250, penalty=l1 ...................\n",
      "[CV] .... intercept_scaling=7, max_iter=250, penalty=l1, total=   0.0s\n",
      "[CV] intercept_scaling=7, max_iter=250, penalty=l1 ...................\n",
      "[CV] .... intercept_scaling=7, max_iter=250, penalty=l1, total=   0.0s\n",
      "[CV] intercept_scaling=7, max_iter=250, penalty=l1 ...................\n",
      "[CV] .... intercept_scaling=7, max_iter=250, penalty=l1, total=   0.0s\n",
      "[CV] intercept_scaling=7, max_iter=250, penalty=l1 ...................\n",
      "[CV] .... intercept_scaling=7, max_iter=250, penalty=l1, total=   0.0s\n",
      "[CV] intercept_scaling=7, max_iter=250, penalty=l1 ...................\n",
      "[CV] .... intercept_scaling=7, max_iter=250, penalty=l1, total=   0.0s\n",
      "[CV] intercept_scaling=7, max_iter=250, penalty=l1 ...................\n",
      "[CV] .... intercept_scaling=7, max_iter=250, penalty=l1, total=   0.0s\n",
      "[CV] intercept_scaling=7, max_iter=250, penalty=l1 ...................\n",
      "[CV] .... intercept_scaling=7, max_iter=250, penalty=l1, total=   0.0s\n",
      "[CV] intercept_scaling=7, max_iter=250, penalty=l1 ...................\n",
      "[CV] .... intercept_scaling=7, max_iter=250, penalty=l1, total=   0.0s\n",
      "[CV] intercept_scaling=7, max_iter=250, penalty=l1 ...................\n",
      "[CV] .... intercept_scaling=7, max_iter=250, penalty=l1, total=   0.0s\n",
      "[CV] intercept_scaling=7, max_iter=250, penalty=l1 ...................\n",
      "[CV] .... intercept_scaling=7, max_iter=250, penalty=l1, total=   0.0s\n",
      "[CV] intercept_scaling=7, max_iter=250, penalty=l2 ...................\n",
      "[CV] .... intercept_scaling=7, max_iter=250, penalty=l2, total=   0.0s\n",
      "[CV] intercept_scaling=7, max_iter=250, penalty=l2 ...................\n",
      "[CV] .... intercept_scaling=7, max_iter=250, penalty=l2, total=   0.0s\n",
      "[CV] intercept_scaling=7, max_iter=750, penalty=l1 ...................\n",
      "[CV] .... intercept_scaling=7, max_iter=750, penalty=l1, total=   0.0s\n",
      "[CV] intercept_scaling=7, max_iter=750, penalty=l1 ...................\n",
      "[CV] .... intercept_scaling=7, max_iter=750, penalty=l1, total=   0.0s\n",
      "[CV] intercept_scaling=7, max_iter=750, penalty=l1 ...................\n",
      "[CV] .... intercept_scaling=7, max_iter=750, penalty=l1, total=   0.0s\n",
      "[CV] intercept_scaling=7, max_iter=750, penalty=l1 ...................\n",
      "[CV] .... intercept_scaling=7, max_iter=750, penalty=l1, total=   0.0s\n",
      "[CV] intercept_scaling=7, max_iter=750, penalty=l1 ...................\n",
      "[CV] .... intercept_scaling=7, max_iter=750, penalty=l1, total=   0.0s\n",
      "[CV] intercept_scaling=7, max_iter=750, penalty=l1 ...................\n",
      "[CV] .... intercept_scaling=7, max_iter=750, penalty=l1, total=   0.0s\n",
      "[CV] intercept_scaling=7, max_iter=750, penalty=l2 ...................\n",
      "[CV] .... intercept_scaling=7, max_iter=750, penalty=l2, total=   0.0s\n",
      "[CV] intercept_scaling=7, max_iter=750, penalty=l2 ...................\n",
      "[CV] .... intercept_scaling=7, max_iter=750, penalty=l2, total=   0.0s\n",
      "[CV] intercept_scaling=7, max_iter=750, penalty=l2 ...................\n",
      "[CV] .... intercept_scaling=7, max_iter=750, penalty=l2, total=   0.0s\n",
      "[CV] intercept_scaling=7, max_iter=750, penalty=l2 ...................\n",
      "[CV] .... intercept_scaling=7, max_iter=750, penalty=l2, total=   0.0s\n",
      "[CV] intercept_scaling=7, max_iter=750, penalty=l2 ...................\n",
      "[CV] .... intercept_scaling=7, max_iter=750, penalty=l2, total=   0.0s\n",
      "[CV] intercept_scaling=7, max_iter=750, penalty=l2 ...................\n",
      "[CV] .... intercept_scaling=7, max_iter=750, penalty=l2, total=   0.0s\n",
      "[CV] intercept_scaling=7, max_iter=750, penalty=l2 ...................\n",
      "[CV] .... intercept_scaling=7, max_iter=750, penalty=l2, total=   0.0s\n",
      "[CV] intercept_scaling=7, max_iter=750, penalty=l2 ...................\n",
      "[CV] .... intercept_scaling=7, max_iter=750, penalty=l2, total=   0.0s\n",
      "[CV] intercept_scaling=7, max_iter=750, penalty=l2 ...................\n",
      "[CV] .... intercept_scaling=7, max_iter=750, penalty=l2, total=   0.0s\n",
      "[CV] intercept_scaling=7, max_iter=750, penalty=l2 ...................\n",
      "[CV] .... intercept_scaling=7, max_iter=750, penalty=l2, total=   0.0s\n",
      "[CV] intercept_scaling=9, max_iter=250, penalty=l1 ...................\n",
      "[CV] .... intercept_scaling=9, max_iter=250, penalty=l1, total=   0.0s\n",
      "[CV] intercept_scaling=9, max_iter=250, penalty=l1 ...................\n",
      "[CV] .... intercept_scaling=9, max_iter=250, penalty=l1, total=   0.0s\n",
      "[CV] intercept_scaling=9, max_iter=250, penalty=l2 ...................\n",
      "[CV] .... intercept_scaling=9, max_iter=250, penalty=l2, total=   0.0s\n",
      "[CV] intercept_scaling=9, max_iter=250, penalty=l2 ...................\n",
      "[CV] .... intercept_scaling=9, max_iter=250, penalty=l2, total=   0.0s\n",
      "[CV] intercept_scaling=9, max_iter=250, penalty=l2 ...................\n",
      "[CV] .... intercept_scaling=9, max_iter=250, penalty=l2, total=   0.0s\n",
      "[CV] intercept_scaling=9, max_iter=250, penalty=l2 ...................\n",
      "[CV] .... intercept_scaling=9, max_iter=250, penalty=l2, total=   0.0s\n",
      "[CV] intercept_scaling=9, max_iter=250, penalty=l2 ...................\n",
      "[CV] .... intercept_scaling=9, max_iter=250, penalty=l2, total=   0.0s\n",
      "[CV] intercept_scaling=9, max_iter=250, penalty=l2 ...................\n",
      "[CV] .... intercept_scaling=9, max_iter=250, penalty=l2, total=   0.0s\n",
      "[CV] intercept_scaling=9, max_iter=250, penalty=l2 ...................\n",
      "[CV] .... intercept_scaling=9, max_iter=250, penalty=l2, total=   0.0s\n",
      "[CV] intercept_scaling=9, max_iter=250, penalty=l2 ...................\n",
      "[CV] .... intercept_scaling=9, max_iter=250, penalty=l2, total=   0.0s\n",
      "[CV] intercept_scaling=9, max_iter=250, penalty=l2 ...................\n",
      "[CV] .... intercept_scaling=9, max_iter=250, penalty=l2, total=   0.0s\n",
      "[CV] intercept_scaling=9, max_iter=250, penalty=l2 ...................\n",
      "[CV] .... intercept_scaling=9, max_iter=250, penalty=l2, total=   0.0s\n",
      "[CV] intercept_scaling=9, max_iter=500, penalty=l1 ...................\n",
      "[CV] .... intercept_scaling=9, max_iter=500, penalty=l1, total=   0.0s\n",
      "[CV] intercept_scaling=9, max_iter=500, penalty=l1 ...................\n",
      "[CV] .... intercept_scaling=9, max_iter=500, penalty=l1, total=   0.0s\n",
      "[CV] intercept_scaling=9, max_iter=500, penalty=l1 ...................\n",
      "[CV] .... intercept_scaling=9, max_iter=500, penalty=l1, total=   0.0s\n",
      "[CV] intercept_scaling=9, max_iter=500, penalty=l1 ...................\n",
      "[CV] .... intercept_scaling=9, max_iter=500, penalty=l1, total=   0.0s\n",
      "[CV] intercept_scaling=9, max_iter=750, penalty=l1 ...................\n",
      "[CV] .... intercept_scaling=9, max_iter=750, penalty=l1, total=   0.0s\n",
      "[CV] intercept_scaling=9, max_iter=750, penalty=l1 ...................\n",
      "[CV] .... intercept_scaling=9, max_iter=750, penalty=l1, total=   0.0s\n",
      "[CV] intercept_scaling=9, max_iter=750, penalty=l2 ...................\n",
      "[CV] .... intercept_scaling=9, max_iter=750, penalty=l2, total=   0.0s\n",
      "[CV] intercept_scaling=9, max_iter=750, penalty=l2 ...................\n",
      "[CV] .... intercept_scaling=9, max_iter=750, penalty=l2, total=   0.0s\n",
      "[CV] intercept_scaling=9, max_iter=750, penalty=l2 ...................\n",
      "[CV] .... intercept_scaling=9, max_iter=750, penalty=l2, total=   0.0s\n",
      "[CV] intercept_scaling=9, max_iter=750, penalty=l2 ...................\n",
      "[CV] .... intercept_scaling=9, max_iter=750, penalty=l2, total=   0.0s\n",
      "[CV] intercept_scaling=9, max_iter=1000, penalty=l1 ..................\n",
      "[CV] ... intercept_scaling=9, max_iter=1000, penalty=l1, total=   0.0s\n",
      "[CV] intercept_scaling=9, max_iter=1000, penalty=l1 ..................\n",
      "[CV] ... intercept_scaling=9, max_iter=1000, penalty=l1, total=   0.0s\n",
      "[CV] intercept_scaling=9, max_iter=1000, penalty=l1 ..................\n",
      "[CV] ... intercept_scaling=9, max_iter=1000, penalty=l1, total=   0.0s\n",
      "[CV] intercept_scaling=9, max_iter=1000, penalty=l2 ..................\n",
      "[CV] ... intercept_scaling=9, max_iter=1000, penalty=l2, total=   0.0sThe best estimator : LogisticRegression(intercept_scaling=5, solver='liblinear')\n",
      "Best Training Score (f1): 0.8047315855181024\n"
     ]
    },
    {
     "name": "stderr",
     "output_type": "stream",
     "text": [
      "[Parallel(n_jobs=-1)]: Done 500 out of 500 | elapsed:    5.3s finished\n"
     ]
    }
   ],
   "source": [
    "paraLR = {'penalty':['l1', 'l2'], 'intercept_scaling':[1,3,5,7,9], 'max_iter':[100,250,500,750,1000]}\n",
    "\n",
    "LR = gridsearch(train, label, LogisticRegression(solver='liblinear'), paraLR)"
   ]
  },
  {
   "cell_type": "code",
   "execution_count": 35,
   "id": "5de7421b",
   "metadata": {
    "execution": {
     "iopub.execute_input": "2021-11-10T13:48:12.528416Z",
     "iopub.status.busy": "2021-11-10T13:48:12.527855Z",
     "iopub.status.idle": "2021-11-10T13:48:12.536901Z",
     "shell.execute_reply": "2021-11-10T13:48:12.537300Z",
     "shell.execute_reply.started": "2021-11-10T13:46:57.636670Z"
    },
    "papermill": {
     "duration": 0.064929,
     "end_time": "2021-11-10T13:48:12.537462",
     "exception": false,
     "start_time": "2021-11-10T13:48:12.472533",
     "status": "completed"
    },
    "tags": []
   },
   "outputs": [],
   "source": [
    "pred = pd.DataFrame(LR.predict(test))\n",
    "pred.index = test.index\n",
    "pred.columns = ['Survived']\n",
    "pred.to_csv('lr.csv')"
   ]
  },
  {
   "cell_type": "code",
   "execution_count": 36,
   "id": "055d35f2",
   "metadata": {
    "execution": {
     "iopub.execute_input": "2021-11-10T13:48:12.646782Z",
     "iopub.status.busy": "2021-11-10T13:48:12.646205Z",
     "iopub.status.idle": "2021-11-10T13:48:12.653096Z",
     "shell.execute_reply": "2021-11-10T13:48:12.653480Z",
     "shell.execute_reply.started": "2021-11-06T16:41:43.157936Z"
    },
    "papermill": {
     "duration": 0.062533,
     "end_time": "2021-11-10T13:48:12.653661",
     "exception": false,
     "start_time": "2021-11-10T13:48:12.591128",
     "status": "completed"
    },
    "tags": []
   },
   "outputs": [],
   "source": [
    "X_train, X_test, y_train, y_test = train_test_split(train, label, test_size = 0.2, stratify = label)"
   ]
  },
  {
   "cell_type": "code",
   "execution_count": 37,
   "id": "10ecdc87",
   "metadata": {
    "execution": {
     "iopub.execute_input": "2021-11-10T13:48:12.762531Z",
     "iopub.status.busy": "2021-11-10T13:48:12.761969Z",
     "iopub.status.idle": "2021-11-10T13:48:12.771256Z",
     "shell.execute_reply": "2021-11-10T13:48:12.771711Z",
     "shell.execute_reply.started": "2021-11-06T16:41:43.497678Z"
    },
    "papermill": {
     "duration": 0.065399,
     "end_time": "2021-11-10T13:48:12.771882",
     "exception": false,
     "start_time": "2021-11-10T13:48:12.706483",
     "status": "completed"
    },
    "tags": []
   },
   "outputs": [],
   "source": [
    "lr = LogisticRegression(solver='liblinear').fit(X_train, y_train) \n",
    "valid = lr.predict(X_test)"
   ]
  },
  {
   "cell_type": "code",
   "execution_count": 38,
   "id": "e7034ba8",
   "metadata": {
    "execution": {
     "iopub.execute_input": "2021-11-10T13:48:12.882694Z",
     "iopub.status.busy": "2021-11-10T13:48:12.882080Z",
     "iopub.status.idle": "2021-11-10T13:48:12.887856Z",
     "shell.execute_reply": "2021-11-10T13:48:12.888331Z",
     "shell.execute_reply.started": "2021-11-06T16:41:44.969713Z"
    },
    "papermill": {
     "duration": 0.061994,
     "end_time": "2021-11-10T13:48:12.888487",
     "exception": false,
     "start_time": "2021-11-10T13:48:12.826493",
     "status": "completed"
    },
    "tags": []
   },
   "outputs": [
    {
     "data": {
      "text/plain": [
       "0.7737226277372262"
      ]
     },
     "execution_count": 38,
     "metadata": {},
     "output_type": "execute_result"
    }
   ],
   "source": [
    "f1_score(y_test, valid)"
   ]
  },
  {
   "cell_type": "code",
   "execution_count": 39,
   "id": "cdb0d558",
   "metadata": {
    "execution": {
     "iopub.execute_input": "2021-11-10T13:48:12.996969Z",
     "iopub.status.busy": "2021-11-10T13:48:12.996319Z",
     "iopub.status.idle": "2021-11-10T13:48:13.003340Z",
     "shell.execute_reply": "2021-11-10T13:48:13.003821Z"
    },
    "papermill": {
     "duration": 0.062742,
     "end_time": "2021-11-10T13:48:13.003985",
     "exception": false,
     "start_time": "2021-11-10T13:48:12.941243",
     "status": "completed"
    },
    "tags": []
   },
   "outputs": [],
   "source": [
    "pred = pd.DataFrame(lr.predict(test))\n",
    "pred.index = test.index\n",
    "pred.columns = ['Survived']\n",
    "pred.to_csv('lr.csv')"
   ]
  },
  {
   "cell_type": "code",
   "execution_count": 40,
   "id": "07905892",
   "metadata": {
    "execution": {
     "iopub.execute_input": "2021-11-10T13:48:13.114729Z",
     "iopub.status.busy": "2021-11-10T13:48:13.111864Z",
     "iopub.status.idle": "2021-11-10T13:48:13.303794Z",
     "shell.execute_reply": "2021-11-10T13:48:13.303276Z",
     "shell.execute_reply.started": "2021-11-06T16:41:49.058706Z"
    },
    "papermill": {
     "duration": 0.247399,
     "end_time": "2021-11-10T13:48:13.303938",
     "exception": false,
     "start_time": "2021-11-10T13:48:13.056539",
     "status": "completed"
    },
    "tags": []
   },
   "outputs": [
    {
     "data": {
      "text/plain": [
       "0.7761194029850746"
      ]
     },
     "execution_count": 40,
     "metadata": {},
     "output_type": "execute_result"
    }
   ],
   "source": [
    "rf = RandomForestClassifier().fit(X_train, y_train)\n",
    "valid = rf.predict(X_test)\n",
    "\n",
    "f1_score(y_test, valid)"
   ]
  },
  {
   "cell_type": "code",
   "execution_count": 41,
   "id": "b415da67",
   "metadata": {
    "execution": {
     "iopub.execute_input": "2021-11-10T13:48:13.413882Z",
     "iopub.status.busy": "2021-11-10T13:48:13.413173Z",
     "iopub.status.idle": "2021-11-10T13:48:13.435008Z",
     "shell.execute_reply": "2021-11-10T13:48:13.435472Z",
     "shell.execute_reply.started": "2021-11-06T16:41:52.082875Z"
    },
    "papermill": {
     "duration": 0.078561,
     "end_time": "2021-11-10T13:48:13.435653",
     "exception": false,
     "start_time": "2021-11-10T13:48:13.357092",
     "status": "completed"
    },
    "tags": []
   },
   "outputs": [],
   "source": [
    "pred = pd.DataFrame(rf.predict(test))\n",
    "pred.index = test.index\n",
    "pred.columns = ['Survived']\n",
    "pred.to_csv('rf.csv')"
   ]
  },
  {
   "cell_type": "code",
   "execution_count": 42,
   "id": "7907ae8b",
   "metadata": {
    "execution": {
     "iopub.execute_input": "2021-11-10T13:48:13.544615Z",
     "iopub.status.busy": "2021-11-10T13:48:13.544020Z",
     "iopub.status.idle": "2021-11-10T13:48:13.576525Z",
     "shell.execute_reply": "2021-11-10T13:48:13.576987Z",
     "shell.execute_reply.started": "2021-11-06T16:41:58.193071Z"
    },
    "papermill": {
     "duration": 0.088486,
     "end_time": "2021-11-10T13:48:13.577163",
     "exception": false,
     "start_time": "2021-11-10T13:48:13.488677",
     "status": "completed"
    },
    "tags": []
   },
   "outputs": [
    {
     "data": {
      "text/plain": [
       "0.391304347826087"
      ]
     },
     "execution_count": 42,
     "metadata": {},
     "output_type": "execute_result"
    }
   ],
   "source": [
    "svc = SVC().fit(X_train, y_train)\n",
    "valid = svc.predict(X_test)\n",
    "\n",
    "f1_score(y_test, valid)"
   ]
  },
  {
   "cell_type": "code",
   "execution_count": 43,
   "id": "65c0b3d7",
   "metadata": {
    "execution": {
     "iopub.execute_input": "2021-11-10T13:48:13.686784Z",
     "iopub.status.busy": "2021-11-10T13:48:13.686207Z",
     "iopub.status.idle": "2021-11-10T13:48:13.701382Z",
     "shell.execute_reply": "2021-11-10T13:48:13.701929Z",
     "shell.execute_reply.started": "2021-11-06T16:42:04.18469Z"
    },
    "papermill": {
     "duration": 0.071714,
     "end_time": "2021-11-10T13:48:13.702104",
     "exception": false,
     "start_time": "2021-11-10T13:48:13.630390",
     "status": "completed"
    },
    "tags": []
   },
   "outputs": [],
   "source": [
    "pred = pd.DataFrame(svc.predict(test))\n",
    "pred.index = test.index\n",
    "pred.columns = ['Survived']\n",
    "pred.to_csv('svc.csv')"
   ]
  },
  {
   "cell_type": "code",
   "execution_count": null,
   "id": "4d7ca2b0",
   "metadata": {
    "papermill": {
     "duration": 0.084629,
     "end_time": "2021-11-10T13:48:13.853939",
     "exception": false,
     "start_time": "2021-11-10T13:48:13.769310",
     "status": "completed"
    },
    "tags": []
   },
   "outputs": [],
   "source": []
  }
 ],
 "metadata": {
  "kernelspec": {
   "display_name": "Python 3",
   "language": "python",
   "name": "python3"
  },
  "language_info": {
   "codemirror_mode": {
    "name": "ipython",
    "version": 3
   },
   "file_extension": ".py",
   "mimetype": "text/x-python",
   "name": "python",
   "nbconvert_exporter": "python",
   "pygments_lexer": "ipython3",
   "version": "3.7.10"
  },
  "papermill": {
   "default_parameters": {},
   "duration": 27.780736,
   "end_time": "2021-11-10T13:48:15.818308",
   "environment_variables": {},
   "exception": null,
   "input_path": "__notebook__.ipynb",
   "output_path": "__notebook__.ipynb",
   "parameters": {},
   "start_time": "2021-11-10T13:47:48.037572",
   "version": "2.3.3"
  }
 },
 "nbformat": 4,
 "nbformat_minor": 5
}
